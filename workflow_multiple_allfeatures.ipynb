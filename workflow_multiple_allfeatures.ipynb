{
 "cells": [
  {
   "cell_type": "code",
   "execution_count": 1,
   "metadata": {},
   "outputs": [],
   "source": [
    "# run in one batch\n",
    "import numpy as np\n",
    "import matplotlib.pyplot as plt\n",
    "import pandas as pd\n",
    "%matplotlib inline\n",
    "\n",
    "# scipy imports\n",
    "import scipy.stats as stats\n",
    "\n",
    "# sklearn imports\n",
    "from sklearn.linear_model import LinearRegression\n",
    "from sklearn.linear_model import Ridge\n",
    "from sklearn.preprocessing import PolynomialFeatures\n",
    "from sklearn.pipeline import make_pipeline"
   ]
  },
  {
   "cell_type": "code",
   "execution_count": 2,
   "metadata": {},
   "outputs": [],
   "source": [
    "# define cleaning functions\n",
    "def clean_q_data(dataframe):\n",
    "    ''' \n",
    "    input: dataframe with re-named columns\n",
    "    output: dataframe\n",
    "    '''\n",
    "    # datetime operations\n",
    "    q_df['dt'] = pd.to_datetime(q_df['dt_string'])\n",
    "    q_df['year'] = q_df['dt'].dt.year\n",
    "    q_df['month'] = q_df['dt'].dt.month\n",
    "    q_df['day'] = q_df['dt'].dt.day\n",
    "\n",
    "    # new datetime without time\n",
    "    q_df['timestamp'] = pd.to_datetime(q_df[['year','month', 'day']], errors='coerce')\n",
    "\n",
    "    # make series from groupby, this has timestamp as index\n",
    "    daily_q = q_df.groupby(['timestamp'])['cfs'].mean()\n",
    "\n",
    "    # make df from series\n",
    "    daily_q_df = pd.DataFrame(daily_q)\n",
    "    return(daily_q_df)\n",
    "\n",
    "def clean_snow_data(dataframe):\n",
    "    ''' \n",
    "    input: dataframe with re-named columns\n",
    "    output: dataframe\n",
    "    '''\n",
    "    # unit conversions to metric\n",
    "    snow_df['swe_start_m'] = snow_df.swe_start_in * 0.0254\n",
    "    snow_df['airtemp_max_C'] = 5/9*(snow_df.airtemp_max_F - 32)\n",
    "    snow_df['airtemp_min_C'] = 5/9*(snow_df.airtemp_min_F - 32)\n",
    "    snow_df['airtemp_mean_C'] = 5/9*(snow_df.airtemp_mean_F - 32)\n",
    "    snow_df['precip_start_m'] = snow_df.precip_start_in * 0.0254\n",
    "    snow_df['precip_incr_m'] = snow_df.precip_incr_in * 0.0254\n",
    "    \n",
    "    # drop standard unit columns\n",
    "    snow_df.drop(['swe_start_in'], axis=1, inplace=True)\n",
    "    snow_df.drop(['airtemp_max_F'], axis=1, inplace=True)\n",
    "    snow_df.drop(['airtemp_min_F'], axis=1, inplace=True)\n",
    "    snow_df.drop(['airtemp_mean_F'], axis=1, inplace=True)\n",
    "    snow_df.drop(['precip_start_in'], axis=1, inplace=True)\n",
    "    snow_df.drop(['precip_incr_in'], axis=1, inplace=True)\n",
    "    \n",
    "    # datetime operations\n",
    "    snow_df['dt'] = pd.to_datetime(snow_df['date'])\n",
    "    snow_df['year'] = snow_df['dt'].dt.year\n",
    "    \n",
    "    # remove rows with swe=0\n",
    "    snow_df.drop(snow_df[snow_df.swe_start_m == 0].index, inplace=True)\n",
    "\n",
    "    #set snow df index to dt\n",
    "    snow_df.set_index(snow_df.dt, inplace=True)\n",
    "    return(snow_df)\n",
    "\n",
    "def clean_outliers(df):\n",
    "    ''' \n",
    "    input: dataframe with re-named columns\n",
    "    output: dataframe\n",
    "    '''\n",
    "    # clear min airtemp outliers\n",
    "    df.drop(df[df.airtemp_min_C > 18].index, inplace=True)\n",
    "    df.drop(df[df.airtemp_min_C < -40].index, inplace=True)\n",
    "    # clear max airtemp outliers\n",
    "    df.drop(df[df.airtemp_max_C > 50].index, inplace=True)\n",
    "    df.drop(df[df.airtemp_max_C < -45].index, inplace=True)\n",
    "    return(df)"
   ]
  },
  {
   "cell_type": "code",
   "execution_count": 3,
   "metadata": {},
   "outputs": [],
   "source": [
    "\n",
    "    \n",
    "    # annual peak swe\n",
    "    #peak_swe = snow_df.groupby(snow_df.year)['swe_start_in'].max()\n",
    "\n",
    "    # annual sum swe\n",
    "    #sum_swe = snow_df.groupby(snow_df.year)['swe_start_in'].cumsum()"
   ]
  },
  {
   "cell_type": "code",
   "execution_count": 4,
   "metadata": {},
   "outputs": [],
   "source": [
    "# load q data\n",
    "q_df = pd.read_csv('q-data/gunnison_delta.csv',sep='\\t',header=32) # read csv to dataframe\n",
    "q_df.columns = ['USGS', 'id', 'dt_string', 'tz', 'cfs', 'junk'] # rename columns\n",
    "\n",
    "daily_q_df = clean_q_data(q_df)"
   ]
  },
  {
   "cell_type": "code",
   "execution_count": 5,
   "metadata": {},
   "outputs": [
    {
     "name": "stdout",
     "output_type": "stream",
     "text": [
      "7\n"
     ]
    }
   ],
   "source": [
    "# load snotel data\n",
    "stationnames = ['680_park_cone','762_slumgullion','701_porphyry_creek','737_schofield_pass','682_park_reservoir',\n",
    "                '669_north_lost_trail','1059_cochetopa_pass']\n",
    "data_lst = []\n",
    "count = 0\n",
    "for stationname in stationnames:\n",
    "    snow_df = pd.read_csv('snotel-data/snotel_{}.csv'.format(stationname),header=58) \n",
    "    snow_df.columns = ['date', 'swe_start_in',\n",
    "       'precip_start_in',\n",
    "       'airtemp_max_F', 'airtemp_min_F',\n",
    "       'airtemp_mean_F', 'precip_incr_in']\n",
    "    # clean snow data\n",
    "    snow_df = clean_snow_data(snow_df)\n",
    "    # merge datasets\n",
    "    merged_df = pd.merge(snow_df, daily_q_df, how='left', left_index=True, right_index=True)\n",
    "\n",
    "    data_lst.append(merged_df)\n",
    "    count += 1\n",
    "print(count)\n",
    "data_df = pd.concat(data_lst, axis=0, ignore_index = True)"
   ]
  },
  {
   "cell_type": "code",
   "execution_count": 6,
   "metadata": {},
   "outputs": [],
   "source": [
    "# clean outliers\n",
    "data_clean = clean_outliers(data_df)"
   ]
  },
  {
   "cell_type": "code",
   "execution_count": null,
   "metadata": {},
   "outputs": [],
   "source": []
  },
  {
   "cell_type": "code",
   "execution_count": null,
   "metadata": {},
   "outputs": [],
   "source": []
  },
  {
   "cell_type": "code",
   "execution_count": 7,
   "metadata": {},
   "outputs": [],
   "source": [
    "# bin by min temp\n",
    "disc = 0.5 # discretization to bin, in degrees C\n",
    "bin_idxs = np.arange(data_clean.airtemp_min_C.min(),data_clean.airtemp_min_C.max(),disc,dtype='float')\n",
    "bins, binvals = pd.cut(data_clean.airtemp_min_C,bin_idxs,right=True,retbins=True)\n",
    "data_clean['bins'] = bins.values\n",
    "maxQ_binned = data_clean.groupby(data_clean.bins)['cfs'].max()\n",
    "#ok here\n",
    "\n",
    "# data for new regression\n",
    "SWE_binned = data_clean.groupby(data_clean.bins)['swe_start_m'].mean()\n",
    "MaxAir_binned = data_clean.groupby(data_clean.bins)['airtemp_max_C'].mean()\n",
    "MinAir_binned = data_clean.groupby(data_clean.bins)['airtemp_min_C'].mean()\n",
    "MeanAir_binned = data_clean.groupby(data_clean.bins)['airtemp_mean_C'].mean()\n",
    "PreStart_binned = data_clean.groupby(data_clean.bins)['precip_start_m'].mean()\n",
    "PreIncr_binned = data_clean.groupby(data_clean.bins)['precip_incr_m'].mean()\n",
    "\n",
    "data_binned = pd.concat([SWE_binned,MaxAir_binned,MinAir_binned,MeanAir_binned,PreStart_binned,PreIncr_binned,maxQ_binned], axis=1)\n",
    "# ok here\n",
    "\n",
    "# drop nans\n",
    "data_clean_binned = data_binned.dropna()\n"
   ]
  },
  {
   "cell_type": "code",
   "execution_count": 8,
   "metadata": {},
   "outputs": [],
   "source": [
    "#np.shape(data_clean_binned)"
   ]
  },
  {
   "cell_type": "code",
   "execution_count": 9,
   "metadata": {},
   "outputs": [
    {
     "data": {
      "text/html": [
       "<div>\n",
       "<style scoped>\n",
       "    .dataframe tbody tr th:only-of-type {\n",
       "        vertical-align: middle;\n",
       "    }\n",
       "\n",
       "    .dataframe tbody tr th {\n",
       "        vertical-align: top;\n",
       "    }\n",
       "\n",
       "    .dataframe thead th {\n",
       "        text-align: right;\n",
       "    }\n",
       "</style>\n",
       "<table border=\"1\" class=\"dataframe\">\n",
       "  <thead>\n",
       "    <tr style=\"text-align: right;\">\n",
       "      <th></th>\n",
       "      <th>swe_start_m</th>\n",
       "      <th>airtemp_max_C</th>\n",
       "      <th>airtemp_min_C</th>\n",
       "      <th>airtemp_mean_C</th>\n",
       "      <th>precip_start_m</th>\n",
       "      <th>precip_incr_m</th>\n",
       "      <th>cfs</th>\n",
       "    </tr>\n",
       "    <tr>\n",
       "      <th>bins</th>\n",
       "      <th></th>\n",
       "      <th></th>\n",
       "      <th></th>\n",
       "      <th></th>\n",
       "      <th></th>\n",
       "      <th></th>\n",
       "      <th></th>\n",
       "    </tr>\n",
       "  </thead>\n",
       "  <tbody>\n",
       "    <tr>\n",
       "      <th>(-36.778, -36.278]</th>\n",
       "      <td>0.403860</td>\n",
       "      <td>-16.666667</td>\n",
       "      <td>-36.666667</td>\n",
       "      <td>-26.666667</td>\n",
       "      <td>0.490220</td>\n",
       "      <td>0.000000</td>\n",
       "      <td>538.937500</td>\n",
       "    </tr>\n",
       "    <tr>\n",
       "      <th>(-36.278, -35.778]</th>\n",
       "      <td>0.289560</td>\n",
       "      <td>-9.444444</td>\n",
       "      <td>-36.111111</td>\n",
       "      <td>-24.722222</td>\n",
       "      <td>0.339090</td>\n",
       "      <td>0.000000</td>\n",
       "      <td>2512.395833</td>\n",
       "    </tr>\n",
       "    <tr>\n",
       "      <th>(-35.778, -35.278]</th>\n",
       "      <td>0.179705</td>\n",
       "      <td>-13.333333</td>\n",
       "      <td>-35.555556</td>\n",
       "      <td>-25.000000</td>\n",
       "      <td>0.236220</td>\n",
       "      <td>0.002540</td>\n",
       "      <td>1328.333333</td>\n",
       "    </tr>\n",
       "    <tr>\n",
       "      <th>(-34.778, -34.278]</th>\n",
       "      <td>0.150223</td>\n",
       "      <td>-14.523810</td>\n",
       "      <td>-34.444444</td>\n",
       "      <td>-24.206349</td>\n",
       "      <td>0.188323</td>\n",
       "      <td>0.001814</td>\n",
       "      <td>1335.729167</td>\n",
       "    </tr>\n",
       "    <tr>\n",
       "      <th>(-34.278, -33.778]</th>\n",
       "      <td>0.281940</td>\n",
       "      <td>-12.037037</td>\n",
       "      <td>-33.888889</td>\n",
       "      <td>-24.259259</td>\n",
       "      <td>0.320887</td>\n",
       "      <td>0.000847</td>\n",
       "      <td>1805.208333</td>\n",
       "    </tr>\n",
       "    <tr>\n",
       "      <th>(-33.778, -33.278]</th>\n",
       "      <td>0.177094</td>\n",
       "      <td>-12.253086</td>\n",
       "      <td>-33.333333</td>\n",
       "      <td>-23.104575</td>\n",
       "      <td>0.202777</td>\n",
       "      <td>0.001411</td>\n",
       "      <td>3256.458333</td>\n",
       "    </tr>\n",
       "    <tr>\n",
       "      <th>(-33.278, -32.778]</th>\n",
       "      <td>0.162560</td>\n",
       "      <td>-8.020833</td>\n",
       "      <td>-32.777778</td>\n",
       "      <td>-20.000000</td>\n",
       "      <td>0.192723</td>\n",
       "      <td>0.000794</td>\n",
       "      <td>1871.875000</td>\n",
       "    </tr>\n",
       "    <tr>\n",
       "      <th>(-32.278, -31.778]</th>\n",
       "      <td>0.185783</td>\n",
       "      <td>-10.264550</td>\n",
       "      <td>-32.222222</td>\n",
       "      <td>-21.375661</td>\n",
       "      <td>0.205135</td>\n",
       "      <td>0.001089</td>\n",
       "      <td>3129.166667</td>\n",
       "    </tr>\n",
       "    <tr>\n",
       "      <th>(-31.778, -31.278]</th>\n",
       "      <td>0.158750</td>\n",
       "      <td>-4.188034</td>\n",
       "      <td>-31.666667</td>\n",
       "      <td>-16.866667</td>\n",
       "      <td>0.189132</td>\n",
       "      <td>0.001172</td>\n",
       "      <td>3534.375000</td>\n",
       "    </tr>\n",
       "    <tr>\n",
       "      <th>(-31.278, -30.778]</th>\n",
       "      <td>0.178082</td>\n",
       "      <td>-7.777778</td>\n",
       "      <td>-31.111111</td>\n",
       "      <td>-20.046296</td>\n",
       "      <td>0.208915</td>\n",
       "      <td>0.001058</td>\n",
       "      <td>1867.916667</td>\n",
       "    </tr>\n",
       "  </tbody>\n",
       "</table>\n",
       "</div>"
      ],
      "text/plain": [
       "                    swe_start_m  airtemp_max_C  airtemp_min_C  airtemp_mean_C  \\\n",
       "bins                                                                            \n",
       "(-36.778, -36.278]     0.403860     -16.666667     -36.666667      -26.666667   \n",
       "(-36.278, -35.778]     0.289560      -9.444444     -36.111111      -24.722222   \n",
       "(-35.778, -35.278]     0.179705     -13.333333     -35.555556      -25.000000   \n",
       "(-34.778, -34.278]     0.150223     -14.523810     -34.444444      -24.206349   \n",
       "(-34.278, -33.778]     0.281940     -12.037037     -33.888889      -24.259259   \n",
       "(-33.778, -33.278]     0.177094     -12.253086     -33.333333      -23.104575   \n",
       "(-33.278, -32.778]     0.162560      -8.020833     -32.777778      -20.000000   \n",
       "(-32.278, -31.778]     0.185783     -10.264550     -32.222222      -21.375661   \n",
       "(-31.778, -31.278]     0.158750      -4.188034     -31.666667      -16.866667   \n",
       "(-31.278, -30.778]     0.178082      -7.777778     -31.111111      -20.046296   \n",
       "\n",
       "                    precip_start_m  precip_incr_m          cfs  \n",
       "bins                                                            \n",
       "(-36.778, -36.278]        0.490220       0.000000   538.937500  \n",
       "(-36.278, -35.778]        0.339090       0.000000  2512.395833  \n",
       "(-35.778, -35.278]        0.236220       0.002540  1328.333333  \n",
       "(-34.778, -34.278]        0.188323       0.001814  1335.729167  \n",
       "(-34.278, -33.778]        0.320887       0.000847  1805.208333  \n",
       "(-33.778, -33.278]        0.202777       0.001411  3256.458333  \n",
       "(-33.278, -32.778]        0.192723       0.000794  1871.875000  \n",
       "(-32.278, -31.778]        0.205135       0.001089  3129.166667  \n",
       "(-31.778, -31.278]        0.189132       0.001172  3534.375000  \n",
       "(-31.278, -30.778]        0.208915       0.001058  1867.916667  "
      ]
     },
     "execution_count": 9,
     "metadata": {},
     "output_type": "execute_result"
    }
   ],
   "source": [
    "data_clean_binned.head(10)\n"
   ]
  },
  {
   "cell_type": "code",
   "execution_count": 10,
   "metadata": {},
   "outputs": [],
   "source": [
    "#feature engineer -squared terms\n",
    "#model_df = data_clean_binned\n",
    "# model_df['airmin2'] = model_df.airtemp_min_C**2*-1\n",
    "# model_df['airmin3'] = model_df.airtemp_min_C**3\n",
    "# model_df['airmin4'] = model_df.airtemp_min_C**4*-1"
   ]
  },
  {
   "cell_type": "code",
   "execution_count": 11,
   "metadata": {},
   "outputs": [],
   "source": [
    "# polynomial feature engineering and ridge regression\n",
    "model_df = data_clean_binned\n",
    "cols = model_df.columns\n",
    "# regression\n",
    "X = model_df[cols[:-1]]\n",
    "y = model_df[cols[-1]]\n"
   ]
  },
  {
   "cell_type": "code",
   "execution_count": null,
   "metadata": {},
   "outputs": [],
   "source": []
  },
  {
   "cell_type": "code",
   "execution_count": 12,
   "metadata": {},
   "outputs": [
    {
     "name": "stdout",
     "output_type": "stream",
     "text": [
      "R2 = 0.936\n"
     ]
    }
   ],
   "source": [
    "# make and fit model\n",
    "degree = 2\n",
    "model = make_pipeline(PolynomialFeatures(degree), Ridge());\n",
    "model.fit(X, y);\n",
    "y_hat = model.predict(X)\n",
    "# R2 score\n",
    "score = model.score(X,y)\n",
    "print('R2 = {0:.3f}'.format(score))"
   ]
  },
  {
   "cell_type": "code",
   "execution_count": null,
   "metadata": {},
   "outputs": [],
   "source": []
  },
  {
   "cell_type": "code",
   "execution_count": 13,
   "metadata": {},
   "outputs": [
    {
     "data": {
      "image/png": "[encoded data removed]",
      "text/plain": [
       "<matplotlib.figure.Figure at 0x1109a8390>"
      ]
     },
     "metadata": {},
     "output_type": "display_data"
    }
   ],
   "source": [
    "# plot predictions\n",
    "# plots swe A, B\n",
    "df = model_df # dataframe to plot from\n",
    "y # already made\n",
    "y_hat # already made\n",
    "figname = 'gunnison_river_7stations_skpoly2'\n",
    "\n",
    "# plot\n",
    "fig, ax = plt.subplots(2,3,figsize=(16,8));\n",
    "arrs = [(0,0),(0,1),(0,2),(1,0),(1,1),(1,2)]\n",
    "for x, col in enumerate(cols[:-1]):\n",
    "    ax[arrs[x]].plot(df[col].values,y,'bo')\n",
    "    ax[arrs[x]].set_ylabel('q (cfs)');\n",
    "    ax[arrs[x]].set_xlabel(cols[x])\n",
    "    ax[arrs[x]].plot(df[col].values,y_hat,'ko')\n",
    "    ax[arrs[x]].legend(['actual','predicted'])\n",
    "plt.suptitle('{}, R2 = {}'.format(figname,str(round(score,3))),fontsize=14)\n",
    "\n",
    "# save fig\n",
    "fig.set_size_inches(16, 8)\n",
    "plt.savefig('{}.png'.format(figname),format='png', dpi=300)"
   ]
  },
  {
   "cell_type": "code",
   "execution_count": null,
   "metadata": {},
   "outputs": [],
   "source": []
  },
  {
   "cell_type": "code",
   "execution_count": null,
   "metadata": {},
   "outputs": [],
   "source": []
  },
  {
   "cell_type": "code",
   "execution_count": null,
   "metadata": {},
   "outputs": [],
   "source": []
  },
  {
   "cell_type": "code",
   "execution_count": null,
   "metadata": {},
   "outputs": [],
   "source": []
  },
  {
   "cell_type": "code",
   "execution_count": null,
   "metadata": {},
   "outputs": [],
   "source": [
    "\n"
   ]
  },
  {
   "cell_type": "code",
   "execution_count": null,
   "metadata": {},
   "outputs": [],
   "source": []
  },
  {
   "cell_type": "code",
   "execution_count": null,
   "metadata": {},
   "outputs": [],
   "source": []
  },
  {
   "cell_type": "code",
   "execution_count": null,
   "metadata": {},
   "outputs": [],
   "source": []
  },
  {
   "cell_type": "code",
   "execution_count": null,
   "metadata": {},
   "outputs": [],
   "source": []
  },
  {
   "cell_type": "code",
   "execution_count": null,
   "metadata": {},
   "outputs": [],
   "source": []
  },
  {
   "cell_type": "code",
   "execution_count": null,
   "metadata": {},
   "outputs": [],
   "source": []
  },
  {
   "cell_type": "code",
   "execution_count": null,
   "metadata": {},
   "outputs": [],
   "source": []
  },
  {
   "cell_type": "code",
   "execution_count": null,
   "metadata": {},
   "outputs": [],
   "source": []
  },
  {
   "cell_type": "code",
   "execution_count": null,
   "metadata": {},
   "outputs": [],
   "source": []
  },
  {
   "cell_type": "code",
   "execution_count": null,
   "metadata": {},
   "outputs": [],
   "source": []
  },
  {
   "cell_type": "code",
   "execution_count": null,
   "metadata": {},
   "outputs": [],
   "source": []
  }
 ],
 "metadata": {
  "kernelspec": {
   "display_name": "Python 3",
   "language": "python",
   "name": "python3"
  },
  "language_info": {
   "codemirror_mode": {
    "name": "ipython",
    "version": 3
   },
   "file_extension": ".py",
   "mimetype": "text/x-python",
   "name": "python",
   "nbconvert_exporter": "python",
   "pygments_lexer": "ipython3",
   "version": "3.6.4"
  }
 },
 "nbformat": 4,
 "nbformat_minor": 2
}
