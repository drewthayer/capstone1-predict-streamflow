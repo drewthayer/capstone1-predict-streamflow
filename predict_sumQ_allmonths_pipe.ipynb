{
 "cells": [
  {
   "cell_type": "code",
   "execution_count": 5,
   "metadata": {},
   "outputs": [],
   "source": [
    "import numpy as np\n",
    "import matplotlib.pyplot as plt\n",
    "import pandas as pd\n",
    "%matplotlib inline\n",
    "\n",
    "# scipy imports\n",
    "import scipy.stats as stats\n",
    "\n",
    "# sklearn imports\n",
    "from sklearn.linear_model import LinearRegression\n",
    "from sklearn.linear_model import Ridge\n",
    "from sklearn.linear_model import Lasso\n",
    "from sklearn.preprocessing import PolynomialFeatures\n",
    "from sklearn.preprocessing import StandardScaler\n",
    "from sklearn.pipeline import make_pipeline\n",
    "from sklearn.pipeline import Pipeline\n",
    "from sklearn.model_selection import KFold\n",
    "from sklearn.model_selection import train_test_split\n",
    "from sklearn.model_selection import TimeSeriesSplit\n",
    "from sklearn.model_selection import cross_val_score\n",
    "from sklearn.metrics import mean_squared_error\n"
   ]
  },
  {
   "cell_type": "code",
   "execution_count": 6,
   "metadata": {},
   "outputs": [],
   "source": [
    "# define cleaning functions\n",
    "def clean_q_data_annual(dataframe):\n",
    "    ''' \n",
    "    input: dataframe with re-named columns\n",
    "    output: dataframe, series, series\n",
    "    '''\n",
    "    # datetime operations\n",
    "    q_df['dt'] = pd.to_datetime(q_df['dt_string'])\n",
    "    q_df['year'] = q_df['dt'].dt.year\n",
    "    q_df['month'] = q_df['dt'].dt.month\n",
    "    q_df['day'] = q_df['dt'].dt.day\n",
    "\n",
    "    # new datetime without time\n",
    "    q_df['timestamp'] = pd.to_datetime(q_df[['year','month', 'day']], errors='coerce')\n",
    "\n",
    "    # make series from groupby, this has timestamp as index\n",
    "    daily_q = q_df.groupby(['timestamp'])['cfs'].mean()\n",
    "\n",
    "    # make df from series\n",
    "    daily_q_df = pd.DataFrame(daily_q)\n",
    "    \n",
    "    # annual peak Q\n",
    "    annual_peak_q = q_df.groupby(q_df.year)['cfs'].max()\n",
    "\n",
    "#     # cumulative Q\n",
    "#     sum_q = q_df.groupby(q_df.year)['cfs'].cumsum()\n",
    "#     sum_q_df = pd.DataFrame(q_df.year,sum_q).reset_index()\n",
    "#     annual_sum_q = sum_q_df.groupby(sum_q_df.year)['cfs'].max()\n",
    "\n",
    "    return(daily_q_df, annual_peak_q)\n",
    "\n",
    "def clean_snow_data_annual(dataframe):\n",
    "    ''' \n",
    "    input: dataframe with re-named columns\n",
    "    output: dataframe\n",
    "    '''\n",
    "    snow_df = dataframe\n",
    "    # unit conversions to metric\n",
    "    snow_df['swe_start_m'] = snow_df.swe_start_in * 0.0254\n",
    "    snow_df['airtemp_max_C'] = 5/9*(snow_df.airtemp_max_F - 32)\n",
    "    snow_df['airtemp_min_C'] = 5/9*(snow_df.airtemp_min_F - 32)\n",
    "    snow_df['airtemp_mean_C'] = 5/9*(snow_df.airtemp_mean_F - 32)\n",
    "    snow_df['precip_start_m'] = snow_df.precip_start_in * 0.0254\n",
    "    snow_df['precip_incr_m'] = snow_df.precip_incr_in * 0.0254\n",
    "    \n",
    "    # drop standard unit columns\n",
    "    snow_df.drop(['swe_start_in'], axis=1, inplace=True)\n",
    "    snow_df.drop(['airtemp_max_F'], axis=1, inplace=True)\n",
    "    snow_df.drop(['airtemp_min_F'], axis=1, inplace=True)\n",
    "    snow_df.drop(['airtemp_mean_F'], axis=1, inplace=True)\n",
    "    snow_df.drop(['precip_start_in'], axis=1, inplace=True)\n",
    "    snow_df.drop(['precip_incr_in'], axis=1, inplace=True)\n",
    "    \n",
    "    # datetime operations\n",
    "    snow_df['dt'] = pd.to_datetime(snow_df['dt_string'])\n",
    "    snow_df['year'] = snow_df['dt'].dt.year\n",
    "    snow_df['month'] = snow_df['dt'].dt.month\n",
    "    \n",
    "    # drop datetime string column\n",
    "    snow_df.drop(['dt_string'], axis=1, inplace=True)\n",
    "\n",
    "    # remove rows with swe=0\n",
    "    snow_df.drop(snow_df[snow_df.swe_start_m == 0].index, inplace=True)\n",
    "    \n",
    "    # remove september data (highly volatile and uncharacteristic)\n",
    "    snow_df.drop(snow_df[snow_df.month == 9].index, inplace=True)\n",
    "\n",
    "    #set snow df index to dt\n",
    "    snow_df.set_index(snow_df.dt, inplace=True)\n",
    "    \n",
    "    # clean airtemp outliers\n",
    "    snow_df = remove_outliers(snow_df)\n",
    "    \n",
    "    # annual peak swe\n",
    "    annual_peak_swe = snow_df.groupby(snow_df.year)['swe_start_m'].max()\n",
    "    \n",
    "    # annual cumulative swe\n",
    "    cumsum_swe = snow_df.groupby(snow_df['year'])['swe_start_m'].cumsum()\n",
    "    \n",
    "    # monthly cumulative swe\n",
    "    swe_monthly = snow_df.groupby([snow_df['year'], snow_df['month']])['swe_start_m'].cumsum()\n",
    "    \n",
    "    return(snow_df, annual_peak_swe, cumsum_swe, swe_monthly)\n",
    "\n",
    "def remove_outliers(df):\n",
    "    ''' \n",
    "    input: dataframe of snotel data with columns re-named for degrees C\n",
    "    output: dataframe\n",
    "    '''\n",
    "    # clear min airtemp outliers\n",
    "    df.drop(df[df.airtemp_min_C > 18].index, inplace=True)\n",
    "    df.drop(df[df.airtemp_min_C < -40].index, inplace=True)\n",
    "    # clear max airtemp outliers\n",
    "    df.drop(df[df.airtemp_max_C > 50].index, inplace=True)\n",
    "    df.drop(df[df.airtemp_max_C < -45].index, inplace=True)\n",
    "    return(df)"
   ]
  },
  {
   "cell_type": "code",
   "execution_count": 7,
   "metadata": {},
   "outputs": [],
   "source": [
    "# load q data\n",
    "q_df = pd.read_csv('q-data/gunnison_delta.csv',sep='\\t',header=32) # read csv to dataframe\n",
    "q_df.columns = ['USGS', 'id', 'dt_string', 'tz', 'cfs', 'junk'] # rename columns\n",
    "\n",
    "daily_q_df, annual_peak_q = clean_q_data_annual(q_df)\n",
    "\n",
    "# annual sum q\n",
    "#annual_cumsum_q = daily_q_df.groupby(daily_q_df.index.year)['cfs'].cumsum()\n",
    "#annual_sum_q = annual_cumsum_q.groupby(annual_cumsum_q.index.year).max()"
   ]
  },
  {
   "cell_type": "code",
   "execution_count": 8,
   "metadata": {},
   "outputs": [
    {
     "name": "stdout",
     "output_type": "stream",
     "text": [
      "13\n"
     ]
    }
   ],
   "source": [
    "# load snotel data\n",
    "stationnames = ['680_park_cone','762_slumgullion','701_porphyry_creek','737_schofield_pass',\n",
    "                '682_park_reservoir','669_north_lost_trail','1059_cochetopa_pass','618_mcclure_pass',\n",
    "                '409_columbine_pass','675_overland_reservoir','622_mesa_lakes','538_idarado',\n",
    "               '713_red_mtn_pass']\n",
    "\n",
    "# make data column names\n",
    "cols_data = []\n",
    "for station in stationnames:\n",
    "    sum_list = '{}_sumswe'.format(station[:3])\n",
    "    cols_data.append(sum_list)\n",
    "    peak_list = '{}_peakswe'.format(station[:3])\n",
    "    cols_data.append(peak_list)\n",
    "cols_data.append('peak_q')\n",
    "cols_data.append('sum_q')\n",
    "\n",
    "# merge snotel data with q data\n",
    "data_lst = []\n",
    "count = 0\n",
    "#peakswe_lst = []\n",
    "#sumswe_lst = []\n",
    "#monthly_lst = []\n",
    "for stationname in stationnames:\n",
    "    snow_df = pd.read_csv('snotel-data/snotel_{}.csv'.format(stationname),header=58) \n",
    "    snow_df.columns = ['dt_string', 'swe_start_in',\n",
    "       'precip_start_in',\n",
    "       'airtemp_max_F', 'airtemp_min_F',\n",
    "       'airtemp_mean_F', 'precip_incr_in']\n",
    "    \n",
    "    snow_df['stn'] = stationname\n",
    "    \n",
    "    # import cleaned snow data\n",
    "    snow_df, annual_peak_swe, cumsum_swe, swe_monthly = clean_snow_data_annual(snow_df)\n",
    "\n",
    "    # merge datasets\n",
    "    merged_df = pd.merge(snow_df, daily_q_df, how='left', left_index=True, right_index=True)\n",
    "\n",
    "    data_lst.append(merged_df)\n",
    "    #peakswe_lst.append(annual_peak_swe)\n",
    "    #sumswe_lst.append(cumsum_swe)\n",
    "    #monthly_lst.append(swe_monthly)\n",
    "    count += 1\n",
    "print(count)\n",
    "\n",
    "# contatenate data\n",
    "data_df = pd.concat(data_lst, axis=0, ignore_index = True)\n",
    "\n",
    "# set index as datetime\n",
    "data_df.set_index('dt', inplace=True);\n",
    "\n"
   ]
  },
  {
   "cell_type": "markdown",
   "metadata": {},
   "source": [
    "## calculate cumulative monthly swe and q"
   ]
  },
  {
   "cell_type": "code",
   "execution_count": 9,
   "metadata": {},
   "outputs": [],
   "source": [
    "# cumulative monthly swe\n",
    "swe_cumsum = data_df.groupby(['year','month'])['swe_start_m'].cumsum()\n",
    "data_df['swe_cumsum'] = swe_cumsum\n",
    "\n",
    "# cumulative monthly cfs\n",
    "cfs_cumsum = data_df.groupby(['year','month'])['cfs'].cumsum()\n",
    "data_df['cfs_cumsum'] = cfs_cumsum\n",
    "\n"
   ]
  },
  {
   "cell_type": "code",
   "execution_count": 10,
   "metadata": {},
   "outputs": [],
   "source": [
    "# get dummies for station names \n",
    "data_all = pd.get_dummies(data_df)\n",
    "\n"
   ]
  },
  {
   "cell_type": "markdown",
   "metadata": {},
   "source": [
    "### remove features based on iterative model assessments"
   ]
  },
  {
   "cell_type": "code",
   "execution_count": 11,
   "metadata": {},
   "outputs": [],
   "source": [
    "# drop cfs column\n",
    "#data_all.drop('cfs', axis=1, inplace=True)\n",
    "data_all.drop('cfs_cumsum', axis=1, inplace=True)\n",
    "# drop month, year\n",
    "data_all.drop('year', axis=1, inplace=True)\n",
    "data_all.drop('month', axis=1, inplace=True)\n",
    "#data_all.drop('airtemp_max_C', axis=1, inplace=True)\n",
    "#data_all.drop('airtemp_mean_C', axis=1, inplace=True)\n",
    "#data_all.drop('precip_incr_m', axis=1, inplace=True)"
   ]
  },
  {
   "cell_type": "code",
   "execution_count": null,
   "metadata": {},
   "outputs": [],
   "source": []
  },
  {
   "cell_type": "code",
   "execution_count": 29,
   "metadata": {},
   "outputs": [
    {
     "data": {
      "text/html": [
       "<div>\n",
       "<style scoped>\n",
       "    .dataframe tbody tr th:only-of-type {\n",
       "        vertical-align: middle;\n",
       "    }\n",
       "\n",
       "    .dataframe tbody tr th {\n",
       "        vertical-align: top;\n",
       "    }\n",
       "\n",
       "    .dataframe thead th {\n",
       "        text-align: right;\n",
       "    }\n",
       "</style>\n",
       "<table border=\"1\" class=\"dataframe\">\n",
       "  <thead>\n",
       "    <tr style=\"text-align: right;\">\n",
       "      <th></th>\n",
       "      <th>swe_start_m</th>\n",
       "      <th>airtemp_max_C</th>\n",
       "      <th>airtemp_min_C</th>\n",
       "      <th>airtemp_mean_C</th>\n",
       "      <th>precip_start_m</th>\n",
       "      <th>precip_incr_m</th>\n",
       "      <th>cfs</th>\n",
       "      <th>swe_cumsum</th>\n",
       "      <th>stn_1059_cochetopa_pass</th>\n",
       "      <th>stn_409_columbine_pass</th>\n",
       "      <th>...</th>\n",
       "      <th>stn_618_mcclure_pass</th>\n",
       "      <th>stn_622_mesa_lakes</th>\n",
       "      <th>stn_669_north_lost_trail</th>\n",
       "      <th>stn_675_overland_reservoir</th>\n",
       "      <th>stn_680_park_cone</th>\n",
       "      <th>stn_682_park_reservoir</th>\n",
       "      <th>stn_701_porphyry_creek</th>\n",
       "      <th>stn_713_red_mtn_pass</th>\n",
       "      <th>stn_737_schofield_pass</th>\n",
       "      <th>stn_762_slumgullion</th>\n",
       "    </tr>\n",
       "    <tr>\n",
       "      <th>dt</th>\n",
       "      <th></th>\n",
       "      <th></th>\n",
       "      <th></th>\n",
       "      <th></th>\n",
       "      <th></th>\n",
       "      <th></th>\n",
       "      <th></th>\n",
       "      <th></th>\n",
       "      <th></th>\n",
       "      <th></th>\n",
       "      <th></th>\n",
       "      <th></th>\n",
       "      <th></th>\n",
       "      <th></th>\n",
       "      <th></th>\n",
       "      <th></th>\n",
       "      <th></th>\n",
       "      <th></th>\n",
       "      <th></th>\n",
       "      <th></th>\n",
       "      <th></th>\n",
       "    </tr>\n",
       "  </thead>\n",
       "  <tbody>\n",
       "    <tr>\n",
       "      <th>2018-03-11</th>\n",
       "      <td>0.31242</td>\n",
       "      <td>6.666667</td>\n",
       "      <td>-7.222222</td>\n",
       "      <td>-2.222222</td>\n",
       "      <td>0.31750</td>\n",
       "      <td>NaN</td>\n",
       "      <td>920.728261</td>\n",
       "      <td>36.80206</td>\n",
       "      <td>0</td>\n",
       "      <td>0</td>\n",
       "      <td>...</td>\n",
       "      <td>0</td>\n",
       "      <td>0</td>\n",
       "      <td>0</td>\n",
       "      <td>0</td>\n",
       "      <td>0</td>\n",
       "      <td>0</td>\n",
       "      <td>0</td>\n",
       "      <td>1</td>\n",
       "      <td>0</td>\n",
       "      <td>0</td>\n",
       "    </tr>\n",
       "    <tr>\n",
       "      <th>2018-03-12</th>\n",
       "      <td>0.30988</td>\n",
       "      <td>6.111111</td>\n",
       "      <td>-7.777778</td>\n",
       "      <td>-1.666667</td>\n",
       "      <td>0.31496</td>\n",
       "      <td>0.00254</td>\n",
       "      <td>919.541667</td>\n",
       "      <td>37.11194</td>\n",
       "      <td>0</td>\n",
       "      <td>0</td>\n",
       "      <td>...</td>\n",
       "      <td>0</td>\n",
       "      <td>0</td>\n",
       "      <td>0</td>\n",
       "      <td>0</td>\n",
       "      <td>0</td>\n",
       "      <td>0</td>\n",
       "      <td>0</td>\n",
       "      <td>1</td>\n",
       "      <td>0</td>\n",
       "      <td>0</td>\n",
       "    </tr>\n",
       "    <tr>\n",
       "      <th>2018-03-13</th>\n",
       "      <td>0.31496</td>\n",
       "      <td>7.777778</td>\n",
       "      <td>-9.444444</td>\n",
       "      <td>-1.666667</td>\n",
       "      <td>0.31750</td>\n",
       "      <td>0.00000</td>\n",
       "      <td>913.981481</td>\n",
       "      <td>37.42690</td>\n",
       "      <td>0</td>\n",
       "      <td>0</td>\n",
       "      <td>...</td>\n",
       "      <td>0</td>\n",
       "      <td>0</td>\n",
       "      <td>0</td>\n",
       "      <td>0</td>\n",
       "      <td>0</td>\n",
       "      <td>0</td>\n",
       "      <td>0</td>\n",
       "      <td>1</td>\n",
       "      <td>0</td>\n",
       "      <td>0</td>\n",
       "    </tr>\n",
       "    <tr>\n",
       "      <th>2018-03-14</th>\n",
       "      <td>0.31242</td>\n",
       "      <td>9.444444</td>\n",
       "      <td>-5.000000</td>\n",
       "      <td>1.111111</td>\n",
       "      <td>0.31750</td>\n",
       "      <td>0.00000</td>\n",
       "      <td>NaN</td>\n",
       "      <td>37.73932</td>\n",
       "      <td>0</td>\n",
       "      <td>0</td>\n",
       "      <td>...</td>\n",
       "      <td>0</td>\n",
       "      <td>0</td>\n",
       "      <td>0</td>\n",
       "      <td>0</td>\n",
       "      <td>0</td>\n",
       "      <td>0</td>\n",
       "      <td>0</td>\n",
       "      <td>1</td>\n",
       "      <td>0</td>\n",
       "      <td>0</td>\n",
       "    </tr>\n",
       "    <tr>\n",
       "      <th>2018-03-15</th>\n",
       "      <td>0.30988</td>\n",
       "      <td>NaN</td>\n",
       "      <td>NaN</td>\n",
       "      <td>NaN</td>\n",
       "      <td>0.31750</td>\n",
       "      <td>NaN</td>\n",
       "      <td>NaN</td>\n",
       "      <td>38.04920</td>\n",
       "      <td>0</td>\n",
       "      <td>0</td>\n",
       "      <td>...</td>\n",
       "      <td>0</td>\n",
       "      <td>0</td>\n",
       "      <td>0</td>\n",
       "      <td>0</td>\n",
       "      <td>0</td>\n",
       "      <td>0</td>\n",
       "      <td>0</td>\n",
       "      <td>1</td>\n",
       "      <td>0</td>\n",
       "      <td>0</td>\n",
       "    </tr>\n",
       "  </tbody>\n",
       "</table>\n",
       "<p>5 rows × 21 columns</p>\n",
       "</div>"
      ],
      "text/plain": [
       "            swe_start_m  airtemp_max_C  airtemp_min_C  airtemp_mean_C  \\\n",
       "dt                                                                      \n",
       "2018-03-11      0.31242       6.666667      -7.222222       -2.222222   \n",
       "2018-03-12      0.30988       6.111111      -7.777778       -1.666667   \n",
       "2018-03-13      0.31496       7.777778      -9.444444       -1.666667   \n",
       "2018-03-14      0.31242       9.444444      -5.000000        1.111111   \n",
       "2018-03-15      0.30988            NaN            NaN             NaN   \n",
       "\n",
       "            precip_start_m  precip_incr_m         cfs  swe_cumsum  \\\n",
       "dt                                                                  \n",
       "2018-03-11         0.31750            NaN  920.728261    36.80206   \n",
       "2018-03-12         0.31496        0.00254  919.541667    37.11194   \n",
       "2018-03-13         0.31750        0.00000  913.981481    37.42690   \n",
       "2018-03-14         0.31750        0.00000         NaN    37.73932   \n",
       "2018-03-15         0.31750            NaN         NaN    38.04920   \n",
       "\n",
       "            stn_1059_cochetopa_pass  stn_409_columbine_pass  \\\n",
       "dt                                                            \n",
       "2018-03-11                        0                       0   \n",
       "2018-03-12                        0                       0   \n",
       "2018-03-13                        0                       0   \n",
       "2018-03-14                        0                       0   \n",
       "2018-03-15                        0                       0   \n",
       "\n",
       "                   ...           stn_618_mcclure_pass  stn_622_mesa_lakes  \\\n",
       "dt                 ...                                                      \n",
       "2018-03-11         ...                              0                   0   \n",
       "2018-03-12         ...                              0                   0   \n",
       "2018-03-13         ...                              0                   0   \n",
       "2018-03-14         ...                              0                   0   \n",
       "2018-03-15         ...                              0                   0   \n",
       "\n",
       "            stn_669_north_lost_trail  stn_675_overland_reservoir  \\\n",
       "dt                                                                 \n",
       "2018-03-11                         0                           0   \n",
       "2018-03-12                         0                           0   \n",
       "2018-03-13                         0                           0   \n",
       "2018-03-14                         0                           0   \n",
       "2018-03-15                         0                           0   \n",
       "\n",
       "            stn_680_park_cone  stn_682_park_reservoir  stn_701_porphyry_creek  \\\n",
       "dt                                                                              \n",
       "2018-03-11                  0                       0                       0   \n",
       "2018-03-12                  0                       0                       0   \n",
       "2018-03-13                  0                       0                       0   \n",
       "2018-03-14                  0                       0                       0   \n",
       "2018-03-15                  0                       0                       0   \n",
       "\n",
       "            stn_713_red_mtn_pass  stn_737_schofield_pass  stn_762_slumgullion  \n",
       "dt                                                                             \n",
       "2018-03-11                     1                       0                    0  \n",
       "2018-03-12                     1                       0                    0  \n",
       "2018-03-13                     1                       0                    0  \n",
       "2018-03-14                     1                       0                    0  \n",
       "2018-03-15                     1                       0                    0  \n",
       "\n",
       "[5 rows x 21 columns]"
      ]
     },
     "execution_count": 29,
     "metadata": {},
     "output_type": "execute_result"
    }
   ],
   "source": [
    "data_all.tail()"
   ]
  },
  {
   "cell_type": "markdown",
   "metadata": {},
   "source": [
    "## pipeline: standardize and linear regression"
   ]
  },
  {
   "cell_type": "markdown",
   "metadata": {},
   "source": [
    "### prep data for modeling"
   ]
  },
  {
   "cell_type": "code",
   "execution_count": 43,
   "metadata": {},
   "outputs": [],
   "source": [
    "# drop nans\n",
    "data_clean = data_all.dropna()\n",
    "\n",
    "# define dataframe and columns\n",
    "model_df = data_clean\n",
    "cols = model_df.columns\n",
    "\n",
    "# split train and test data\n",
    "split_year = 2015\n",
    "\n",
    "train_df = model_df[model_df.index.year < split_year]\n",
    "test_df = model_df[model_df.index.year >= split_year]\n",
    "\n",
    "target_col = 'cfs'\n",
    "X_train = train_df.drop(target_col, axis=1)\n",
    "y_train = train_df[target_col]\n",
    "\n",
    "X_test = test_df.drop(target_col, axis=1)\n",
    "y_test = test_df[target_col]\n",
    "\n",
    "# define pipeline\n",
    "alpha = 559\n",
    "pipeline = Pipeline([\n",
    "    ('standardize', StandardScaler()),\n",
    "    ('regression', Ridge(alpha)),\n",
    "])\n",
    "\n",
    "# predict train\n",
    "pipeline.fit(X_train,y_train)\n",
    "y_hat_train = pipeline.predict(X_train)\n",
    "# # Now evaluate all steps on test set\n",
    "y_hat_test = pipeline.predict(X_test)\n",
    "\n",
    "\n",
    "\n"
   ]
  },
  {
   "cell_type": "code",
   "execution_count": 52,
   "metadata": {},
   "outputs": [
    {
     "name": "stdout",
     "output_type": "stream",
     "text": [
      "R2 = 0.387\n",
      "RMSE = 1083.791\n",
      "[-628.92761718   28.29378249  216.3266762   -48.3230776  1553.90037995\n",
      "   -8.00195773  -39.51166056   66.93484611 -118.77578203  -18.43379883\n",
      "  -45.94674783  -18.83019134  -75.10987566   36.31353109  149.96659969\n",
      "  -66.37440934  160.57223673  -71.38138543 -134.26488614  162.20158411]\n"
     ]
    }
   ],
   "source": [
    "# regression scores and coefficients\n",
    "# R2 score\n",
    "score = pipeline.score(X_test,y_test)\n",
    "print('R2 = {0:.3f}'.format(score))\n",
    "\n",
    "# RMSE\n",
    "rmse = np.sqrt(mean_squared_error(y_test, y_hat_test))\n",
    "print('RMSE = {0:.3f}'.format(rmse))\n",
    "\n",
    "# coefficients\n",
    "model = pipeline.named_steps['regression']\n",
    "coefs = model.coef_\n",
    "print(coefs)\n"
   ]
  },
  {
   "cell_type": "code",
   "execution_count": 51,
   "metadata": {},
   "outputs": [
    {
     "data": {
      "text/plain": [
       "1083.7906264408175"
      ]
     },
     "execution_count": 51,
     "metadata": {},
     "output_type": "execute_result"
    }
   ],
   "source": [
    "rmse"
   ]
  },
  {
   "cell_type": "code",
   "execution_count": null,
   "metadata": {},
   "outputs": [],
   "source": []
  },
  {
   "cell_type": "code",
   "execution_count": 53,
   "metadata": {},
   "outputs": [
    {
     "data": {
      "image/png": "[encoded data removed]",
      "text/plain": [
       "<matplotlib.figure.Figure at 0x108b70a20>"
      ]
     },
     "metadata": {},
     "output_type": "display_data"
    }
   ],
   "source": [
    "df = model_df # dataframe to plot from\n",
    "figname = 'gunnison river predict streamflow'\n",
    "\n",
    "# plot\n",
    "fig, ax = plt.subplots(2,1,figsize=(16,8));\n",
    "ax[0].plot(y_train.index,y_train.values,'bo', markersize=4, alpha=0.4)\n",
    "ax[0].set_ylabel('streamflow (cfs)', fontsize=14);\n",
    "#ax[0].set_xlabel('year', fontsize=14)\n",
    "ax[0].plot(y_train.index,y_hat_train,'ko', markersize=2, alpha=0.4)\n",
    "ax[0].legend(['actual','predicted'])\n",
    "ax[0].set_title('train data')\n",
    "\n",
    "ax[1].plot(y_test.index,y_test.values,'bo', markersize=4, alpha=0.4)\n",
    "ax[1].set_ylabel('streamflow (cfs)', fontsize=14);\n",
    "#ax[1].set_xlabel('year', fontsize=14)\n",
    "ax[1].plot(X_test.index,y_hat_test,'ko', markersize=3, alpha=0.4)\n",
    "ax[1].legend(['actual','predicted'])\n",
    "ax[1].set_title('test data')\n",
    "plt.suptitle('{}, R2 = {}, RMSE = {}'.format(figname,str(round(score,3)), str(round(rmse,3))),fontsize=14)\n",
    "\n",
    "# save fig\n",
    "fig.set_size_inches(16, 10)\n",
    "plt.savefig('{}.png'.format(figname),format='png', dpi=300)"
   ]
  },
  {
   "cell_type": "code",
   "execution_count": 46,
   "metadata": {},
   "outputs": [
    {
     "name": "stdout",
     "output_type": "stream",
     "text": [
      "{'swe_start_m': -628.9276171832544, 'airtemp_max_C': 28.293782490854056, 'airtemp_min_C': 216.32667620384066, 'airtemp_mean_C': -48.32307760336976, 'precip_start_m': 1553.9003799473974, 'precip_incr_m': -8.001957729473943, 'swe_cumsum': -39.511660560256516, 'stn_1059_cochetopa_pass': 66.9348461050622, 'stn_409_columbine_pass': -118.77578203220367, 'stn_538_idarado': -18.433798829737416, 'stn_618_mcclure_pass': -45.946747828332185, 'stn_622_mesa_lakes': -18.83019134340874, 'stn_669_north_lost_trail': -75.10987565832275, 'stn_675_overland_reservoir': 36.31353109363633, 'stn_680_park_cone': 149.96659968728443, 'stn_682_park_reservoir': -66.37440933904966, 'stn_701_porphyry_creek': 160.5722367277578, 'stn_713_red_mtn_pass': -71.38138543183264, 'stn_737_schofield_pass': -134.26488614412813, 'stn_762_slumgullion': 162.20158410825135}\n"
     ]
    }
   ],
   "source": [
    "#coefficient matrix\n",
    "D = {}\n",
    "for idx, name in enumerate(X_train.columns):\n",
    "    D[name] = coefs[idx]\n",
    "print(D)\n",
    "\n",
    "import csv\n",
    "#write to file:\n",
    "with open('gunnison_coefs_q_allstations_bestalpha.csv', 'w') as csv_file:\n",
    "    writer = csv.writer(csv_file)\n",
    "    for k, v in D.items():\n",
    "       writer.writerow([k,v])"
   ]
  },
  {
   "cell_type": "code",
   "execution_count": null,
   "metadata": {},
   "outputs": [],
   "source": []
  },
  {
   "cell_type": "code",
   "execution_count": 34,
   "metadata": {},
   "outputs": [],
   "source": [
    "def cross_val(X, y, model, n_folds, errortype='RMSE', random_seed=154):\n",
    "    \"\"\"Estimate the in- and out-of-sample error of a model using cross\n",
    "    validation.\n",
    "    \n",
    "    Requirements\n",
    "    ----------\n",
    "    class XyScaler\n",
    "    function rmsle\n",
    " \n",
    "    Parameters\n",
    "    ----------\n",
    " \n",
    "    X: np.array\n",
    "      Matrix of predictors, standardized\n",
    " \n",
    "    y: np.array\n",
    "      Target array, standardized\n",
    " \n",
    "    model: sklearn model object.\n",
    "      The estimator to fit.  Must have fit and predict methods.\n",
    " \n",
    "    n_folds: int\n",
    "      The number of folds in the cross validation.\n",
    "    \n",
    "    errortype: string\n",
    "      either 'RMSE' or 'RMSLE'\n",
    " \n",
    "    random_seed: int\n",
    "      A seed for the random number generator, for repeatability.\n",
    " \n",
    "    Returns\n",
    "    -------\n",
    " \n",
    "    errors, cfs_best: tuple of arrays\n",
    "    errors = (train errors, test errors) for each fold of cross-validation\n",
    "    cfs-best = coefficients selected from minimum test error\n",
    "    \"\"\"\n",
    "    # choose KFolds or TimeSeriesSplit\n",
    "    kf = TimeSeriesSplit(n_splits=n_folds)\n",
    "    #kf = KFold(n_folds, random_state=random_seed)\n",
    "    errorlist = []\n",
    "    cfs = []\n",
    "    for k, (train_index,test_index) in enumerate(kf.split(X)):\n",
    "        # define variables\n",
    "        X_train = X[train_index]\n",
    "        y_train = y[train_index]\n",
    "        X_test = X[test_index]\n",
    "        y_test = y[test_index]\n",
    "        # fit model\n",
    "        model.fit(X_train,y_train)\n",
    "        y_hat_train = model.predict(X_train)\n",
    "        y_hat_test = model.predict(X_test) \n",
    "        # evaluate model\n",
    "        if errortype == 'RMSE':\n",
    "            rmse_train = np.sqrt(mean_squared_error(y_hat_train,y_train))\n",
    "            rmse_test = np.sqrt(mean_squared_error(y_hat_test,y_test))\n",
    "            errorlist.append((rmse_train, rmse_test)) # tuple output\n",
    "        elif errortype == 'RMSLE':\n",
    "            rmsle_train = rmsle(y_train, y_hat_train)\n",
    "            rmsle_test = rmsle(y_test, y_hat_test)\n",
    "            errorlist.append((rmsle_train, rmsle_test)) # tuple output\n",
    "        # store coefficients\n",
    "        cfs.append (model.coef_)\n",
    "    # select best coefficients \n",
    "    errors = np.asarray(errorlist)\n",
    "    idx_min_test_error = errors[:,1].argmin()   \n",
    "    cfs_best = cfs[idx_min_test_error]\n",
    "    \n",
    "    return(errors, cfs_best)"
   ]
  },
  {
   "cell_type": "code",
   "execution_count": 35,
   "metadata": {},
   "outputs": [],
   "source": [
    "def train_at_various_alphas(X, y, model, alphas, n_folds=10, errortype='RMSE', **kwargs):\n",
    "    \"\"\"Train a regularized regression model using cross validation at various\n",
    "    values of alpha.\n",
    "    \n",
    "    requirements\n",
    "    ----------\n",
    "    class XyScaler\n",
    "    function rmsle\n",
    "    function cross_val\n",
    "\n",
    "    Parameters\n",
    "    ----------\n",
    " \n",
    "    X: np.array\n",
    "      Matrix of predictors, standardized\n",
    " \n",
    "    y: np.array\n",
    "      Target array, standardized\n",
    " \n",
    "    model: name of sklearn model class\n",
    "      A class in sklearn that can be used to create a regularized regression\n",
    "      object.  Options are 'Ridge' and 'Lasso'.\n",
    " \n",
    "    alphas: numpy array\n",
    "      An array of regularization parameters.\n",
    " \n",
    "    n_folds: int\n",
    "      Number of cross validation folds.\n",
    "    \n",
    "    errortype: string\n",
    "      either 'RMSE' or 'RMSLE'\n",
    " \n",
    "    Returns\n",
    "    -------\n",
    " \n",
    "    cv_errors_train, cv_errors_test: tuple of DataFrame\n",
    "      DataFrames containing the training and testing errors for each value of\n",
    "      alpha and each cross validation fold.  Each row represents a CV fold, and\n",
    "      each column a value of alpha.\n",
    "      \n",
    "      Dataframe containing coefficients for each parameter for each alpha\n",
    "    \"\"\"\n",
    "    cv_errors_train = pd.DataFrame(np.empty(shape=(n_folds, len(alphas))),\n",
    "                                     columns=alphas)\n",
    "    cv_errors_test = pd.DataFrame(np.empty(shape=(n_folds, len(alphas))),\n",
    "                                        columns=alphas)\n",
    "    coefs_df = pd.DataFrame(np.empty(shape=(n_folds, len(alphas))),\n",
    "                                        columns=alphas)\n",
    "    for idx, alpha in enumerate(alphas):\n",
    "        errors, coefs = cross_val(X, y, model(alpha), n_folds, errortype='RMSE', random_seed=154)\n",
    "        cv_errors_train.iloc[:,idx] = errors[:,0]\n",
    "        cv_errors_test.iloc[:,idx] = errors[:,1]\n",
    "        #coefs_df.iloc[:,idx] = coefs\n",
    "    return(cv_errors_train, cv_errors_test)#, coefs_df"
   ]
  },
  {
   "cell_type": "code",
   "execution_count": 4,
   "metadata": {},
   "outputs": [
    {
     "ename": "NameError",
     "evalue": "name 'X_train' is not defined",
     "output_type": "error",
     "traceback": [
      "\u001b[0;31m---------------------------------------------------------------------------\u001b[0m",
      "\u001b[0;31mNameError\u001b[0m                                 Traceback (most recent call last)",
      "\u001b[0;32m<ipython-input-4-4f98742a2a39>\u001b[0m in \u001b[0;36m<module>\u001b[0;34m()\u001b[0m\n\u001b[1;32m      1\u001b[0m \u001b[0mstandardizer\u001b[0m \u001b[0;34m=\u001b[0m \u001b[0mStandardScaler\u001b[0m\u001b[0;34m(\u001b[0m\u001b[0;34m)\u001b[0m\u001b[0;34m\u001b[0m\u001b[0m\n\u001b[0;32m----> 2\u001b[0;31m \u001b[0mstandardizer\u001b[0m\u001b[0;34m.\u001b[0m\u001b[0mfit\u001b[0m\u001b[0;34m(\u001b[0m\u001b[0mX_train\u001b[0m\u001b[0;34m,\u001b[0m\u001b[0my_train\u001b[0m\u001b[0;34m)\u001b[0m\u001b[0;34m\u001b[0m\u001b[0m\n\u001b[0m\u001b[1;32m      3\u001b[0m \u001b[0mxx\u001b[0m \u001b[0;34m=\u001b[0m \u001b[0mstandardizer\u001b[0m\u001b[0;34m.\u001b[0m\u001b[0mtransform\u001b[0m\u001b[0;34m(\u001b[0m\u001b[0mX_train\u001b[0m\u001b[0;34m)\u001b[0m\u001b[0;34m\u001b[0m\u001b[0m\n",
      "\u001b[0;31mNameError\u001b[0m: name 'X_train' is not defined"
     ]
    }
   ],
   "source": [
    "standardizer = StandardScaler()\n",
    "standardizer.fit(X_train,y_train)\n",
    "xx = standardizer.transform(X_train)\n"
   ]
  },
  {
   "cell_type": "code",
   "execution_count": 37,
   "metadata": {},
   "outputs": [
    {
     "data": {
      "text/plain": [
       "numpy.ndarray"
      ]
     },
     "execution_count": 37,
     "metadata": {},
     "output_type": "execute_result"
    }
   ],
   "source": [
    "type(xx)"
   ]
  },
  {
   "cell_type": "code",
   "execution_count": 1,
   "metadata": {},
   "outputs": [
    {
     "ename": "NameError",
     "evalue": "name 'xx' is not defined",
     "output_type": "error",
     "traceback": [
      "\u001b[0;31m---------------------------------------------------------------------------\u001b[0m",
      "\u001b[0;31mNameError\u001b[0m                                 Traceback (most recent call last)",
      "\u001b[0;32m<ipython-input-1-da4fdfbe9b8e>\u001b[0m in \u001b[0;36m<module>\u001b[0;34m()\u001b[0m\n\u001b[1;32m      2\u001b[0m \u001b[0;34m\u001b[0m\u001b[0m\n\u001b[1;32m      3\u001b[0m \u001b[0;31m# run a cross validation\u001b[0m\u001b[0;34m\u001b[0m\u001b[0;34m\u001b[0m\u001b[0m\n\u001b[0;32m----> 4\u001b[0;31m \u001b[0mX\u001b[0m \u001b[0;34m=\u001b[0m \u001b[0mxx\u001b[0m\u001b[0;34m\u001b[0m\u001b[0m\n\u001b[0m\u001b[1;32m      5\u001b[0m \u001b[0my\u001b[0m \u001b[0;34m=\u001b[0m \u001b[0mnp\u001b[0m\u001b[0;34m.\u001b[0m\u001b[0marray\u001b[0m\u001b[0;34m(\u001b[0m\u001b[0my_train\u001b[0m\u001b[0;34m)\u001b[0m\u001b[0;34m\u001b[0m\u001b[0m\n\u001b[1;32m      6\u001b[0m \u001b[0;34m\u001b[0m\u001b[0m\n",
      "\u001b[0;31mNameError\u001b[0m: name 'xx' is not defined"
     ]
    }
   ],
   "source": [
    "\n",
    "\n",
    "# run a cross validation\n",
    "X = xx\n",
    "y = np.array(y_train)\n",
    "\n",
    "#\n",
    "alpha= 330\n",
    "model = Ridge(alpha)\n",
    "n_folds = 5\n",
    "errors, cfs_best = cross_val(X, y, model, n_folds, errortype='RMSE', random_seed=154)"
   ]
  },
  {
   "cell_type": "code",
   "execution_count": 39,
   "metadata": {},
   "outputs": [],
   "source": [
    "# run an alpha test\n",
    "X = xx\n",
    "y = np.array(y_train)\n",
    "\n",
    "model = Ridge # must be 'Ridge' or 'Lasso'\n",
    "# define alphas\n",
    "alphas = np.logspace(-2,8,100)\n",
    "n_folds=30\n",
    "errortype='RMSE'\n",
    "cv_errors_train, cv_errors_test = train_at_various_alphas(X, y, model, alphas, n_folds, errortype)"
   ]
  },
  {
   "cell_type": "code",
   "execution_count": 42,
   "metadata": {},
   "outputs": [
    {
     "name": "stdout",
     "output_type": "stream",
     "text": [
      "min error = 1325.8414091617344\n",
      "alpha at min error = 559.0810182512223\n"
     ]
    },
    {
     "data": {
      "image/png": "[encoded data removed]",
      "text/plain": [
       "<matplotlib.figure.Figure at 0x108b70ef0>"
      ]
     },
     "metadata": {},
     "output_type": "display_data"
    }
   ],
   "source": [
    "# outputs from alpha testing\n",
    "train_means = cv_errors_train.mean(axis=0)\n",
    "test_means = cv_errors_test.mean(axis=0)\n",
    "# calc min alpha\n",
    "min_idx = test_means.values.argmin()\n",
    "min_alpha = alphas[min_idx]\n",
    "print('min error = {}'.format(np.min(test_means)))\n",
    "print('alpha at min error = {}'.format(min_alpha))\n",
    "\n",
    "fig, axs = plt.subplots(1,1,figsize=(5,5));\n",
    "h1 = axs.plot(alphas,train_means,'b-')\n",
    "h2 = axs.plot(alphas,test_means,'k-')\n",
    "axs.set_xscale('log')\n",
    "axs.invert_xaxis()\n",
    "axs.set_xlabel('alpha')\n",
    "axs.set_ylabel('error')\n",
    "plt.axvline(min_alpha, linestyle='dashed')\n",
    "plt.legend(('train','test'));\n",
    "#axs.set_yscale('log');\n",
    "\n",
    "# save fig\n",
    "figname = 'alpha_test_no_september'\n",
    "fig.set_size_inches(5, 5)\n",
    "plt.savefig('{}.png'.format(figname),format='png', dpi=300)"
   ]
  },
  {
   "cell_type": "code",
   "execution_count": 60,
   "metadata": {},
   "outputs": [
    {
     "data": {
      "text/plain": [
       "(58904, 20)"
      ]
     },
     "execution_count": 60,
     "metadata": {},
     "output_type": "execute_result"
    }
   ],
   "source": [
    "np.shape(X)"
   ]
  },
  {
   "cell_type": "code",
   "execution_count": 66,
   "metadata": {},
   "outputs": [
    {
     "data": {
      "text/plain": [
       "(58904,)"
      ]
     },
     "execution_count": 66,
     "metadata": {},
     "output_type": "execute_result"
    }
   ],
   "source": [
    "np.shape(y)"
   ]
  },
  {
   "cell_type": "code",
   "execution_count": 107,
   "metadata": {},
   "outputs": [
    {
     "data": {
      "text/plain": [
       "Index(['swe_start_m', 'airtemp_max_C', 'airtemp_min_C', 'airtemp_mean_C',\n",
       "       'precip_start_m', 'precip_incr_m', 'year', 'month', 'cfs',\n",
       "       'stn_1059_cochetopa_pass', 'stn_409_columbine_pass',\n",
       "       'stn_618_mcclure_pass', 'stn_622_mesa_lakes',\n",
       "       'stn_669_north_lost_trail', 'stn_675_overland_reservoir',\n",
       "       'stn_680_park_cone', 'stn_682_park_reservoir', 'stn_701_porphyry_creek',\n",
       "       'stn_737_schofield_pass', 'stn_762_slumgullion'],\n",
       "      dtype='object')"
      ]
     },
     "execution_count": 107,
     "metadata": {},
     "output_type": "execute_result"
    }
   ],
   "source": [
    "X_train.columns"
   ]
  },
  {
   "cell_type": "code",
   "execution_count": null,
   "metadata": {},
   "outputs": [],
   "source": []
  },
  {
   "cell_type": "code",
   "execution_count": null,
   "metadata": {},
   "outputs": [],
   "source": []
  },
  {
   "cell_type": "code",
   "execution_count": null,
   "metadata": {},
   "outputs": [],
   "source": [
    "\n"
   ]
  },
  {
   "cell_type": "code",
   "execution_count": null,
   "metadata": {},
   "outputs": [],
   "source": []
  },
  {
   "cell_type": "code",
   "execution_count": null,
   "metadata": {},
   "outputs": [],
   "source": []
  },
  {
   "cell_type": "code",
   "execution_count": null,
   "metadata": {},
   "outputs": [],
   "source": []
  },
  {
   "cell_type": "code",
   "execution_count": null,
   "metadata": {},
   "outputs": [],
   "source": [
    "\n"
   ]
  },
  {
   "cell_type": "code",
   "execution_count": null,
   "metadata": {},
   "outputs": [],
   "source": []
  },
  {
   "cell_type": "code",
   "execution_count": null,
   "metadata": {},
   "outputs": [],
   "source": []
  },
  {
   "cell_type": "code",
   "execution_count": null,
   "metadata": {},
   "outputs": [],
   "source": []
  },
  {
   "cell_type": "code",
   "execution_count": null,
   "metadata": {},
   "outputs": [],
   "source": []
  },
  {
   "cell_type": "code",
   "execution_count": null,
   "metadata": {},
   "outputs": [],
   "source": []
  },
  {
   "cell_type": "code",
   "execution_count": null,
   "metadata": {},
   "outputs": [],
   "source": []
  },
  {
   "cell_type": "code",
   "execution_count": null,
   "metadata": {},
   "outputs": [],
   "source": []
  },
  {
   "cell_type": "code",
   "execution_count": null,
   "metadata": {},
   "outputs": [],
   "source": []
  },
  {
   "cell_type": "code",
   "execution_count": null,
   "metadata": {},
   "outputs": [],
   "source": [
    "\n"
   ]
  },
  {
   "cell_type": "code",
   "execution_count": null,
   "metadata": {},
   "outputs": [],
   "source": []
  },
  {
   "cell_type": "code",
   "execution_count": null,
   "metadata": {},
   "outputs": [],
   "source": []
  },
  {
   "cell_type": "code",
   "execution_count": null,
   "metadata": {},
   "outputs": [],
   "source": []
  },
  {
   "cell_type": "code",
   "execution_count": null,
   "metadata": {},
   "outputs": [],
   "source": []
  },
  {
   "cell_type": "code",
   "execution_count": null,
   "metadata": {},
   "outputs": [],
   "source": []
  },
  {
   "cell_type": "code",
   "execution_count": null,
   "metadata": {},
   "outputs": [],
   "source": []
  },
  {
   "cell_type": "code",
   "execution_count": null,
   "metadata": {},
   "outputs": [],
   "source": []
  },
  {
   "cell_type": "code",
   "execution_count": null,
   "metadata": {},
   "outputs": [],
   "source": []
  },
  {
   "cell_type": "code",
   "execution_count": null,
   "metadata": {},
   "outputs": [],
   "source": []
  },
  {
   "cell_type": "code",
   "execution_count": null,
   "metadata": {},
   "outputs": [],
   "source": []
  },
  {
   "cell_type": "code",
   "execution_count": null,
   "metadata": {},
   "outputs": [],
   "source": []
  }
 ],
 "metadata": {
  "kernelspec": {
   "display_name": "Python 3",
   "language": "python",
   "name": "python3"
  },
  "language_info": {
   "codemirror_mode": {
    "name": "ipython",
    "version": 3
   },
   "file_extension": ".py",
   "mimetype": "text/x-python",
   "name": "python",
   "nbconvert_exporter": "python",
   "pygments_lexer": "ipython3",
   "version": "3.6.4"
  }
 },
 "nbformat": 4,
 "nbformat_minor": 2
}
