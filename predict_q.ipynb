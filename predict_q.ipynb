{
 "cells": [
  {
   "cell_type": "code",
   "execution_count": 1,
   "metadata": {},
   "outputs": [],
   "source": [
    "# run in one batch\n",
    "import numpy as np\n",
    "import matplotlib.pyplot as plt\n",
    "import pandas as pd\n",
    "%matplotlib inline\n",
    "\n",
    "# scipy imports\n",
    "import scipy.stats as stats\n",
    "\n",
    "# sklearn imports\n",
    "from sklearn.linear_model import LinearRegression\n",
    "from sklearn.linear_model import Ridge\n",
    "from sklearn.linear_model import Lasso\n",
    "from sklearn.preprocessing import PolynomialFeatures\n",
    "from sklearn.pipeline import make_pipeline"
   ]
  },
  {
   "cell_type": "code",
   "execution_count": 2,
   "metadata": {},
   "outputs": [],
   "source": [
    "# define cleaning functions\n",
    "def clean_q_data_annual(dataframe):\n",
    "    ''' \n",
    "    input: dataframe with re-named columns\n",
    "    output: dataframe, series, series\n",
    "    '''\n",
    "    # datetime operations\n",
    "    q_df['dt'] = pd.to_datetime(q_df['dt_string'])\n",
    "    q_df['year'] = q_df['dt'].dt.year\n",
    "    q_df['month'] = q_df['dt'].dt.month\n",
    "    q_df['day'] = q_df['dt'].dt.day\n",
    "\n",
    "    # new datetime without time\n",
    "    q_df['timestamp'] = pd.to_datetime(q_df[['year','month', 'day']], errors='coerce')\n",
    "\n",
    "    # make series from groupby, this has timestamp as index\n",
    "    daily_q = q_df.groupby(['timestamp'])['cfs'].mean()\n",
    "\n",
    "    # make df from series\n",
    "    daily_q_df = pd.DataFrame(daily_q)\n",
    "    \n",
    "    # annual peak Q\n",
    "    annual_peak_q = q_df.groupby(q_df.year)['cfs'].max()\n",
    "\n",
    "#     # cumulative Q\n",
    "#     sum_q = q_df.groupby(q_df.year)['cfs'].cumsum()\n",
    "#     sum_q_df = pd.DataFrame(q_df.year,sum_q).reset_index()\n",
    "#     annual_sum_q = sum_q_df.groupby(sum_q_df.year)['cfs'].max()\n",
    "\n",
    "    return(daily_q_df, annual_peak_q)\n",
    "\n",
    "def clean_snow_data_annual(dataframe):\n",
    "    ''' \n",
    "    input: dataframe with re-named columns\n",
    "    output: dataframe\n",
    "    '''\n",
    "    # unit conversions to metric\n",
    "    snow_df['swe_start_m'] = snow_df.swe_start_in * 0.0254\n",
    "    snow_df['airtemp_max_C'] = 5/9*(snow_df.airtemp_max_F - 32)\n",
    "    snow_df['airtemp_min_C'] = 5/9*(snow_df.airtemp_min_F - 32)\n",
    "    snow_df['airtemp_mean_C'] = 5/9*(snow_df.airtemp_mean_F - 32)\n",
    "    snow_df['precip_start_m'] = snow_df.precip_start_in * 0.0254\n",
    "    snow_df['precip_incr_m'] = snow_df.precip_incr_in * 0.0254\n",
    "    \n",
    "    # drop standard unit columns\n",
    "    snow_df.drop(['swe_start_in'], axis=1, inplace=True)\n",
    "    snow_df.drop(['airtemp_max_F'], axis=1, inplace=True)\n",
    "    snow_df.drop(['airtemp_min_F'], axis=1, inplace=True)\n",
    "    snow_df.drop(['airtemp_mean_F'], axis=1, inplace=True)\n",
    "    snow_df.drop(['precip_start_in'], axis=1, inplace=True)\n",
    "    snow_df.drop(['precip_incr_in'], axis=1, inplace=True)\n",
    "    \n",
    "    # datetime operations\n",
    "    snow_df['dt'] = pd.to_datetime(snow_df['dt_string'])\n",
    "    snow_df['year'] = snow_df['dt'].dt.year\n",
    "\n",
    "    # remove rows with swe=0\n",
    "    snow_df.drop(snow_df[snow_df.swe_start_m == 0].index, inplace=True)\n",
    "\n",
    "    #set snow df index to dt\n",
    "    snow_df.set_index(snow_df.dt, inplace=True)\n",
    "    \n",
    "    # annual peak swe\n",
    "    annual_peak_swe = snow_df.groupby(snow_df.year)['swe_start_m'].max()\n",
    "    \n",
    "    # annual cumulative swe\n",
    "    cumsum_swe = snow_df.groupby(snow_df['year'])['swe_start_m'].cumsum()\n",
    "    \n",
    "    #cumsum_swe.reindex(snow_df.year)\n",
    "    #cumsum_swe_df = pd.DataFrame(grp_year,cumsum_swe)\n",
    "    #cumsum_swe_df.set_index(snow_df['year'])\n",
    "    #annual_sum_swe = cumsum_swe_df.groupby(snow_df['year'])['swe_start_m'].max()\n",
    "    \n",
    "    return(snow_df, annual_peak_swe, cumsum_swe)\n",
    "\n",
    "def clean_outliers(df):\n",
    "    ''' \n",
    "    input: dataframe with re-named columns\n",
    "    output: dataframe\n",
    "    '''\n",
    "    # clear min airtemp outliers\n",
    "    df.drop(df[df.airtemp_min_C > 18].index, inplace=True)\n",
    "    df.drop(df[df.airtemp_min_C < -40].index, inplace=True)\n",
    "    # clear max airtemp outliers\n",
    "    df.drop(df[df.airtemp_max_C > 50].index, inplace=True)\n",
    "    df.drop(df[df.airtemp_max_C < -45].index, inplace=True)\n",
    "    return(df)"
   ]
  },
  {
   "cell_type": "code",
   "execution_count": null,
   "metadata": {},
   "outputs": [],
   "source": [
    "\n"
   ]
  },
  {
   "cell_type": "code",
   "execution_count": 3,
   "metadata": {},
   "outputs": [],
   "source": [
    "# load q data\n",
    "q_df = pd.read_csv('q-data/gunnison_delta.csv',sep='\\t',header=32) # read csv to dataframe\n",
    "q_df.columns = ['USGS', 'id', 'dt_string', 'tz', 'cfs', 'junk'] # rename columns\n",
    "\n",
    "daily_q_df, annual_peak_q = clean_q_data_annual(q_df)\n",
    "\n",
    "# annual sum q\n",
    "annual_cumsum_q = daily_q_df.groupby(daily_q_df.index.year)['cfs'].cumsum()\n",
    "annual_sum_q = annual_cumsum_q.groupby(annual_cumsum_q.index.year).max()"
   ]
  },
  {
   "cell_type": "code",
   "execution_count": null,
   "metadata": {},
   "outputs": [],
   "source": []
  },
  {
   "cell_type": "code",
   "execution_count": null,
   "metadata": {},
   "outputs": [],
   "source": []
  },
  {
   "cell_type": "code",
   "execution_count": null,
   "metadata": {},
   "outputs": [],
   "source": []
  },
  {
   "cell_type": "code",
   "execution_count": null,
   "metadata": {},
   "outputs": [],
   "source": []
  },
  {
   "cell_type": "code",
   "execution_count": null,
   "metadata": {},
   "outputs": [],
   "source": []
  },
  {
   "cell_type": "code",
   "execution_count": null,
   "metadata": {},
   "outputs": [],
   "source": []
  },
  {
   "cell_type": "code",
   "execution_count": null,
   "metadata": {},
   "outputs": [],
   "source": []
  },
  {
   "cell_type": "code",
   "execution_count": null,
   "metadata": {},
   "outputs": [],
   "source": []
  },
  {
   "cell_type": "code",
   "execution_count": null,
   "metadata": {},
   "outputs": [],
   "source": []
  },
  {
   "cell_type": "code",
   "execution_count": 4,
   "metadata": {},
   "outputs": [
    {
     "name": "stdout",
     "output_type": "stream",
     "text": [
      "7\n"
     ]
    }
   ],
   "source": [
    "# load snotel data\n",
    "stationnames = ['680_park_cone','762_slumgullion','701_porphyry_creek','737_schofield_pass','682_park_reservoir',\n",
    "                '669_north_lost_trail','1059_cochetopa_pass']\n",
    "data_lst = []\n",
    "count = 0\n",
    "peakswe_lst = []\n",
    "sumswe_lst = []\n",
    "for stationname in stationnames:\n",
    "    snow_df = pd.read_csv('snotel-data/snotel_{}.csv'.format(stationname),header=58) \n",
    "    snow_df.columns = ['dt_string', 'swe_start_in',\n",
    "       'precip_start_in',\n",
    "       'airtemp_max_F', 'airtemp_min_F',\n",
    "       'airtemp_mean_F', 'precip_incr_in']\n",
    "    # clean snow data\n",
    "    snow_df, annual_peak_swe, cumsum_swe = clean_snow_data_annual(snow_df)\n",
    "    # merge datasets\n",
    "    merged_df = pd.merge(snow_df, daily_q_df, how='left', left_index=True, right_index=True)\n",
    "\n",
    "    data_lst.append(merged_df)\n",
    "    peakswe_lst.append(annual_peak_swe)\n",
    "    sumswe_lst.append(cumsum_swe)\n",
    "    count += 1\n",
    "print(count)\n",
    "# peak swe for each station\n",
    "data_df = pd.concat(data_lst, axis=0, ignore_index = True)\n",
    "peakswe_df = pd.concat(peakswe_lst,axis=1)\n",
    "peakswe_df.columns = stationnames\n",
    "# cumsum swe for each station\n",
    "cumsum_swe_df = pd.concat(sumswe_lst,axis=1)\n",
    "cumsum_swe_df.columns = stationnames\n",
    "# max sum swe by year for each station\n",
    "cumsum_swe_df['year'] = cumsum_swe_df.index.year\n",
    "sum_list = []\n",
    "for name in stationnames:\n",
    "    sum_list.append(cumsum_swe_df.groupby(cumsum_swe_df.year)[name].max())\n",
    "sumswe_df = pd.concat(sum_list,axis=1)\n",
    "sumswe_df.columns = stationnames"
   ]
  },
  {
   "cell_type": "code",
   "execution_count": null,
   "metadata": {},
   "outputs": [],
   "source": []
  },
  {
   "cell_type": "code",
   "execution_count": null,
   "metadata": {},
   "outputs": [],
   "source": []
  },
  {
   "cell_type": "code",
   "execution_count": 5,
   "metadata": {},
   "outputs": [],
   "source": [
    "# merge q and swe data\n",
    "data_x = pd.merge(sumswe_df,peakswe_df, how='left', left_index=True, right_index=True)\n",
    "data_xy = pd.concat((data_x,annual_peak_q,annual_sum_q),axis=1)\n",
    "\n",
    "# new columns\n",
    "cols_new = ['680_sumswe','762_sumswe','701_sumswe','737_sumswe','682_sumswe',\n",
    "                '669_sumswe','1059_sumswe','680_peakswe','762_peakswe','701_peakswe','737_peakswe','682_peakswe',\n",
    "                '669_peakswe','1059_peakswe','peak_q','sum_q']\n",
    "data_xy.columns = cols_new\n",
    "\n",
    "# clean data matrix\n",
    "data_xy.drop(data_xy[data_xy.index < 1985].index, inplace=True)\n",
    "\n",
    "# impute nans instead of remove\n",
    "data_xy_impute = data_xy.fillna(0)\n",
    "\n",
    "# drop nans\n",
    "# data_xy_clean = data_xy.dropna()\n"
   ]
  },
  {
   "cell_type": "code",
   "execution_count": 6,
   "metadata": {},
   "outputs": [],
   "source": []
  },
  {
   "cell_type": "code",
   "execution_count": 7,
   "metadata": {},
   "outputs": [],
   "source": [
    "#data_xy_impute.head(41)"
   ]
  },
  {
   "cell_type": "code",
   "execution_count": null,
   "metadata": {},
   "outputs": [],
   "source": []
  },
  {
   "cell_type": "code",
   "execution_count": 9,
   "metadata": {},
   "outputs": [],
   "source": [
    "# prep data for model\n",
    "model_df = data_xy_impute\n",
    "cols = model_df.columns\n",
    "# regression\n",
    "X = model_df[cols[:-2]]\n",
    "y = model_df[cols[-1]] # -2 is peak q, -1 is sum q\n",
    "\n"
   ]
  },
  {
   "cell_type": "code",
   "execution_count": 10,
   "metadata": {},
   "outputs": [
    {
     "name": "stdout",
     "output_type": "stream",
     "text": [
      "R2 = 0.889\n",
      "[-2.66515645e+04 -3.89681962e+01  1.76332851e+04  6.03270425e+03\n",
      " -8.04676855e+03  6.16372353e+03 -2.23243332e+04  3.75510210e+06\n",
      "  9.82847666e+05 -1.37543973e+06 -6.44606470e+05  8.83994627e+05\n",
      " -2.66554616e+05  2.33586782e+06]\n"
     ]
    },
    {
     "name": "stderr",
     "output_type": "stream",
     "text": [
      "/anaconda3/lib/python3.6/site-packages/sklearn/linear_model/coordinate_descent.py:491: ConvergenceWarning: Objective did not converge. You might want to increase the number of iterations. Fitting data with very small alpha may cause precision problems.\n",
      "  ConvergenceWarning)\n"
     ]
    }
   ],
   "source": [
    "# make and fit model\n",
    "degree = 2\n",
    "#model = make_pipeline(PolynomialFeatures(degree), Ridge());\n",
    "model = Lasso()\n",
    "model.fit(X, y);\n",
    "y_hat = model.predict(X)\n",
    "# R2 score\n",
    "score = model.score(X,y)\n",
    "print('R2 = {0:.3f}'.format(score))\n",
    "\n",
    "coefs = model.coef_\n",
    "print(coefs)\n"
   ]
  },
  {
   "cell_type": "code",
   "execution_count": null,
   "metadata": {},
   "outputs": [],
   "source": []
  },
  {
   "cell_type": "code",
   "execution_count": 11,
   "metadata": {},
   "outputs": [],
   "source": [
    "# coefficient matrix\n",
    "# D = {}\n",
    "# for idx, name in enumerate(stationnames):\n",
    "#     D[name] = [[x for x in coefs[idx]], [y for y in coefs[idx+7]]]\n",
    "# #print(D)\n",
    "\n",
    "# import csv\n",
    "# #write to file:\n",
    "# with open('gunnison_coefs_peak_q.csv', 'w') as csv_file:\n",
    "#     writer = csv.writer(csv_file)\n",
    "#     for k, v in D.items():\n",
    "#        writer.writerow([k,v])"
   ]
  },
  {
   "cell_type": "markdown",
   "metadata": {},
   "source": [
    "sumswe_df.head()"
   ]
  },
  {
   "cell_type": "code",
   "execution_count": 12,
   "metadata": {},
   "outputs": [
    {
     "data": {
      "image/png": "[encoded data removed]",
      "text/plain": [
       "<matplotlib.figure.Figure at 0x11112f6a0>"
      ]
     },
     "metadata": {},
     "output_type": "display_data"
    }
   ],
   "source": [
    "# plot predictions\n",
    "# plots swe A, B\n",
    "df = model_df # dataframe to plot from\n",
    "y # already made\n",
    "y_hat # already made\n",
    "figname = 'gunnison_river_predict_sum_q'\n",
    "\n",
    "# plot\n",
    "fig, ax = plt.subplots(1,1,figsize=(16,8));\n",
    "ax.plot(y.index,y,'bo--')\n",
    "ax.set_ylabel('sum q (cfs)', fontsize=14);\n",
    "ax.set_xlabel('year', fontsize=14)\n",
    "ax.plot(y.index,y_hat,'ko--',alpha=0.9)\n",
    "ax.legend(['actual','predicted'])\n",
    "plt.suptitle('{}, R2 = {}'.format(figname,str(round(score,3))),fontsize=14)\n",
    "\n",
    "# arrs = [(0,0),(0,1),(0,2),(1,0),(1,1),(1,2)]\n",
    "# for x, col in enumerate(cols[:-1]):\n",
    "#     ax[arrs[x]].plot(df[col].values,y,'bo')\n",
    "#     ax[arrs[x]].set_ylabel('q (cfs)');\n",
    "#     ax[arrs[x]].set_xlabel(cols[x])\n",
    "#     ax[arrs[x]].plot(df[col].values,y_hat,'ko')\n",
    "#     ax[arrs[x]].legend(['actual','predicted'])\n",
    "# plt.suptitle('{}, R2 = {}'.format(figname,str(round(score,3))),fontsize=14)\n",
    "\n",
    "# save fig\n",
    "fig.set_size_inches(16, 8)\n",
    "plt.savefig('{}.png'.format(figname),format='png', dpi=300)"
   ]
  },
  {
   "cell_type": "code",
   "execution_count": null,
   "metadata": {},
   "outputs": [],
   "source": []
  },
  {
   "cell_type": "code",
   "execution_count": 13,
   "metadata": {},
   "outputs": [
    {
     "data": {
      "text/plain": [
       "[<matplotlib.lines.Line2D at 0x1121babe0>]"
      ]
     },
     "execution_count": 13,
     "metadata": {},
     "output_type": "execute_result"
    },
    {
     "data": {
      "image/png": "[encoded data removed]",
      "text/plain": [
       "<matplotlib.figure.Figure at 0x111c2b470>"
      ]
     },
     "metadata": {},
     "output_type": "display_data"
    }
   ],
   "source": [
    "# # explore X,y\n",
    "# fig, ax = plt.subplots(1,4,figsize=(16,8));\n",
    "# ax[0].plot(X[cols[0]],y,'bo')\n",
    "# #ax[0].set_ylabel('q (cfs)');\n",
    "# #ax.set_xlabel(cols[x])\n",
    "# ax[1].plot(X[cols[1]],y,'ko',alpha=0.1)\n",
    "# #ax.legend(['actual','predicted'])"
   ]
  },
  {
   "cell_type": "code",
   "execution_count": null,
   "metadata": {},
   "outputs": [],
   "source": []
  },
  {
   "cell_type": "code",
   "execution_count": null,
   "metadata": {},
   "outputs": [],
   "source": [
    "\n",
    "\n"
   ]
  },
  {
   "cell_type": "code",
   "execution_count": null,
   "metadata": {},
   "outputs": [],
   "source": []
  },
  {
   "cell_type": "code",
   "execution_count": null,
   "metadata": {},
   "outputs": [],
   "source": []
  },
  {
   "cell_type": "code",
   "execution_count": null,
   "metadata": {},
   "outputs": [],
   "source": []
  },
  {
   "cell_type": "code",
   "execution_count": null,
   "metadata": {},
   "outputs": [],
   "source": []
  },
  {
   "cell_type": "code",
   "execution_count": null,
   "metadata": {},
   "outputs": [],
   "source": []
  },
  {
   "cell_type": "code",
   "execution_count": null,
   "metadata": {},
   "outputs": [],
   "source": [
    "\n"
   ]
  },
  {
   "cell_type": "code",
   "execution_count": null,
   "metadata": {},
   "outputs": [],
   "source": []
  },
  {
   "cell_type": "code",
   "execution_count": null,
   "metadata": {},
   "outputs": [],
   "source": []
  },
  {
   "cell_type": "code",
   "execution_count": null,
   "metadata": {},
   "outputs": [],
   "source": []
  },
  {
   "cell_type": "code",
   "execution_count": null,
   "metadata": {},
   "outputs": [],
   "source": [
    "\n"
   ]
  },
  {
   "cell_type": "code",
   "execution_count": null,
   "metadata": {},
   "outputs": [],
   "source": []
  },
  {
   "cell_type": "code",
   "execution_count": null,
   "metadata": {},
   "outputs": [],
   "source": []
  },
  {
   "cell_type": "code",
   "execution_count": null,
   "metadata": {},
   "outputs": [],
   "source": []
  },
  {
   "cell_type": "code",
   "execution_count": null,
   "metadata": {},
   "outputs": [],
   "source": []
  },
  {
   "cell_type": "code",
   "execution_count": null,
   "metadata": {},
   "outputs": [],
   "source": []
  },
  {
   "cell_type": "code",
   "execution_count": null,
   "metadata": {},
   "outputs": [],
   "source": []
  },
  {
   "cell_type": "code",
   "execution_count": null,
   "metadata": {},
   "outputs": [],
   "source": []
  },
  {
   "cell_type": "code",
   "execution_count": null,
   "metadata": {},
   "outputs": [],
   "source": []
  },
  {
   "cell_type": "code",
   "execution_count": null,
   "metadata": {},
   "outputs": [],
   "source": [
    "\n"
   ]
  },
  {
   "cell_type": "code",
   "execution_count": null,
   "metadata": {},
   "outputs": [],
   "source": []
  },
  {
   "cell_type": "code",
   "execution_count": null,
   "metadata": {},
   "outputs": [],
   "source": []
  },
  {
   "cell_type": "code",
   "execution_count": null,
   "metadata": {},
   "outputs": [],
   "source": []
  },
  {
   "cell_type": "code",
   "execution_count": null,
   "metadata": {},
   "outputs": [],
   "source": []
  },
  {
   "cell_type": "code",
   "execution_count": null,
   "metadata": {},
   "outputs": [],
   "source": []
  },
  {
   "cell_type": "code",
   "execution_count": null,
   "metadata": {},
   "outputs": [],
   "source": []
  },
  {
   "cell_type": "code",
   "execution_count": null,
   "metadata": {},
   "outputs": [],
   "source": []
  },
  {
   "cell_type": "code",
   "execution_count": null,
   "metadata": {},
   "outputs": [],
   "source": []
  },
  {
   "cell_type": "code",
   "execution_count": null,
   "metadata": {},
   "outputs": [],
   "source": []
  },
  {
   "cell_type": "code",
   "execution_count": null,
   "metadata": {},
   "outputs": [],
   "source": []
  },
  {
   "cell_type": "code",
   "execution_count": null,
   "metadata": {},
   "outputs": [],
   "source": []
  }
 ],
 "metadata": {
  "kernelspec": {
   "display_name": "Python 3",
   "language": "python",
   "name": "python3"
  },
  "language_info": {
   "codemirror_mode": {
    "name": "ipython",
    "version": 3
   },
   "file_extension": ".py",
   "mimetype": "text/x-python",
   "name": "python",
   "nbconvert_exporter": "python",
   "pygments_lexer": "ipython3",
   "version": "3.6.4"
  }
 },
 "nbformat": 4,
 "nbformat_minor": 2
}
