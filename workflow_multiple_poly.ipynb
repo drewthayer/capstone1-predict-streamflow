{
 "cells": [
  {
   "cell_type": "code",
   "execution_count": 1,
   "metadata": {},
   "outputs": [],
   "source": [
    "# run in one batch\n",
    "import numpy as np\n",
    "import matplotlib.pyplot as plt\n",
    "import pandas as pd\n",
    "%matplotlib inline\n",
    "\n",
    "# scipy imports\n",
    "import scipy.stats as stats\n",
    "\n",
    "# sklearn imports\n",
    "from sklearn.linear_model import LinearRegression"
   ]
  },
  {
   "cell_type": "code",
   "execution_count": 30,
   "metadata": {},
   "outputs": [],
   "source": [
    "# define cleaning functions\n",
    "def clean_q_data(dataframe):\n",
    "    ''' \n",
    "    input: dataframe with re-named columns\n",
    "    output: dataframe\n",
    "    '''\n",
    "    # datetime operations\n",
    "    q_df['dt'] = pd.to_datetime(q_df['dt_string'])\n",
    "    q_df['year'] = q_df['dt'].dt.year\n",
    "    q_df['month'] = q_df['dt'].dt.month\n",
    "    q_df['day'] = q_df['dt'].dt.day\n",
    "\n",
    "    # new datetime without time\n",
    "    q_df['timestamp'] = pd.to_datetime(q_df[['year','month', 'day']], errors='coerce')\n",
    "\n",
    "    # make series from groupby, this has timestamp as index\n",
    "    daily_q = q_df.groupby(['timestamp'])['cfs'].mean()\n",
    "\n",
    "    # make df from series\n",
    "    daily_q_df = pd.DataFrame(daily_q)\n",
    "    return(daily_q_df)\n",
    "\n",
    "def clean_snow_data(dataframe):\n",
    "    ''' \n",
    "    input: dataframe with re-named columns\n",
    "    output: dataframe\n",
    "    '''\n",
    "    # unit conversions to metric\n",
    "    snow_df['swe_start_m'] = snow_df.swe_start_in * 0.0254\n",
    "    snow_df['airtemp_max_C'] = 5/9*(snow_df.airtemp_max_F - 32)\n",
    "    snow_df['airtemp_min_C'] = 5/9*(snow_df.airtemp_min_F - 32)\n",
    "    snow_df['airtemp_mean_C'] = 5/9*(snow_df.airtemp_mean_F - 32)\n",
    "    snow_df['precip_start_m'] = snow_df.precip_start_in * 0.0254\n",
    "    snow_df['precip_incr_m'] = snow_df.precip_incr_in * 0.0254\n",
    "    \n",
    "    # drop standard unit columns\n",
    "    snow_df.drop(['swe_start_in'], axis=1, inplace=True)\n",
    "    snow_df.drop(['airtemp_max_F'], axis=1, inplace=True)\n",
    "    snow_df.drop(['airtemp_min_F'], axis=1, inplace=True)\n",
    "    snow_df.drop(['airtemp_mean_F'], axis=1, inplace=True)\n",
    "    snow_df.drop(['precip_start_in'], axis=1, inplace=True)\n",
    "    snow_df.drop(['precip_incr_in'], axis=1, inplace=True)\n",
    "    \n",
    "    # datetime operations\n",
    "    snow_df['dt'] = pd.to_datetime(snow_df['date'])\n",
    "    snow_df['year'] = snow_df['dt'].dt.year\n",
    "    \n",
    "    # remove rows with swe=0\n",
    "    snow_df.drop(snow_df[snow_df.swe_start_m == 0].index, inplace=True)\n",
    "\n",
    "    #set snow df index to dt\n",
    "    snow_df.set_index(snow_df.dt, inplace=True)\n",
    "    return(snow_df)\n",
    "\n",
    "def clean_outliers(df):\n",
    "    ''' \n",
    "    input: dataframe with re-named columns\n",
    "    output: dataframe\n",
    "    '''\n",
    "    # clear min airtemp outliers\n",
    "    df.drop(df[df.airtemp_min_C > 18].index, inplace=True)\n",
    "    df.drop(df[df.airtemp_min_C < -40].index, inplace=True)\n",
    "    # clear max airtemp outliers\n",
    "    df.drop(df[df.airtemp_max_C > 50].index, inplace=True)\n",
    "    df.drop(df[df.airtemp_max_C < -45].index, inplace=True)\n",
    "    return(df)"
   ]
  },
  {
   "cell_type": "code",
   "execution_count": null,
   "metadata": {},
   "outputs": [],
   "source": [
    "    # annual peak Q\n",
    "    #peak_q = q_df.groupby(q_df.year)['cfs'].max()\n",
    "\n",
    "    # cumulative Q\n",
    "    #sum_q = q_df.groupby(q_df.year)['cfs'].cumsum()\n",
    "    \n",
    "    # annual peak swe\n",
    "    #peak_swe = snow_df.groupby(snow_df.year)['swe_start_in'].max()\n",
    "\n",
    "    # annual sum swe\n",
    "    #sum_swe = snow_df.groupby(snow_df.year)['swe_start_in'].cumsum()"
   ]
  },
  {
   "cell_type": "code",
   "execution_count": 6,
   "metadata": {},
   "outputs": [],
   "source": [
    "# load q data\n",
    "q_df = pd.read_csv('q-data/gunnison_delta.csv',sep='\\t',header=32) # read csv to dataframe\n",
    "q_df.columns = ['USGS', 'id', 'dt_string', 'tz', 'cfs', 'junk'] # rename columns\n",
    "\n",
    "daily_q_df = clean_q_data(q_df)"
   ]
  },
  {
   "cell_type": "code",
   "execution_count": 7,
   "metadata": {},
   "outputs": [
    {
     "name": "stdout",
     "output_type": "stream",
     "text": [
      "7\n"
     ]
    }
   ],
   "source": [
    "# load snotel data\n",
    "stationnames = ['680_park_cone','762_slumgullion','701_porphyry_creek','737_schofield_pass','682_park_reservoir',\n",
    "                '669_north_lost_trail','1059_cochetopa_pass']\n",
    "data_lst = []\n",
    "count = 0\n",
    "for stationname in stationnames:\n",
    "    snow_df = pd.read_csv('snotel-data/snotel_{}.csv'.format(stationname),header=58) \n",
    "    snow_df.columns = ['date', 'swe_start_in',\n",
    "       'precip_start_in',\n",
    "       'airtemp_max_F', 'airtemp_min_F',\n",
    "       'airtemp_mean_F', 'precip_incr_in']\n",
    "    # clean snow data\n",
    "    snow_df = clean_snow_data(snow_df)\n",
    "    # merge datasets\n",
    "    merged_df = pd.merge(snow_df, daily_q_df, how='left', left_index=True, right_index=True)\n",
    "\n",
    "    data_lst.append(merged_df)\n",
    "    count += 1\n",
    "print(count)\n",
    "data_df = pd.concat(data_lst, axis=0, ignore_index = True)"
   ]
  },
  {
   "cell_type": "code",
   "execution_count": 31,
   "metadata": {},
   "outputs": [],
   "source": [
    "# clean outliers\n",
    "data_clean = clean_outliers(data_df)"
   ]
  },
  {
   "cell_type": "code",
   "execution_count": 39,
   "metadata": {},
   "outputs": [
    {
     "data": {
      "text/html": [
       "<div>\n",
       "<style scoped>\n",
       "    .dataframe tbody tr th:only-of-type {\n",
       "        vertical-align: middle;\n",
       "    }\n",
       "\n",
       "    .dataframe tbody tr th {\n",
       "        vertical-align: top;\n",
       "    }\n",
       "\n",
       "    .dataframe thead th {\n",
       "        text-align: right;\n",
       "    }\n",
       "</style>\n",
       "<table border=\"1\" class=\"dataframe\">\n",
       "  <thead>\n",
       "    <tr style=\"text-align: right;\">\n",
       "      <th></th>\n",
       "      <th>date</th>\n",
       "      <th>precip_start_in</th>\n",
       "      <th>precip_incr_in</th>\n",
       "      <th>airtemp_max_C</th>\n",
       "      <th>airtemp_min_C</th>\n",
       "      <th>airtemp_mean_C</th>\n",
       "      <th>swe_start_m</th>\n",
       "      <th>dt</th>\n",
       "      <th>year</th>\n",
       "      <th>cfs</th>\n",
       "      <th>bins</th>\n",
       "    </tr>\n",
       "  </thead>\n",
       "  <tbody>\n",
       "    <tr>\n",
       "      <th>0</th>\n",
       "      <td>1980-03-30</td>\n",
       "      <td>2.0</td>\n",
       "      <td>NaN</td>\n",
       "      <td>NaN</td>\n",
       "      <td>NaN</td>\n",
       "      <td>NaN</td>\n",
       "      <td>NaN</td>\n",
       "      <td>1980-03-30</td>\n",
       "      <td>1980</td>\n",
       "      <td>NaN</td>\n",
       "      <td>NaN</td>\n",
       "    </tr>\n",
       "    <tr>\n",
       "      <th>1</th>\n",
       "      <td>1980-03-31</td>\n",
       "      <td>NaN</td>\n",
       "      <td>NaN</td>\n",
       "      <td>NaN</td>\n",
       "      <td>NaN</td>\n",
       "      <td>NaN</td>\n",
       "      <td>NaN</td>\n",
       "      <td>1980-03-31</td>\n",
       "      <td>1980</td>\n",
       "      <td>NaN</td>\n",
       "      <td>NaN</td>\n",
       "    </tr>\n",
       "    <tr>\n",
       "      <th>2</th>\n",
       "      <td>1980-04-01</td>\n",
       "      <td>NaN</td>\n",
       "      <td>NaN</td>\n",
       "      <td>NaN</td>\n",
       "      <td>NaN</td>\n",
       "      <td>NaN</td>\n",
       "      <td>NaN</td>\n",
       "      <td>1980-04-01</td>\n",
       "      <td>1980</td>\n",
       "      <td>NaN</td>\n",
       "      <td>NaN</td>\n",
       "    </tr>\n",
       "    <tr>\n",
       "      <th>3</th>\n",
       "      <td>1980-04-02</td>\n",
       "      <td>NaN</td>\n",
       "      <td>NaN</td>\n",
       "      <td>NaN</td>\n",
       "      <td>NaN</td>\n",
       "      <td>NaN</td>\n",
       "      <td>NaN</td>\n",
       "      <td>1980-04-02</td>\n",
       "      <td>1980</td>\n",
       "      <td>NaN</td>\n",
       "      <td>NaN</td>\n",
       "    </tr>\n",
       "    <tr>\n",
       "      <th>4</th>\n",
       "      <td>1980-04-03</td>\n",
       "      <td>NaN</td>\n",
       "      <td>NaN</td>\n",
       "      <td>NaN</td>\n",
       "      <td>NaN</td>\n",
       "      <td>NaN</td>\n",
       "      <td>NaN</td>\n",
       "      <td>1980-04-03</td>\n",
       "      <td>1980</td>\n",
       "      <td>NaN</td>\n",
       "      <td>NaN</td>\n",
       "    </tr>\n",
       "  </tbody>\n",
       "</table>\n",
       "</div>"
      ],
      "text/plain": [
       "         date  precip_start_in  precip_incr_in  airtemp_max_C  airtemp_min_C  \\\n",
       "0  1980-03-30              2.0             NaN            NaN            NaN   \n",
       "1  1980-03-31              NaN             NaN            NaN            NaN   \n",
       "2  1980-04-01              NaN             NaN            NaN            NaN   \n",
       "3  1980-04-02              NaN             NaN            NaN            NaN   \n",
       "4  1980-04-03              NaN             NaN            NaN            NaN   \n",
       "\n",
       "   airtemp_mean_C  swe_start_m         dt  year  cfs bins  \n",
       "0             NaN          NaN 1980-03-30  1980  NaN  NaN  \n",
       "1             NaN          NaN 1980-03-31  1980  NaN  NaN  \n",
       "2             NaN          NaN 1980-04-01  1980  NaN  NaN  \n",
       "3             NaN          NaN 1980-04-02  1980  NaN  NaN  \n",
       "4             NaN          NaN 1980-04-03  1980  NaN  NaN  "
      ]
     },
     "execution_count": 39,
     "metadata": {},
     "output_type": "execute_result"
    }
   ],
   "source": [
    "data_df.head()"
   ]
  },
  {
   "cell_type": "code",
   "execution_count": 29,
   "metadata": {},
   "outputs": [],
   "source": []
  },
  {
   "cell_type": "code",
   "execution_count": 32,
   "metadata": {},
   "outputs": [],
   "source": [
    "# bin by min temp\n",
    "disc = 0.5 # discretization to bin, in degrees C\n",
    "bin_idxs = np.arange(data_clean.airtemp_min_C.min(),data_clean.airtemp_min_C.max(),disc,dtype='float')\n",
    "bins, binvals = pd.cut(data_clean.airtemp_min_C,bin_idxs,right=True,retbins=True)\n",
    "data_clean['bins'] = bins.values\n",
    "maxQ_mintemp = data_clean.groupby(data_clean.bins)['cfs'].max()\n",
    "#ok here\n",
    "\n",
    "# data for new regression\n",
    "meanSWE_mintemp = data_clean.groupby(data_clean.bins)['swe_start_m'].mean()\n",
    "meanAIR_mintemp = data_clean.groupby(data_clean.bins)['airtemp_min_C'].mean()\n",
    "meanPRECIP_mintemp = data_clean.groupby(data_clean.bins)['precip_start_in'].mean()\n",
    "data_binned = pd.concat([meanSWE_mintemp,meanAIR_mintemp,meanPRECIP_mintemp,maxQ_mintemp], axis=1)\n",
    "# ok here\n",
    "\n",
    "# drop nans\n",
    "data_clean_binned = data_binned.dropna()\n"
   ]
  },
  {
   "cell_type": "code",
   "execution_count": 37,
   "metadata": {},
   "outputs": [],
   "source": [
    "#np.shape(data_clean_binned)"
   ]
  },
  {
   "cell_type": "code",
   "execution_count": 38,
   "metadata": {},
   "outputs": [],
   "source": [
    "#data_clean_binned.head(10)\n"
   ]
  },
  {
   "cell_type": "code",
   "execution_count": 21,
   "metadata": {},
   "outputs": [],
   "source": [
    "#feature engineer -squared terms\n",
    "model_df = data_clean_binned\n",
    "model_df['airmin2'] = model_df.airtemp_min_C**2*-1\n",
    "model_df['airmin3'] = model_df.airtemp_min_C**3\n",
    "model_df['airmin4'] = model_df.airtemp_min_C**4*-1"
   ]
  },
  {
   "cell_type": "code",
   "execution_count": 33,
   "metadata": {},
   "outputs": [],
   "source": []
  },
  {
   "cell_type": "code",
   "execution_count": 34,
   "metadata": {},
   "outputs": [
    {
     "data": {
      "text/html": [
       "<div>\n",
       "<style scoped>\n",
       "    .dataframe tbody tr th:only-of-type {\n",
       "        vertical-align: middle;\n",
       "    }\n",
       "\n",
       "    .dataframe tbody tr th {\n",
       "        vertical-align: top;\n",
       "    }\n",
       "\n",
       "    .dataframe thead th {\n",
       "        text-align: right;\n",
       "    }\n",
       "</style>\n",
       "<table border=\"1\" class=\"dataframe\">\n",
       "  <thead>\n",
       "    <tr style=\"text-align: right;\">\n",
       "      <th></th>\n",
       "      <th>swe_start_m</th>\n",
       "      <th>airtemp_min_C</th>\n",
       "      <th>precip_start_in</th>\n",
       "      <th>cfs</th>\n",
       "      <th>airmin2</th>\n",
       "      <th>airmin3</th>\n",
       "      <th>airmin4</th>\n",
       "    </tr>\n",
       "    <tr>\n",
       "      <th>bins</th>\n",
       "      <th></th>\n",
       "      <th></th>\n",
       "      <th></th>\n",
       "      <th></th>\n",
       "      <th></th>\n",
       "      <th></th>\n",
       "      <th></th>\n",
       "    </tr>\n",
       "  </thead>\n",
       "  <tbody>\n",
       "    <tr>\n",
       "      <th>(-36.778, -36.278]</th>\n",
       "      <td>0.403860</td>\n",
       "      <td>-36.666667</td>\n",
       "      <td>19.300000</td>\n",
       "      <td>538.937500</td>\n",
       "      <td>-1344.444444</td>\n",
       "      <td>-49296.296296</td>\n",
       "      <td>-1.807531e+06</td>\n",
       "    </tr>\n",
       "    <tr>\n",
       "      <th>(-36.278, -35.778]</th>\n",
       "      <td>0.289560</td>\n",
       "      <td>-36.111111</td>\n",
       "      <td>13.350000</td>\n",
       "      <td>2512.395833</td>\n",
       "      <td>-1304.012346</td>\n",
       "      <td>-47089.334705</td>\n",
       "      <td>-1.700448e+06</td>\n",
       "    </tr>\n",
       "    <tr>\n",
       "      <th>(-35.778, -35.278]</th>\n",
       "      <td>0.179705</td>\n",
       "      <td>-35.555556</td>\n",
       "      <td>9.300000</td>\n",
       "      <td>1328.333333</td>\n",
       "      <td>-1264.197531</td>\n",
       "      <td>-44949.245542</td>\n",
       "      <td>-1.598195e+06</td>\n",
       "    </tr>\n",
       "    <tr>\n",
       "      <th>(-34.778, -34.278]</th>\n",
       "      <td>0.150223</td>\n",
       "      <td>-34.444444</td>\n",
       "      <td>7.414286</td>\n",
       "      <td>1335.729167</td>\n",
       "      <td>-1186.419753</td>\n",
       "      <td>-40865.569273</td>\n",
       "      <td>-1.407592e+06</td>\n",
       "    </tr>\n",
       "    <tr>\n",
       "      <th>(-34.278, -33.778]</th>\n",
       "      <td>0.281940</td>\n",
       "      <td>-33.888889</td>\n",
       "      <td>12.633333</td>\n",
       "      <td>1805.208333</td>\n",
       "      <td>-1148.456790</td>\n",
       "      <td>-38919.924554</td>\n",
       "      <td>-1.318953e+06</td>\n",
       "    </tr>\n",
       "  </tbody>\n",
       "</table>\n",
       "</div>"
      ],
      "text/plain": [
       "                    swe_start_m  airtemp_min_C  precip_start_in          cfs  \\\n",
       "bins                                                                           \n",
       "(-36.778, -36.278]     0.403860     -36.666667        19.300000   538.937500   \n",
       "(-36.278, -35.778]     0.289560     -36.111111        13.350000  2512.395833   \n",
       "(-35.778, -35.278]     0.179705     -35.555556         9.300000  1328.333333   \n",
       "(-34.778, -34.278]     0.150223     -34.444444         7.414286  1335.729167   \n",
       "(-34.278, -33.778]     0.281940     -33.888889        12.633333  1805.208333   \n",
       "\n",
       "                        airmin2       airmin3       airmin4  \n",
       "bins                                                         \n",
       "(-36.778, -36.278] -1344.444444 -49296.296296 -1.807531e+06  \n",
       "(-36.278, -35.778] -1304.012346 -47089.334705 -1.700448e+06  \n",
       "(-35.778, -35.278] -1264.197531 -44949.245542 -1.598195e+06  \n",
       "(-34.778, -34.278] -1186.419753 -40865.569273 -1.407592e+06  \n",
       "(-34.278, -33.778] -1148.456790 -38919.924554 -1.318953e+06  "
      ]
     },
     "execution_count": 34,
     "metadata": {},
     "output_type": "execute_result"
    }
   ],
   "source": [
    "model_df.head()"
   ]
  },
  {
   "cell_type": "code",
   "execution_count": 36,
   "metadata": {},
   "outputs": [
    {
     "name": "stdout",
     "output_type": "stream",
     "text": [
      "R2 = 0.926\n"
     ]
    },
    {
     "data": {
      "image/png": "[encoded data removed]",
      "text/plain": [
       "<matplotlib.figure.Figure at 0x1a1575aba8>"
      ]
     },
     "metadata": {},
     "output_type": "display_data"
    }
   ],
   "source": [
    "#model_df = data_clean_binned\n",
    "cols = model_df.columns\n",
    "# regression\n",
    "X = model_df[['airtemp_min_C','airmin2','airmin3', 'airmin4']]\n",
    "y = model_df['cfs']\n",
    "\n",
    "model = LinearRegression()\n",
    "model.fit(X,y)\n",
    "y_hat = model.predict(X)\n",
    "\n",
    "# R2 score\n",
    "score = model.score(X,y)\n",
    "print('R2 = {0:.3f}'.format(score))\n",
    "\n",
    "# plot predictions\n",
    "# plots swe A, B\n",
    "fig, ax = plt.subplots(1,2,figsize=(12,5));\n",
    "ax[0].plot(data_clean_binned.swe_start_m,y,'bo')\n",
    "ax[0].set_ylabel('q (cfs)');\n",
    "ax[0].set_xlabel('swe(m)')\n",
    "ax[0].plot(data_clean_binned.swe_start_m,y_hat,'ko')\n",
    "ax[0].legend(['actual','predicted'])\n",
    "\n",
    "ax[1].plot(data_clean_binned.airtemp_min_C,y,'bo')\n",
    "ax[1].set_ylabel('q (cfs)');\n",
    "ax[1].set_xlabel('min airtemp (C)')\n",
    "ax[1].plot(data_clean_binned.airtemp_min_C,y_hat,'ko')\n",
    "ax[1].legend(['actual','predicted'])\n",
    "\n",
    "figname = 'gunnison_river_7stations_poly4_C'\n",
    "plt.text(-5,1500,'R2 = {0:.3f}'.format(score),fontsize=12)\n",
    "plt.savefig('{}.pdf'.format(figname),format='pdf')"
   ]
  },
  {
   "cell_type": "code",
   "execution_count": null,
   "metadata": {},
   "outputs": [],
   "source": []
  },
  {
   "cell_type": "code",
   "execution_count": null,
   "metadata": {},
   "outputs": [],
   "source": [
    "np.shape(X)"
   ]
  },
  {
   "cell_type": "code",
   "execution_count": null,
   "metadata": {},
   "outputs": [],
   "source": [
    "np.shape(y)"
   ]
  },
  {
   "cell_type": "code",
   "execution_count": null,
   "metadata": {},
   "outputs": [],
   "source": [
    "X.head()\n"
   ]
  },
  {
   "cell_type": "code",
   "execution_count": null,
   "metadata": {},
   "outputs": [],
   "source": []
  },
  {
   "cell_type": "code",
   "execution_count": null,
   "metadata": {},
   "outputs": [],
   "source": []
  },
  {
   "cell_type": "code",
   "execution_count": null,
   "metadata": {},
   "outputs": [],
   "source": []
  },
  {
   "cell_type": "code",
   "execution_count": null,
   "metadata": {},
   "outputs": [],
   "source": []
  },
  {
   "cell_type": "code",
   "execution_count": null,
   "metadata": {},
   "outputs": [],
   "source": []
  },
  {
   "cell_type": "code",
   "execution_count": null,
   "metadata": {},
   "outputs": [],
   "source": []
  },
  {
   "cell_type": "code",
   "execution_count": null,
   "metadata": {},
   "outputs": [],
   "source": []
  },
  {
   "cell_type": "code",
   "execution_count": null,
   "metadata": {},
   "outputs": [],
   "source": []
  },
  {
   "cell_type": "code",
   "execution_count": null,
   "metadata": {},
   "outputs": [],
   "source": []
  },
  {
   "cell_type": "code",
   "execution_count": null,
   "metadata": {},
   "outputs": [],
   "source": []
  },
  {
   "cell_type": "code",
   "execution_count": null,
   "metadata": {},
   "outputs": [],
   "source": []
  }
 ],
 "metadata": {
  "kernelspec": {
   "display_name": "Python 3",
   "language": "python",
   "name": "python3"
  },
  "language_info": {
   "codemirror_mode": {
    "name": "ipython",
    "version": 3
   },
   "file_extension": ".py",
   "mimetype": "text/x-python",
   "name": "python",
   "nbconvert_exporter": "python",
   "pygments_lexer": "ipython3",
   "version": "3.6.4"
  }
 },
 "nbformat": 4,
 "nbformat_minor": 2
}
