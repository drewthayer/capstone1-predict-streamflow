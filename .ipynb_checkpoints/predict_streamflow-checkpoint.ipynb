{
 "cells": [
  {
   "cell_type": "code",
   "execution_count": 54,
   "metadata": {},
   "outputs": [],
   "source": [
    "import numpy as np\n",
    "import matplotlib.pyplot as plt\n",
    "import pandas as pd\n",
    "%matplotlib inline\n",
    "\n",
    "# scipy imports\n",
    "import scipy.stats as stats\n",
    "\n",
    "# sklearn imports\n",
    "from sklearn.linear_model import LinearRegression\n",
    "from sklearn.linear_model import Ridge\n",
    "from sklearn.linear_model import Lasso\n",
    "from sklearn.linear_model import ElasticNet\n",
    "from sklearn.preprocessing import PolynomialFeatures\n",
    "from sklearn.preprocessing import StandardScaler\n",
    "from sklearn.pipeline import make_pipeline\n",
    "from sklearn.pipeline import Pipeline\n",
    "from sklearn.model_selection import KFold\n",
    "from sklearn.model_selection import train_test_split\n",
    "from sklearn.model_selection import TimeSeriesSplit\n",
    "from sklearn.model_selection import cross_val_score\n",
    "from sklearn.metrics import mean_squared_error\n"
   ]
  },
  {
   "cell_type": "code",
   "execution_count": 12,
   "metadata": {},
   "outputs": [],
   "source": [
    "# import data cleaning scripts\n",
    "%run src/clean_q_data.py\n",
    "%run src/clean_snow_data.py\n",
    "%run src/remove_outliers.py\n",
    "\n"
   ]
  },
  {
   "cell_type": "markdown",
   "metadata": {},
   "source": [
    "### load q and swe data, merge together"
   ]
  },
  {
   "cell_type": "code",
   "execution_count": 13,
   "metadata": {},
   "outputs": [],
   "source": [
    "# load q data\n",
    "q_df = pd.read_csv('q-data/gunnison_delta.csv',sep='\\t',header=32) # read csv to dataframe\n",
    "q_df.columns = ['USGS', 'id', 'dt_string', 'tz', 'cfs', 'junk'] # rename columns\n",
    "\n",
    "daily_q_df = clean_q_data(q_df)"
   ]
  },
  {
   "cell_type": "code",
   "execution_count": 14,
   "metadata": {},
   "outputs": [
    {
     "name": "stdout",
     "output_type": "stream",
     "text": [
      "13 stations loaded\n"
     ]
    }
   ],
   "source": [
    "# load snotel data\n",
    "stationnames = ['680_park_cone','762_slumgullion','701_porphyry_creek','737_schofield_pass',\n",
    "                '682_park_reservoir','669_north_lost_trail','1059_cochetopa_pass','618_mcclure_pass',\n",
    "                '409_columbine_pass','675_overland_reservoir','622_mesa_lakes','538_idarado',\n",
    "               '713_red_mtn_pass']\n",
    "\n",
    "# make data column names\n",
    "cols_data = []\n",
    "for station in stationnames:\n",
    "    sum_list = '{}_sumswe'.format(station[:3])\n",
    "    cols_data.append(sum_list)\n",
    "    peak_list = '{}_peakswe'.format(station[:3])\n",
    "    cols_data.append(peak_list)\n",
    "cols_data.append('peak_q')\n",
    "cols_data.append('sum_q')\n",
    "\n",
    "# merge snotel data with q data\n",
    "data_lst = []\n",
    "count = 0\n",
    "for stationname in stationnames:\n",
    "    snow_df = pd.read_csv('snotel-data/snotel_{}.csv'.format(stationname),header=58) \n",
    "    snow_df.columns = ['dt_string', 'swe_start_in',\n",
    "       'precip_start_in',\n",
    "       'airtemp_max_F', 'airtemp_min_F',\n",
    "       'airtemp_mean_F', 'precip_incr_in']\n",
    "    \n",
    "    snow_df['stn'] = stationname\n",
    "    \n",
    "    # import cleaned snow data\n",
    "    snow_df = clean_snow_data(snow_df)\n",
    "\n",
    "    # merge datasets\n",
    "    merged_df = pd.merge(snow_df, daily_q_df, how='left', left_index=True, right_index=True)\n",
    "    data_lst.append(merged_df)\n",
    "    count += 1\n",
    "print('{} stations loaded'.format(count))\n",
    "\n",
    "# contatenate data\n",
    "data_df = pd.concat(data_lst, axis=0, ignore_index = True)\n",
    "\n",
    "# set index as datetime\n",
    "data_df.set_index('dt', inplace=True);"
   ]
  },
  {
   "cell_type": "markdown",
   "metadata": {},
   "source": [
    "### calculate cumulative monthly swe and q"
   ]
  },
  {
   "cell_type": "code",
   "execution_count": 15,
   "metadata": {},
   "outputs": [],
   "source": [
    "# cumulative monthly swe\n",
    "swe_cumsum = data_df.groupby(['year','month'])['swe_start_m'].cumsum()\n",
    "data_df['swe_cumsum'] = swe_cumsum\n",
    "\n",
    "# cumulative monthly cfs\n",
    "cfs_cumsum = data_df.groupby(['year','month'])['cfs'].cumsum()\n",
    "data_df['cfs_cumsum'] = cfs_cumsum"
   ]
  },
  {
   "cell_type": "markdown",
   "metadata": {},
   "source": [
    "### make binary variables from categorical variables"
   ]
  },
  {
   "cell_type": "code",
   "execution_count": 16,
   "metadata": {},
   "outputs": [],
   "source": [
    "# get dummies for station names \n",
    "data_all = pd.get_dummies(data_df)"
   ]
  },
  {
   "cell_type": "markdown",
   "metadata": {},
   "source": [
    "### remove features based on iterative model assessments"
   ]
  },
  {
   "cell_type": "code",
   "execution_count": 17,
   "metadata": {},
   "outputs": [],
   "source": [
    "# drop cfs column\n",
    "#data_all.drop('cfs', axis=1, inplace=True)\n",
    "data_all.drop('cfs_cumsum', axis=1, inplace=True)\n",
    "# drop month, year\n",
    "data_all.drop('year', axis=1, inplace=True)\n",
    "data_all.drop('month', axis=1, inplace=True)\n",
    "#data_all.drop('airtemp_max_C', axis=1, inplace=True)\n",
    "#data_all.drop('airtemp_mean_C', axis=1, inplace=True)\n",
    "#data_all.drop('precip_incr_m', axis=1, inplace=True)"
   ]
  },
  {
   "cell_type": "markdown",
   "metadata": {},
   "source": [
    "## pipeline: standardize and linear regression"
   ]
  },
  {
   "cell_type": "markdown",
   "metadata": {},
   "source": [
    "### prep data for modeling"
   ]
  },
  {
   "cell_type": "code",
   "execution_count": 18,
   "metadata": {},
   "outputs": [],
   "source": [
    "# drop nans\n",
    "data_clean = data_all.dropna()\n",
    "\n",
    "# define dataframe and columns\n",
    "model_df = data_clean\n",
    "cols = model_df.columns\n",
    "\n",
    "# split train and test data\n",
    "split_year = 2015\n",
    "\n",
    "train_df = model_df[model_df.index.year < split_year]\n",
    "test_df = model_df[model_df.index.year >= split_year]\n",
    "\n",
    "target_col = 'cfs'\n",
    "X_train = train_df.drop(target_col, axis=1)\n",
    "y_train = train_df[target_col]\n",
    "\n",
    "X_test = test_df.drop(target_col, axis=1)\n",
    "y_test = test_df[target_col]\n"
   ]
  },
  {
   "cell_type": "markdown",
   "metadata": {},
   "source": [
    "### fit model and predict target values"
   ]
  },
  {
   "cell_type": "code",
   "execution_count": 24,
   "metadata": {},
   "outputs": [],
   "source": [
    "# define pipeline\n",
    "degree = 3\n",
    "alpha = 559\n",
    "pipeline = Pipeline([\n",
    "    ('standardize', StandardScaler()),\n",
    "    #('polynomial', PolynomialFeatures(degree)),\n",
    "    ('regression', Ridge(alpha)),\n",
    "])\n",
    "\n",
    "# fit model on train data\n",
    "pipeline.fit(X_train,y_train)\n",
    "y_hat_train = pipeline.predict(X_train)\n",
    "# predict test data\n",
    "y_hat_test = pipeline.predict(X_test)"
   ]
  },
  {
   "cell_type": "markdown",
   "metadata": {},
   "source": [
    "### regression scores and coefficients"
   ]
  },
  {
   "cell_type": "code",
   "execution_count": 25,
   "metadata": {},
   "outputs": [
    {
     "name": "stdout",
     "output_type": "stream",
     "text": [
      "R2 = 0.396\n",
      "RMSE = 1126.695\n",
      "[-628.92761718   28.29378249  216.3266762   -48.3230776  1553.90037995\n",
      "   -8.00195773  -39.51166056   66.93484611 -118.77578203  -18.43379883\n",
      "  -45.94674783  -18.83019134  -75.10987566   36.31353109  149.96659969\n",
      "  -66.37440934  160.57223673  -71.38138543 -134.26488614  162.20158411]\n"
     ]
    }
   ],
   "source": [
    "# R2 score\n",
    "score = pipeline.score(X_test,y_test)\n",
    "print('R2 = {0:.3f}'.format(score))\n",
    "\n",
    "# RMSE\n",
    "rmse = np.sqrt(mean_squared_error(y_test, y_hat_test))\n",
    "print('RMSE = {0:.3f}'.format(rmse))\n",
    "\n",
    "# coefficients\n",
    "model = pipeline.named_steps['regression']\n",
    "coefs = model.coef_\n",
    "print(coefs)"
   ]
  },
  {
   "cell_type": "markdown",
   "metadata": {},
   "source": [
    "### plot"
   ]
  },
  {
   "cell_type": "code",
   "execution_count": 26,
   "metadata": {},
   "outputs": [
    {
     "data": {
      "image/png": "[encoded data removed]",
      "text/plain": [
       "<matplotlib.figure.Figure at 0x1a285900b8>"
      ]
     },
     "metadata": {},
     "output_type": "display_data"
    }
   ],
   "source": [
    "df = model_df # dataframe to plot from\n",
    "figname = 'gunnison river predict streamflow poly 3'\n",
    "\n",
    "# plot\n",
    "fig, ax = plt.subplots(2,1,figsize=(16,8));\n",
    "ax[0].plot(y_train.index,y_train.values,'bo', markersize=4, alpha=0.4)\n",
    "ax[0].set_ylabel('streamflow (cfs)', fontsize=14);\n",
    "#ax[0].set_xlabel('year', fontsize=14)\n",
    "ax[0].plot(y_train.index,y_hat_train,'ko', markersize=2, alpha=0.4)\n",
    "ax[0].legend(['actual','predicted'])\n",
    "ax[0].set_title('train data')\n",
    "\n",
    "ax[1].plot(y_test.index,y_test.values,'bo', markersize=4, alpha=0.4)\n",
    "ax[1].set_ylabel('streamflow (cfs)', fontsize=14);\n",
    "#ax[1].set_xlabel('year', fontsize=14)\n",
    "ax[1].plot(X_test.index,y_hat_test,'ko', markersize=3, alpha=0.4)\n",
    "ax[1].legend(['actual','predicted'])\n",
    "ax[1].set_title('test data')\n",
    "plt.suptitle('{}, R2 = {}, RMSE = {}'.format(figname,str(round(score,3)), str(round(rmse,3))),fontsize=14)\n",
    "\n",
    "# save fig\n",
    "fig.set_size_inches(16, 10)\n",
    "plt.savefig('{}.png'.format(figname),format='png', dpi=300)"
   ]
  },
  {
   "cell_type": "code",
   "execution_count": 34,
   "metadata": {},
   "outputs": [],
   "source": [
    "#coefficient matrix\n"
   ]
  },
  {
   "cell_type": "code",
   "execution_count": 37,
   "metadata": {},
   "outputs": [
    {
     "data": {
      "text/plain": [
       "<matplotlib.figure.Figure at 0x1a12bf1e80>"
      ]
     },
     "metadata": {},
     "output_type": "display_data"
    }
   ],
   "source": [
    "%run src/linear_coefs_to_csv.py\n",
    "\n",
    "X = X_train\n",
    "model = pipeline.named_steps['regression']\n",
    "filename = 'gunnison_coefs_ridge.csv'\n",
    "coefs_dict = linear_coefs_to_csv(X,model,filename)"
   ]
  },
  {
   "cell_type": "code",
   "execution_count": 38,
   "metadata": {},
   "outputs": [
    {
     "data": {
      "text/plain": [
       "{'airtemp_max_C': 28.293782490854056,\n",
       " 'airtemp_mean_C': -48.32307760336976,\n",
       " 'airtemp_min_C': 216.32667620384066,\n",
       " 'precip_incr_m': -8.001957729473943,\n",
       " 'precip_start_m': 1553.9003799473974,\n",
       " 'stn_1059_cochetopa_pass': 66.9348461050622,\n",
       " 'stn_409_columbine_pass': -118.77578203220367,\n",
       " 'stn_538_idarado': -18.433798829737416,\n",
       " 'stn_618_mcclure_pass': -45.946747828332185,\n",
       " 'stn_622_mesa_lakes': -18.83019134340874,\n",
       " 'stn_669_north_lost_trail': -75.10987565832275,\n",
       " 'stn_675_overland_reservoir': 36.31353109363633,\n",
       " 'stn_680_park_cone': 149.96659968728443,\n",
       " 'stn_682_park_reservoir': -66.37440933904966,\n",
       " 'stn_701_porphyry_creek': 160.5722367277578,\n",
       " 'stn_713_red_mtn_pass': -71.38138543183264,\n",
       " 'stn_737_schofield_pass': -134.26488614412813,\n",
       " 'stn_762_slumgullion': 162.20158410825135,\n",
       " 'swe_cumsum': -39.511660560256516,\n",
       " 'swe_start_m': -628.9276171832544}"
      ]
     },
     "execution_count": 38,
     "metadata": {},
     "output_type": "execute_result"
    }
   ],
   "source": [
    "coefs_dict"
   ]
  },
  {
   "cell_type": "code",
   "execution_count": null,
   "metadata": {},
   "outputs": [],
   "source": []
  },
  {
   "cell_type": "code",
   "execution_count": null,
   "metadata": {},
   "outputs": [],
   "source": []
  },
  {
   "cell_type": "code",
   "execution_count": 46,
   "metadata": {},
   "outputs": [],
   "source": [
    "%run src/cross_val.py\n",
    "\n",
    "#run a cross validation\n",
    "X = np.array(X_train)\n",
    "y = np.array(y_train)\n",
    "\n",
    "#\n",
    "degree = 3\n",
    "alpha= 330\n",
    "pipeline = Pipeline([\n",
    "    ('standardize', StandardScaler()),\n",
    "    #('polynomial', PolynomialFeatures(degree)),\n",
    "    ('regression', Ridge(alpha)),\n",
    "    ])\n",
    "model = pipeline.named_steps['regression']\n",
    "n_folds = 5\n",
    "errors, cfs_best = cross_val(X, y, model, n_folds, errortype='RMSE', random_seed=154)"
   ]
  },
  {
   "cell_type": "code",
   "execution_count": 49,
   "metadata": {},
   "outputs": [
    {
     "data": {
      "text/plain": [
       "array([[1355.44731926, 2029.43965896],\n",
       "       [1377.22633206, 1435.15969305],\n",
       "       [1372.14212162, 1165.82304576],\n",
       "       [1303.71419026, 1316.48830482],\n",
       "       [1294.49902114, 1308.75679243]])"
      ]
     },
     "execution_count": 49,
     "metadata": {},
     "output_type": "execute_result"
    }
   ],
   "source": [
    "errors"
   ]
  },
  {
   "cell_type": "code",
   "execution_count": 52,
   "metadata": {},
   "outputs": [],
   "source": [
    "%run src/train_at_various_alphas.py\n",
    "\n",
    "# run an alpha test\n",
    "X = np.array(X_train)\n",
    "y = np.array(y_train)\n",
    "\n",
    "model = Ridge # must be 'Ridge' or 'Lasso'\n",
    "# define alphas\n",
    "alphas = np.logspace(-2,8,100)\n",
    "n_folds=20\n",
    "errortype='RMSE'\n",
    "cv_errors_train, cv_errors_test = train_at_various_alphas(X, y, model, alphas, n_folds, errortype)"
   ]
  },
  {
   "cell_type": "code",
   "execution_count": 53,
   "metadata": {},
   "outputs": [
    {
     "name": "stdout",
     "output_type": "stream",
     "text": [
      "min error = 1357.7527112344812\n",
      "alpha at min error = 17.073526474706906\n"
     ]
    },
    {
     "data": {
      "image/png": "[encoded data removed]",
      "text/plain": [
       "<matplotlib.figure.Figure at 0x1a285900f0>"
      ]
     },
     "metadata": {},
     "output_type": "display_data"
    }
   ],
   "source": [
    "# outputs from alpha testing\n",
    "train_means = cv_errors_train.mean(axis=0)\n",
    "test_means = cv_errors_test.mean(axis=0)\n",
    "# calc min alpha\n",
    "min_idx = test_means.values.argmin()\n",
    "min_alpha = alphas[min_idx]\n",
    "print('min error = {}'.format(np.min(test_means)))\n",
    "print('alpha at min error = {}'.format(min_alpha))\n",
    "\n",
    "fig, axs = plt.subplots(1,1,figsize=(5,5));\n",
    "h1 = axs.plot(alphas,train_means,'b-')\n",
    "h2 = axs.plot(alphas,test_means,'k-')\n",
    "axs.set_xscale('log')\n",
    "axs.invert_xaxis()\n",
    "axs.set_xlabel('alpha')\n",
    "axs.set_ylabel('error')\n",
    "plt.axvline(min_alpha, linestyle='dashed')\n",
    "plt.legend(('train','test'));\n",
    "#axs.set_yscale('log');\n",
    "\n",
    "# save fig\n",
    "figname = 'alpha_test_poly2_5folds'\n",
    "fig.set_size_inches(5, 5)\n",
    "plt.savefig('{}.png'.format(figname),format='png', dpi=300)"
   ]
  },
  {
   "cell_type": "markdown",
   "metadata": {},
   "source": [
    "### elastic net"
   ]
  },
  {
   "cell_type": "code",
   "execution_count": 55,
   "metadata": {},
   "outputs": [
    {
     "data": {
      "text/plain": [
       "ElasticNet(alpha=1, copy_X=True, fit_intercept=True, l1_ratio=0.5,\n",
       "      max_iter=1000, normalize=False, positive=False, precompute=False,\n",
       "      random_state=None, selection='cyclic', tol=0.0001, warm_start=False)"
      ]
     },
     "execution_count": 55,
     "metadata": {},
     "output_type": "execute_result"
    }
   ],
   "source": [
    "alphas = np.logspace(-2,4,10)\n",
    "model = ElasticNet(alpha=1)\n",
    "model.fit(X_train,y_train)\n"
   ]
  },
  {
   "cell_type": "code",
   "execution_count": 56,
   "metadata": {},
   "outputs": [],
   "source": [
    "y_hat_train = model.predict(X_train)"
   ]
  },
  {
   "cell_type": "code",
   "execution_count": 57,
   "metadata": {},
   "outputs": [
    {
     "name": "stdout",
     "output_type": "stream",
     "text": [
      "[111.77882565  13.25646769   3.03699314  78.16991987 261.81783024\n",
      "  -0.           5.14261978 -19.72631857 -61.7284992  -41.36074261\n",
      " -41.35044569 -14.75700106 -22.75824701 -16.79013436  33.56390463\n",
      "  36.79324466  60.04488074  -6.38505769  45.02805813  52.42648445]\n"
     ]
    }
   ],
   "source": [
    "print(model.coef_)"
   ]
  },
  {
   "cell_type": "code",
   "execution_count": 58,
   "metadata": {},
   "outputs": [
    {
     "name": "stdout",
     "output_type": "stream",
     "text": [
      "1606.9764206972409\n"
     ]
    }
   ],
   "source": [
    "print(model.intercept_)"
   ]
  },
  {
   "cell_type": "code",
   "execution_count": 63,
   "metadata": {},
   "outputs": [
    {
     "data": {
      "text/plain": [
       "[<matplotlib.lines.Line2D at 0x10dd30be0>]"
      ]
     },
     "execution_count": 63,
     "metadata": {},
     "output_type": "execute_result"
    },
    {
     "data": {
      "image/png": "[encoded data removed]",
      "text/plain": [
       "<matplotlib.figure.Figure at 0x10c071828>"
      ]
     },
     "metadata": {},
     "output_type": "display_data"
    }
   ],
   "source": [
    "plt.plot(y_train.index, y_hat_train, 'ob', alpha=0.1)\n"
   ]
  },
  {
   "cell_type": "code",
   "execution_count": 66,
   "metadata": {},
   "outputs": [],
   "source": [
    "alphas = np.logspace(-2,4,20)\n",
    "\n",
    "cv_errors_train = pd.DataFrame(np.empty(shape=(n_folds, len(alphas))),\n",
    "                                 columns=alphas)\n",
    "cv_errors_test = pd.DataFrame(np.empty(shape=(n_folds, len(alphas))),\n",
    "                                    columns=alphas)\n",
    "coefs_df = pd.DataFrame(np.empty(shape=(n_folds, len(alphas))),\n",
    "                                    columns=alphas)\n",
    "for idx, alpha in enumerate(alphas):\n",
    "    model = ElasticNet(alpha)\n",
    "    model.fit(X_train,y_train)\n",
    "    y_hat = model.predict(X_train)\n",
    "    coefs = model.coef_\n",
    "    coefs_df.iloc[:,idx] = coefs\n",
    "    \n",
    "#     for idx, alpha in enumerate(alphas):\n",
    "#     errors, coefs = cross_val(X, y, model(alpha), n_folds, errortype='RMSE', random_seed=154)\n",
    "#     cv_errors_train.iloc[:,idx] = errors[:,0]\n",
    "#     cv_errors_test.iloc[:,idx] = errors[:,1]"
   ]
  },
  {
   "cell_type": "code",
   "execution_count": 96,
   "metadata": {},
   "outputs": [
    {
     "data": {
      "text/html": [
       "<div>\n",
       "<style scoped>\n",
       "    .dataframe tbody tr th:only-of-type {\n",
       "        vertical-align: middle;\n",
       "    }\n",
       "\n",
       "    .dataframe tbody tr th {\n",
       "        vertical-align: top;\n",
       "    }\n",
       "\n",
       "    .dataframe thead th {\n",
       "        text-align: right;\n",
       "    }\n",
       "</style>\n",
       "<table border=\"1\" class=\"dataframe\">\n",
       "  <thead>\n",
       "    <tr style=\"text-align: right;\">\n",
       "      <th></th>\n",
       "      <th>0.01</th>\n",
       "      <th>0.0206913808111479</th>\n",
       "      <th>0.04281332398719394</th>\n",
       "      <th>0.08858667904100823</th>\n",
       "      <th>0.18329807108324356</th>\n",
       "      <th>0.37926901907322497</th>\n",
       "      <th>0.7847599703514611</th>\n",
       "      <th>1.623776739188721</th>\n",
       "      <th>3.359818286283781</th>\n",
       "      <th>6.951927961775605</th>\n",
       "      <th>14.38449888287663</th>\n",
       "      <th>29.76351441631316</th>\n",
       "      <th>61.584821106602604</th>\n",
       "      <th>127.42749857031322</th>\n",
       "      <th>263.6650898730355</th>\n",
       "      <th>545.5594781168514</th>\n",
       "      <th>1128.8378916846884</th>\n",
       "      <th>2335.7214690901214</th>\n",
       "      <th>4832.930238571752</th>\n",
       "      <th>10000.0</th>\n",
       "    </tr>\n",
       "  </thead>\n",
       "  <tbody>\n",
       "    <tr>\n",
       "      <th>0</th>\n",
       "      <td>-1332.725835</td>\n",
       "      <td>-628.831288</td>\n",
       "      <td>-83.219890</td>\n",
       "      <td>196.019805</td>\n",
       "      <td>257.639442</td>\n",
       "      <td>207.952431</td>\n",
       "      <td>133.800152</td>\n",
       "      <td>75.339497</td>\n",
       "      <td>39.151565</td>\n",
       "      <td>19.297747</td>\n",
       "      <td>9.056070</td>\n",
       "      <td>3.937179</td>\n",
       "      <td>1.419357</td>\n",
       "      <td>0.189363</td>\n",
       "      <td>0.000000</td>\n",
       "      <td>0.000000</td>\n",
       "      <td>0.000000</td>\n",
       "      <td>0.000000</td>\n",
       "      <td>0.000000</td>\n",
       "      <td>0.000000</td>\n",
       "    </tr>\n",
       "    <tr>\n",
       "      <th>1</th>\n",
       "      <td>6.297895</td>\n",
       "      <td>6.798835</td>\n",
       "      <td>7.329146</td>\n",
       "      <td>7.916680</td>\n",
       "      <td>8.761274</td>\n",
       "      <td>10.140838</td>\n",
       "      <td>12.321942</td>\n",
       "      <td>15.402869</td>\n",
       "      <td>19.166224</td>\n",
       "      <td>22.767704</td>\n",
       "      <td>25.129590</td>\n",
       "      <td>25.542277</td>\n",
       "      <td>23.660617</td>\n",
       "      <td>19.523731</td>\n",
       "      <td>13.975824</td>\n",
       "      <td>8.572339</td>\n",
       "      <td>4.501499</td>\n",
       "      <td>1.949960</td>\n",
       "      <td>0.519391</td>\n",
       "      <td>0.000000</td>\n",
       "    </tr>\n",
       "    <tr>\n",
       "      <th>2</th>\n",
       "      <td>31.286198</td>\n",
       "      <td>27.640215</td>\n",
       "      <td>22.048194</td>\n",
       "      <td>14.931061</td>\n",
       "      <td>7.995789</td>\n",
       "      <td>3.370473</td>\n",
       "      <td>2.452238</td>\n",
       "      <td>5.347891</td>\n",
       "      <td>11.096338</td>\n",
       "      <td>17.517941</td>\n",
       "      <td>22.243164</td>\n",
       "      <td>24.051891</td>\n",
       "      <td>22.807910</td>\n",
       "      <td>18.942551</td>\n",
       "      <td>13.566131</td>\n",
       "      <td>8.306331</td>\n",
       "      <td>4.344562</td>\n",
       "      <td>1.863311</td>\n",
       "      <td>0.473423</td>\n",
       "      <td>0.000000</td>\n",
       "    </tr>\n",
       "    <tr>\n",
       "      <th>3</th>\n",
       "      <td>9.809651</td>\n",
       "      <td>24.216881</td>\n",
       "      <td>40.666244</td>\n",
       "      <td>56.763651</td>\n",
       "      <td>69.870995</td>\n",
       "      <td>77.752427</td>\n",
       "      <td>79.164603</td>\n",
       "      <td>74.282345</td>\n",
       "      <td>64.560294</td>\n",
       "      <td>53.064010</td>\n",
       "      <td>42.830215</td>\n",
       "      <td>34.767480</td>\n",
       "      <td>27.960577</td>\n",
       "      <td>21.284679</td>\n",
       "      <td>14.594372</td>\n",
       "      <td>8.755907</td>\n",
       "      <td>4.546316</td>\n",
       "      <td>1.957384</td>\n",
       "      <td>0.518642</td>\n",
       "      <td>0.000000</td>\n",
       "    </tr>\n",
       "    <tr>\n",
       "      <th>4</th>\n",
       "      <td>4506.496664</td>\n",
       "      <td>3514.790089</td>\n",
       "      <td>2509.944674</td>\n",
       "      <td>1658.876524</td>\n",
       "      <td>1024.978890</td>\n",
       "      <td>594.031108</td>\n",
       "      <td>324.143564</td>\n",
       "      <td>168.428161</td>\n",
       "      <td>84.600806</td>\n",
       "      <td>41.537749</td>\n",
       "      <td>20.009341</td>\n",
       "      <td>9.398831</td>\n",
       "      <td>4.194003</td>\n",
       "      <td>1.626736</td>\n",
       "      <td>0.340552</td>\n",
       "      <td>0.000000</td>\n",
       "      <td>0.000000</td>\n",
       "      <td>0.000000</td>\n",
       "      <td>0.000000</td>\n",
       "      <td>0.000000</td>\n",
       "    </tr>\n",
       "    <tr>\n",
       "      <th>5</th>\n",
       "      <td>-14.931150</td>\n",
       "      <td>-8.268666</td>\n",
       "      <td>-3.858969</td>\n",
       "      <td>-1.170960</td>\n",
       "      <td>-0.000000</td>\n",
       "      <td>-0.000000</td>\n",
       "      <td>-0.000000</td>\n",
       "      <td>0.000000</td>\n",
       "      <td>0.000000</td>\n",
       "      <td>0.000000</td>\n",
       "      <td>0.000000</td>\n",
       "      <td>-0.000000</td>\n",
       "      <td>-0.000000</td>\n",
       "      <td>-0.000000</td>\n",
       "      <td>-0.000000</td>\n",
       "      <td>-0.000000</td>\n",
       "      <td>-0.000000</td>\n",
       "      <td>-0.000000</td>\n",
       "      <td>-0.000000</td>\n",
       "      <td>-0.000000</td>\n",
       "    </tr>\n",
       "    <tr>\n",
       "      <th>6</th>\n",
       "      <td>-0.534330</td>\n",
       "      <td>0.182279</td>\n",
       "      <td>1.346754</td>\n",
       "      <td>2.658166</td>\n",
       "      <td>3.755378</td>\n",
       "      <td>4.529083</td>\n",
       "      <td>5.024831</td>\n",
       "      <td>5.324954</td>\n",
       "      <td>5.504704</td>\n",
       "      <td>5.622513</td>\n",
       "      <td>5.722083</td>\n",
       "      <td>5.838051</td>\n",
       "      <td>5.995508</td>\n",
       "      <td>6.182411</td>\n",
       "      <td>6.296073</td>\n",
       "      <td>6.151660</td>\n",
       "      <td>5.556154</td>\n",
       "      <td>4.436742</td>\n",
       "      <td>2.967495</td>\n",
       "      <td>1.529285</td>\n",
       "    </tr>\n",
       "    <tr>\n",
       "      <th>7</th>\n",
       "      <td>263.062594</td>\n",
       "      <td>156.575498</td>\n",
       "      <td>47.856579</td>\n",
       "      <td>-21.988651</td>\n",
       "      <td>-43.988372</td>\n",
       "      <td>-37.431814</td>\n",
       "      <td>-23.838614</td>\n",
       "      <td>-12.938641</td>\n",
       "      <td>-6.257471</td>\n",
       "      <td>-2.637352</td>\n",
       "      <td>-0.791051</td>\n",
       "      <td>-0.000000</td>\n",
       "      <td>-0.000000</td>\n",
       "      <td>-0.000000</td>\n",
       "      <td>-0.000000</td>\n",
       "      <td>-0.000000</td>\n",
       "      <td>-0.000000</td>\n",
       "      <td>-0.000000</td>\n",
       "      <td>-0.000000</td>\n",
       "      <td>-0.000000</td>\n",
       "    </tr>\n",
       "    <tr>\n",
       "      <th>8</th>\n",
       "      <td>-431.539921</td>\n",
       "      <td>-394.260502</td>\n",
       "      <td>-346.820917</td>\n",
       "      <td>-283.667461</td>\n",
       "      <td>-206.777128</td>\n",
       "      <td>-132.399848</td>\n",
       "      <td>-75.802258</td>\n",
       "      <td>-40.011016</td>\n",
       "      <td>-19.925223</td>\n",
       "      <td>-9.391597</td>\n",
       "      <td>-4.065567</td>\n",
       "      <td>-1.428907</td>\n",
       "      <td>-0.143690</td>\n",
       "      <td>-0.000000</td>\n",
       "      <td>-0.000000</td>\n",
       "      <td>-0.000000</td>\n",
       "      <td>-0.000000</td>\n",
       "      <td>-0.000000</td>\n",
       "      <td>-0.000000</td>\n",
       "      <td>-0.000000</td>\n",
       "    </tr>\n",
       "    <tr>\n",
       "      <th>9</th>\n",
       "      <td>-47.785607</td>\n",
       "      <td>-50.040648</td>\n",
       "      <td>-71.852605</td>\n",
       "      <td>-95.192767</td>\n",
       "      <td>-96.977217</td>\n",
       "      <td>-76.577980</td>\n",
       "      <td>-49.484391</td>\n",
       "      <td>-27.803429</td>\n",
       "      <td>-14.202351</td>\n",
       "      <td>-6.696687</td>\n",
       "      <td>-2.820023</td>\n",
       "      <td>-0.881240</td>\n",
       "      <td>-0.000000</td>\n",
       "      <td>-0.000000</td>\n",
       "      <td>-0.000000</td>\n",
       "      <td>-0.000000</td>\n",
       "      <td>-0.000000</td>\n",
       "      <td>-0.000000</td>\n",
       "      <td>-0.000000</td>\n",
       "      <td>-0.000000</td>\n",
       "    </tr>\n",
       "  </tbody>\n",
       "</table>\n",
       "</div>"
      ],
      "text/plain": [
       "   0.010000      0.020691      0.042813      0.088587      0.183298      \\\n",
       "0  -1332.725835   -628.831288    -83.219890    196.019805    257.639442   \n",
       "1      6.297895      6.798835      7.329146      7.916680      8.761274   \n",
       "2     31.286198     27.640215     22.048194     14.931061      7.995789   \n",
       "3      9.809651     24.216881     40.666244     56.763651     69.870995   \n",
       "4   4506.496664   3514.790089   2509.944674   1658.876524   1024.978890   \n",
       "5    -14.931150     -8.268666     -3.858969     -1.170960     -0.000000   \n",
       "6     -0.534330      0.182279      1.346754      2.658166      3.755378   \n",
       "7    263.062594    156.575498     47.856579    -21.988651    -43.988372   \n",
       "8   -431.539921   -394.260502   -346.820917   -283.667461   -206.777128   \n",
       "9    -47.785607    -50.040648    -71.852605    -95.192767    -96.977217   \n",
       "\n",
       "   0.379269      0.784760      1.623777      3.359818      6.951928      \\\n",
       "0    207.952431    133.800152     75.339497     39.151565     19.297747   \n",
       "1     10.140838     12.321942     15.402869     19.166224     22.767704   \n",
       "2      3.370473      2.452238      5.347891     11.096338     17.517941   \n",
       "3     77.752427     79.164603     74.282345     64.560294     53.064010   \n",
       "4    594.031108    324.143564    168.428161     84.600806     41.537749   \n",
       "5     -0.000000     -0.000000      0.000000      0.000000      0.000000   \n",
       "6      4.529083      5.024831      5.324954      5.504704      5.622513   \n",
       "7    -37.431814    -23.838614    -12.938641     -6.257471     -2.637352   \n",
       "8   -132.399848    -75.802258    -40.011016    -19.925223     -9.391597   \n",
       "9    -76.577980    -49.484391    -27.803429    -14.202351     -6.696687   \n",
       "\n",
       "   14.384499     29.763514     61.584821     127.427499    263.665090    \\\n",
       "0      9.056070      3.937179      1.419357      0.189363      0.000000   \n",
       "1     25.129590     25.542277     23.660617     19.523731     13.975824   \n",
       "2     22.243164     24.051891     22.807910     18.942551     13.566131   \n",
       "3     42.830215     34.767480     27.960577     21.284679     14.594372   \n",
       "4     20.009341      9.398831      4.194003      1.626736      0.340552   \n",
       "5      0.000000     -0.000000     -0.000000     -0.000000     -0.000000   \n",
       "6      5.722083      5.838051      5.995508      6.182411      6.296073   \n",
       "7     -0.791051     -0.000000     -0.000000     -0.000000     -0.000000   \n",
       "8     -4.065567     -1.428907     -0.143690     -0.000000     -0.000000   \n",
       "9     -2.820023     -0.881240     -0.000000     -0.000000     -0.000000   \n",
       "\n",
       "   545.559478    1128.837892   2335.721469   4832.930239   10000.000000  \n",
       "0      0.000000      0.000000      0.000000      0.000000      0.000000  \n",
       "1      8.572339      4.501499      1.949960      0.519391      0.000000  \n",
       "2      8.306331      4.344562      1.863311      0.473423      0.000000  \n",
       "3      8.755907      4.546316      1.957384      0.518642      0.000000  \n",
       "4      0.000000      0.000000      0.000000      0.000000      0.000000  \n",
       "5     -0.000000     -0.000000     -0.000000     -0.000000     -0.000000  \n",
       "6      6.151660      5.556154      4.436742      2.967495      1.529285  \n",
       "7     -0.000000     -0.000000     -0.000000     -0.000000     -0.000000  \n",
       "8     -0.000000     -0.000000     -0.000000     -0.000000     -0.000000  \n",
       "9     -0.000000     -0.000000     -0.000000     -0.000000     -0.000000  "
      ]
     },
     "execution_count": 96,
     "metadata": {},
     "output_type": "execute_result"
    }
   ],
   "source": [
    "coefs_df.head(10)"
   ]
  },
  {
   "cell_type": "code",
   "execution_count": 101,
   "metadata": {},
   "outputs": [
    {
     "ename": "KeyError",
     "evalue": "(0, 0.01)",
     "output_type": "error",
     "traceback": [
      "\u001b[0;31m---------------------------------------------------------------------------\u001b[0m",
      "\u001b[0;31mTypeError\u001b[0m                                 Traceback (most recent call last)",
      "\u001b[0;32mpandas/_libs/index.pyx\u001b[0m in \u001b[0;36mpandas._libs.index.IndexEngine.get_loc\u001b[0;34m()\u001b[0m\n",
      "\u001b[0;32mpandas/_libs/hashtable_class_helper.pxi\u001b[0m in \u001b[0;36mpandas._libs.hashtable.Float64HashTable.get_item\u001b[0;34m()\u001b[0m\n",
      "\u001b[0;31mTypeError\u001b[0m: must be real number, not tuple",
      "\nDuring handling of the above exception, another exception occurred:\n",
      "\u001b[0;31mKeyError\u001b[0m                                  Traceback (most recent call last)",
      "\u001b[0;32m/anaconda3/lib/python3.6/site-packages/pandas/core/indexes/base.py\u001b[0m in \u001b[0;36mget_loc\u001b[0;34m(self, key, method, tolerance)\u001b[0m\n\u001b[1;32m   2524\u001b[0m             \u001b[0;32mtry\u001b[0m\u001b[0;34m:\u001b[0m\u001b[0;34m\u001b[0m\u001b[0m\n\u001b[0;32m-> 2525\u001b[0;31m                 \u001b[0;32mreturn\u001b[0m \u001b[0mself\u001b[0m\u001b[0;34m.\u001b[0m\u001b[0m_engine\u001b[0m\u001b[0;34m.\u001b[0m\u001b[0mget_loc\u001b[0m\u001b[0;34m(\u001b[0m\u001b[0mkey\u001b[0m\u001b[0;34m)\u001b[0m\u001b[0;34m\u001b[0m\u001b[0m\n\u001b[0m\u001b[1;32m   2526\u001b[0m             \u001b[0;32mexcept\u001b[0m \u001b[0mKeyError\u001b[0m\u001b[0;34m:\u001b[0m\u001b[0;34m\u001b[0m\u001b[0m\n",
      "\u001b[0;32mpandas/_libs/index.pyx\u001b[0m in \u001b[0;36mpandas._libs.index.IndexEngine.get_loc\u001b[0;34m()\u001b[0m\n",
      "\u001b[0;32mpandas/_libs/index.pyx\u001b[0m in \u001b[0;36mpandas._libs.index.IndexEngine.get_loc\u001b[0;34m()\u001b[0m\n",
      "\u001b[0;31mKeyError\u001b[0m: (0, 0.01)",
      "\nDuring handling of the above exception, another exception occurred:\n",
      "\u001b[0;31mTypeError\u001b[0m                                 Traceback (most recent call last)",
      "\u001b[0;32mpandas/_libs/index.pyx\u001b[0m in \u001b[0;36mpandas._libs.index.IndexEngine.get_loc\u001b[0;34m()\u001b[0m\n",
      "\u001b[0;32mpandas/_libs/hashtable_class_helper.pxi\u001b[0m in \u001b[0;36mpandas._libs.hashtable.Float64HashTable.get_item\u001b[0;34m()\u001b[0m\n",
      "\u001b[0;31mTypeError\u001b[0m: must be real number, not tuple",
      "\nDuring handling of the above exception, another exception occurred:\n",
      "\u001b[0;31mKeyError\u001b[0m                                  Traceback (most recent call last)",
      "\u001b[0;32m<ipython-input-101-00c0108e4367>\u001b[0m in \u001b[0;36m<module>\u001b[0;34m()\u001b[0m\n\u001b[1;32m      2\u001b[0m \u001b[0;34m\u001b[0m\u001b[0m\n\u001b[1;32m      3\u001b[0m \u001b[0;32mfor\u001b[0m \u001b[0malpha\u001b[0m \u001b[0;32min\u001b[0m \u001b[0menumerate\u001b[0m\u001b[0;34m(\u001b[0m\u001b[0malphas\u001b[0m\u001b[0;34m)\u001b[0m\u001b[0;34m:\u001b[0m\u001b[0;34m\u001b[0m\u001b[0m\n\u001b[0;32m----> 4\u001b[0;31m     \u001b[0mcol\u001b[0m \u001b[0;34m=\u001b[0m \u001b[0mcoefs_df\u001b[0m\u001b[0;34m[\u001b[0m\u001b[0malpha\u001b[0m\u001b[0;34m]\u001b[0m\u001b[0;34m\u001b[0m\u001b[0m\n\u001b[0m\u001b[1;32m      5\u001b[0m     \u001b[0;32mfor\u001b[0m \u001b[0mx\u001b[0m \u001b[0;32min\u001b[0m \u001b[0mrange\u001b[0m\u001b[0;34m(\u001b[0m\u001b[0mlen\u001b[0m\u001b[0;34m(\u001b[0m\u001b[0mcoefs\u001b[0m\u001b[0;34m)\u001b[0m\u001b[0;34m)\u001b[0m\u001b[0;34m:\u001b[0m\u001b[0;34m\u001b[0m\u001b[0m\n\u001b[1;32m      6\u001b[0m         \u001b[0max\u001b[0m\u001b[0;34m.\u001b[0m\u001b[0mplot\u001b[0m\u001b[0;34m(\u001b[0m\u001b[0malpha\u001b[0m\u001b[0;34m,\u001b[0m\u001b[0mcol\u001b[0m\u001b[0;34m[\u001b[0m\u001b[0mx\u001b[0m\u001b[0;34m]\u001b[0m\u001b[0;34m,\u001b[0m\u001b[0;34m'b-'\u001b[0m\u001b[0;34m,\u001b[0m\u001b[0mmarkersize\u001b[0m\u001b[0;34m=\u001b[0m\u001b[0;36m6\u001b[0m\u001b[0;34m)\u001b[0m\u001b[0;34m\u001b[0m\u001b[0m\n",
      "\u001b[0;32m/anaconda3/lib/python3.6/site-packages/pandas/core/frame.py\u001b[0m in \u001b[0;36m__getitem__\u001b[0;34m(self, key)\u001b[0m\n\u001b[1;32m   2137\u001b[0m             \u001b[0;32mreturn\u001b[0m \u001b[0mself\u001b[0m\u001b[0;34m.\u001b[0m\u001b[0m_getitem_multilevel\u001b[0m\u001b[0;34m(\u001b[0m\u001b[0mkey\u001b[0m\u001b[0;34m)\u001b[0m\u001b[0;34m\u001b[0m\u001b[0m\n\u001b[1;32m   2138\u001b[0m         \u001b[0;32melse\u001b[0m\u001b[0;34m:\u001b[0m\u001b[0;34m\u001b[0m\u001b[0m\n\u001b[0;32m-> 2139\u001b[0;31m             \u001b[0;32mreturn\u001b[0m \u001b[0mself\u001b[0m\u001b[0;34m.\u001b[0m\u001b[0m_getitem_column\u001b[0m\u001b[0;34m(\u001b[0m\u001b[0mkey\u001b[0m\u001b[0;34m)\u001b[0m\u001b[0;34m\u001b[0m\u001b[0m\n\u001b[0m\u001b[1;32m   2140\u001b[0m \u001b[0;34m\u001b[0m\u001b[0m\n\u001b[1;32m   2141\u001b[0m     \u001b[0;32mdef\u001b[0m \u001b[0m_getitem_column\u001b[0m\u001b[0;34m(\u001b[0m\u001b[0mself\u001b[0m\u001b[0;34m,\u001b[0m \u001b[0mkey\u001b[0m\u001b[0;34m)\u001b[0m\u001b[0;34m:\u001b[0m\u001b[0;34m\u001b[0m\u001b[0m\n",
      "\u001b[0;32m/anaconda3/lib/python3.6/site-packages/pandas/core/frame.py\u001b[0m in \u001b[0;36m_getitem_column\u001b[0;34m(self, key)\u001b[0m\n\u001b[1;32m   2144\u001b[0m         \u001b[0;31m# get column\u001b[0m\u001b[0;34m\u001b[0m\u001b[0;34m\u001b[0m\u001b[0m\n\u001b[1;32m   2145\u001b[0m         \u001b[0;32mif\u001b[0m \u001b[0mself\u001b[0m\u001b[0;34m.\u001b[0m\u001b[0mcolumns\u001b[0m\u001b[0;34m.\u001b[0m\u001b[0mis_unique\u001b[0m\u001b[0;34m:\u001b[0m\u001b[0;34m\u001b[0m\u001b[0m\n\u001b[0;32m-> 2146\u001b[0;31m             \u001b[0;32mreturn\u001b[0m \u001b[0mself\u001b[0m\u001b[0;34m.\u001b[0m\u001b[0m_get_item_cache\u001b[0m\u001b[0;34m(\u001b[0m\u001b[0mkey\u001b[0m\u001b[0;34m)\u001b[0m\u001b[0;34m\u001b[0m\u001b[0m\n\u001b[0m\u001b[1;32m   2147\u001b[0m \u001b[0;34m\u001b[0m\u001b[0m\n\u001b[1;32m   2148\u001b[0m         \u001b[0;31m# duplicate columns & possible reduce dimensionality\u001b[0m\u001b[0;34m\u001b[0m\u001b[0;34m\u001b[0m\u001b[0m\n",
      "\u001b[0;32m/anaconda3/lib/python3.6/site-packages/pandas/core/generic.py\u001b[0m in \u001b[0;36m_get_item_cache\u001b[0;34m(self, item)\u001b[0m\n\u001b[1;32m   1840\u001b[0m         \u001b[0mres\u001b[0m \u001b[0;34m=\u001b[0m \u001b[0mcache\u001b[0m\u001b[0;34m.\u001b[0m\u001b[0mget\u001b[0m\u001b[0;34m(\u001b[0m\u001b[0mitem\u001b[0m\u001b[0;34m)\u001b[0m\u001b[0;34m\u001b[0m\u001b[0m\n\u001b[1;32m   1841\u001b[0m         \u001b[0;32mif\u001b[0m \u001b[0mres\u001b[0m \u001b[0;32mis\u001b[0m \u001b[0;32mNone\u001b[0m\u001b[0;34m:\u001b[0m\u001b[0;34m\u001b[0m\u001b[0m\n\u001b[0;32m-> 1842\u001b[0;31m             \u001b[0mvalues\u001b[0m \u001b[0;34m=\u001b[0m \u001b[0mself\u001b[0m\u001b[0;34m.\u001b[0m\u001b[0m_data\u001b[0m\u001b[0;34m.\u001b[0m\u001b[0mget\u001b[0m\u001b[0;34m(\u001b[0m\u001b[0mitem\u001b[0m\u001b[0;34m)\u001b[0m\u001b[0;34m\u001b[0m\u001b[0m\n\u001b[0m\u001b[1;32m   1843\u001b[0m             \u001b[0mres\u001b[0m \u001b[0;34m=\u001b[0m \u001b[0mself\u001b[0m\u001b[0;34m.\u001b[0m\u001b[0m_box_item_values\u001b[0m\u001b[0;34m(\u001b[0m\u001b[0mitem\u001b[0m\u001b[0;34m,\u001b[0m \u001b[0mvalues\u001b[0m\u001b[0;34m)\u001b[0m\u001b[0;34m\u001b[0m\u001b[0m\n\u001b[1;32m   1844\u001b[0m             \u001b[0mcache\u001b[0m\u001b[0;34m[\u001b[0m\u001b[0mitem\u001b[0m\u001b[0;34m]\u001b[0m \u001b[0;34m=\u001b[0m \u001b[0mres\u001b[0m\u001b[0;34m\u001b[0m\u001b[0m\n",
      "\u001b[0;32m/anaconda3/lib/python3.6/site-packages/pandas/core/internals.py\u001b[0m in \u001b[0;36mget\u001b[0;34m(self, item, fastpath)\u001b[0m\n\u001b[1;32m   3841\u001b[0m \u001b[0;34m\u001b[0m\u001b[0m\n\u001b[1;32m   3842\u001b[0m             \u001b[0;32mif\u001b[0m \u001b[0;32mnot\u001b[0m \u001b[0misna\u001b[0m\u001b[0;34m(\u001b[0m\u001b[0mitem\u001b[0m\u001b[0;34m)\u001b[0m\u001b[0;34m:\u001b[0m\u001b[0;34m\u001b[0m\u001b[0m\n\u001b[0;32m-> 3843\u001b[0;31m                 \u001b[0mloc\u001b[0m \u001b[0;34m=\u001b[0m \u001b[0mself\u001b[0m\u001b[0;34m.\u001b[0m\u001b[0mitems\u001b[0m\u001b[0;34m.\u001b[0m\u001b[0mget_loc\u001b[0m\u001b[0;34m(\u001b[0m\u001b[0mitem\u001b[0m\u001b[0;34m)\u001b[0m\u001b[0;34m\u001b[0m\u001b[0m\n\u001b[0m\u001b[1;32m   3844\u001b[0m             \u001b[0;32melse\u001b[0m\u001b[0;34m:\u001b[0m\u001b[0;34m\u001b[0m\u001b[0m\n\u001b[1;32m   3845\u001b[0m                 \u001b[0mindexer\u001b[0m \u001b[0;34m=\u001b[0m \u001b[0mnp\u001b[0m\u001b[0;34m.\u001b[0m\u001b[0marange\u001b[0m\u001b[0;34m(\u001b[0m\u001b[0mlen\u001b[0m\u001b[0;34m(\u001b[0m\u001b[0mself\u001b[0m\u001b[0;34m.\u001b[0m\u001b[0mitems\u001b[0m\u001b[0;34m)\u001b[0m\u001b[0;34m)\u001b[0m\u001b[0;34m[\u001b[0m\u001b[0misna\u001b[0m\u001b[0;34m(\u001b[0m\u001b[0mself\u001b[0m\u001b[0;34m.\u001b[0m\u001b[0mitems\u001b[0m\u001b[0;34m)\u001b[0m\u001b[0;34m]\u001b[0m\u001b[0;34m\u001b[0m\u001b[0m\n",
      "\u001b[0;32m/anaconda3/lib/python3.6/site-packages/pandas/core/indexes/numeric.py\u001b[0m in \u001b[0;36mget_loc\u001b[0;34m(self, key, method, tolerance)\u001b[0m\n\u001b[1;32m    402\u001b[0m             \u001b[0;32mpass\u001b[0m\u001b[0;34m\u001b[0m\u001b[0m\n\u001b[1;32m    403\u001b[0m         return super(Float64Index, self).get_loc(key, method=method,\n\u001b[0;32m--> 404\u001b[0;31m                                                  tolerance=tolerance)\n\u001b[0m\u001b[1;32m    405\u001b[0m \u001b[0;34m\u001b[0m\u001b[0m\n\u001b[1;32m    406\u001b[0m     \u001b[0;34m@\u001b[0m\u001b[0mcache_readonly\u001b[0m\u001b[0;34m\u001b[0m\u001b[0m\n",
      "\u001b[0;32m/anaconda3/lib/python3.6/site-packages/pandas/core/indexes/base.py\u001b[0m in \u001b[0;36mget_loc\u001b[0;34m(self, key, method, tolerance)\u001b[0m\n\u001b[1;32m   2525\u001b[0m                 \u001b[0;32mreturn\u001b[0m \u001b[0mself\u001b[0m\u001b[0;34m.\u001b[0m\u001b[0m_engine\u001b[0m\u001b[0;34m.\u001b[0m\u001b[0mget_loc\u001b[0m\u001b[0;34m(\u001b[0m\u001b[0mkey\u001b[0m\u001b[0;34m)\u001b[0m\u001b[0;34m\u001b[0m\u001b[0m\n\u001b[1;32m   2526\u001b[0m             \u001b[0;32mexcept\u001b[0m \u001b[0mKeyError\u001b[0m\u001b[0;34m:\u001b[0m\u001b[0;34m\u001b[0m\u001b[0m\n\u001b[0;32m-> 2527\u001b[0;31m                 \u001b[0;32mreturn\u001b[0m \u001b[0mself\u001b[0m\u001b[0;34m.\u001b[0m\u001b[0m_engine\u001b[0m\u001b[0;34m.\u001b[0m\u001b[0mget_loc\u001b[0m\u001b[0;34m(\u001b[0m\u001b[0mself\u001b[0m\u001b[0;34m.\u001b[0m\u001b[0m_maybe_cast_indexer\u001b[0m\u001b[0;34m(\u001b[0m\u001b[0mkey\u001b[0m\u001b[0;34m)\u001b[0m\u001b[0;34m)\u001b[0m\u001b[0;34m\u001b[0m\u001b[0m\n\u001b[0m\u001b[1;32m   2528\u001b[0m \u001b[0;34m\u001b[0m\u001b[0m\n\u001b[1;32m   2529\u001b[0m         \u001b[0mindexer\u001b[0m \u001b[0;34m=\u001b[0m \u001b[0mself\u001b[0m\u001b[0;34m.\u001b[0m\u001b[0mget_indexer\u001b[0m\u001b[0;34m(\u001b[0m\u001b[0;34m[\u001b[0m\u001b[0mkey\u001b[0m\u001b[0;34m]\u001b[0m\u001b[0;34m,\u001b[0m \u001b[0mmethod\u001b[0m\u001b[0;34m=\u001b[0m\u001b[0mmethod\u001b[0m\u001b[0;34m,\u001b[0m \u001b[0mtolerance\u001b[0m\u001b[0;34m=\u001b[0m\u001b[0mtolerance\u001b[0m\u001b[0;34m)\u001b[0m\u001b[0;34m\u001b[0m\u001b[0m\n",
      "\u001b[0;32mpandas/_libs/index.pyx\u001b[0m in \u001b[0;36mpandas._libs.index.IndexEngine.get_loc\u001b[0;34m()\u001b[0m\n",
      "\u001b[0;32mpandas/_libs/index.pyx\u001b[0m in \u001b[0;36mpandas._libs.index.IndexEngine.get_loc\u001b[0;34m()\u001b[0m\n",
      "\u001b[0;31mKeyError\u001b[0m: (0, 0.01)"
     ]
    },
    {
     "data": {
      "image/png": "[encoded data removed]",
      "text/plain": [
       "<matplotlib.figure.Figure at 0x10b956e10>"
      ]
     },
     "metadata": {},
     "output_type": "display_data"
    }
   ],
   "source": [
    "fig, ax = plt.subplots(1,1,figsize=(5,5))\n",
    "\n",
    "for alpha in enumerate(alphas):\n",
    "    col = coefs_df[alpha]\n",
    "    for x in range(len(coefs)):\n",
    "        ax.plot(alpha,col[x],'b-',markersize=6)\n",
    "plt.show()\n"
   ]
  },
  {
   "cell_type": "code",
   "execution_count": 100,
   "metadata": {},
   "outputs": [
    {
     "data": {
      "text/plain": [
       "10000.0"
      ]
     },
     "execution_count": 100,
     "metadata": {},
     "output_type": "execute_result"
    }
   ],
   "source": [
    "alpha\n"
   ]
  },
  {
   "cell_type": "code",
   "execution_count": 92,
   "metadata": {},
   "outputs": [
    {
     "data": {
      "text/plain": [
       "array([1.00000000e-02, 2.06913808e-02, 4.28133240e-02, 8.85866790e-02,\n",
       "       1.83298071e-01, 3.79269019e-01, 7.84759970e-01, 1.62377674e+00,\n",
       "       3.35981829e+00, 6.95192796e+00, 1.43844989e+01, 2.97635144e+01,\n",
       "       6.15848211e+01, 1.27427499e+02, 2.63665090e+02, 5.45559478e+02,\n",
       "       1.12883789e+03, 2.33572147e+03, 4.83293024e+03, 1.00000000e+04])"
      ]
     },
     "execution_count": 92,
     "metadata": {},
     "output_type": "execute_result"
    }
   ],
   "source": [
    "alphas"
   ]
  },
  {
   "cell_type": "code",
   "execution_count": 89,
   "metadata": {},
   "outputs": [
    {
     "data": {
      "text/plain": [
       "0     0.000000\n",
       "1     0.000000\n",
       "2     0.000000\n",
       "3     0.000000\n",
       "4     0.000000\n",
       "5    -0.000000\n",
       "6     1.529285\n",
       "7    -0.000000\n",
       "8    -0.000000\n",
       "9    -0.000000\n",
       "10   -0.000000\n",
       "11    0.000000\n",
       "12   -0.000000\n",
       "13   -0.000000\n",
       "14   -0.000000\n",
       "15    0.000000\n",
       "16    0.000000\n",
       "17    0.000000\n",
       "18    0.000000\n",
       "19    0.000000\n",
       "Name: 10000.0, dtype: float64"
      ]
     },
     "execution_count": 89,
     "metadata": {},
     "output_type": "execute_result"
    }
   ],
   "source": [
    "coefs_df[alphas[19]]"
   ]
  },
  {
   "cell_type": "code",
   "execution_count": null,
   "metadata": {},
   "outputs": [],
   "source": []
  },
  {
   "cell_type": "code",
   "execution_count": null,
   "metadata": {},
   "outputs": [],
   "source": []
  },
  {
   "cell_type": "code",
   "execution_count": null,
   "metadata": {},
   "outputs": [],
   "source": []
  },
  {
   "cell_type": "code",
   "execution_count": null,
   "metadata": {},
   "outputs": [],
   "source": []
  },
  {
   "cell_type": "code",
   "execution_count": null,
   "metadata": {},
   "outputs": [],
   "source": []
  },
  {
   "cell_type": "code",
   "execution_count": null,
   "metadata": {},
   "outputs": [],
   "source": []
  },
  {
   "cell_type": "code",
   "execution_count": null,
   "metadata": {},
   "outputs": [],
   "source": [
    "\n"
   ]
  },
  {
   "cell_type": "code",
   "execution_count": null,
   "metadata": {},
   "outputs": [],
   "source": []
  },
  {
   "cell_type": "code",
   "execution_count": null,
   "metadata": {},
   "outputs": [],
   "source": []
  },
  {
   "cell_type": "code",
   "execution_count": null,
   "metadata": {},
   "outputs": [],
   "source": []
  },
  {
   "cell_type": "code",
   "execution_count": null,
   "metadata": {},
   "outputs": [],
   "source": []
  },
  {
   "cell_type": "code",
   "execution_count": null,
   "metadata": {},
   "outputs": [],
   "source": []
  },
  {
   "cell_type": "code",
   "execution_count": null,
   "metadata": {},
   "outputs": [],
   "source": []
  },
  {
   "cell_type": "code",
   "execution_count": null,
   "metadata": {},
   "outputs": [],
   "source": []
  },
  {
   "cell_type": "code",
   "execution_count": null,
   "metadata": {},
   "outputs": [],
   "source": []
  },
  {
   "cell_type": "code",
   "execution_count": null,
   "metadata": {},
   "outputs": [],
   "source": []
  },
  {
   "cell_type": "code",
   "execution_count": null,
   "metadata": {},
   "outputs": [],
   "source": []
  },
  {
   "cell_type": "code",
   "execution_count": null,
   "metadata": {},
   "outputs": [],
   "source": []
  }
 ],
 "metadata": {
  "kernelspec": {
   "display_name": "Python 3",
   "language": "python",
   "name": "python3"
  },
  "language_info": {
   "codemirror_mode": {
    "name": "ipython",
    "version": 3
   },
   "file_extension": ".py",
   "mimetype": "text/x-python",
   "name": "python",
   "nbconvert_exporter": "python",
   "pygments_lexer": "ipython3",
   "version": "3.6.4"
  }
 },
 "nbformat": 4,
 "nbformat_minor": 2
}
