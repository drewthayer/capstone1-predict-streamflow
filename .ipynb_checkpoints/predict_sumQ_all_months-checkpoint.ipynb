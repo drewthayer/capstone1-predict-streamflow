{
 "cells": [
  {
   "cell_type": "code",
   "execution_count": 45,
   "metadata": {},
   "outputs": [],
   "source": [
    "import numpy as np\n",
    "import matplotlib.pyplot as plt\n",
    "import pandas as pd\n",
    "%matplotlib inline\n",
    "\n",
    "# scipy imports\n",
    "import scipy.stats as stats\n",
    "\n",
    "# sklearn imports\n",
    "from sklearn.linear_model import LinearRegression\n",
    "from sklearn.linear_model import Ridge\n",
    "from sklearn.linear_model import Lasso\n",
    "from sklearn.preprocessing import PolynomialFeatures\n",
    "from sklearn.pipeline import make_pipeline\n",
    "from sklearn.model_selection import KFold\n",
    "from sklearn.model_selection import train_test_split\n",
    "from sklearn.model_selection import TimeSeriesSplit\n",
    "from sklearn.model_selection import cross_val_score\n",
    "from sklearn.metrics import mean_squared_error"
   ]
  },
  {
   "cell_type": "code",
   "execution_count": 2,
   "metadata": {},
   "outputs": [],
   "source": [
    "# define cleaning functions\n",
    "def clean_q_data_annual(dataframe):\n",
    "    ''' \n",
    "    input: dataframe with re-named columns\n",
    "    output: dataframe, series, series\n",
    "    '''\n",
    "    # datetime operations\n",
    "    q_df['dt'] = pd.to_datetime(q_df['dt_string'])\n",
    "    q_df['year'] = q_df['dt'].dt.year\n",
    "    q_df['month'] = q_df['dt'].dt.month\n",
    "    q_df['day'] = q_df['dt'].dt.day\n",
    "\n",
    "    # new datetime without time\n",
    "    q_df['timestamp'] = pd.to_datetime(q_df[['year','month', 'day']], errors='coerce')\n",
    "\n",
    "    # make series from groupby, this has timestamp as index\n",
    "    daily_q = q_df.groupby(['timestamp'])['cfs'].mean()\n",
    "\n",
    "    # make df from series\n",
    "    daily_q_df = pd.DataFrame(daily_q)\n",
    "    \n",
    "    # annual peak Q\n",
    "    annual_peak_q = q_df.groupby(q_df.year)['cfs'].max()\n",
    "\n",
    "#     # cumulative Q\n",
    "#     sum_q = q_df.groupby(q_df.year)['cfs'].cumsum()\n",
    "#     sum_q_df = pd.DataFrame(q_df.year,sum_q).reset_index()\n",
    "#     annual_sum_q = sum_q_df.groupby(sum_q_df.year)['cfs'].max()\n",
    "\n",
    "    return(daily_q_df, annual_peak_q)\n",
    "\n",
    "def clean_snow_data_annual(dataframe):\n",
    "    ''' \n",
    "    input: dataframe with re-named columns\n",
    "    output: dataframe\n",
    "    '''\n",
    "    snow_df = dataframe\n",
    "    # unit conversions to metric\n",
    "    snow_df['swe_start_m'] = snow_df.swe_start_in * 0.0254\n",
    "    snow_df['airtemp_max_C'] = 5/9*(snow_df.airtemp_max_F - 32)\n",
    "    snow_df['airtemp_min_C'] = 5/9*(snow_df.airtemp_min_F - 32)\n",
    "    snow_df['airtemp_mean_C'] = 5/9*(snow_df.airtemp_mean_F - 32)\n",
    "    snow_df['precip_start_m'] = snow_df.precip_start_in * 0.0254\n",
    "    snow_df['precip_incr_m'] = snow_df.precip_incr_in * 0.0254\n",
    "    \n",
    "    # drop standard unit columns\n",
    "    snow_df.drop(['swe_start_in'], axis=1, inplace=True)\n",
    "    snow_df.drop(['airtemp_max_F'], axis=1, inplace=True)\n",
    "    snow_df.drop(['airtemp_min_F'], axis=1, inplace=True)\n",
    "    snow_df.drop(['airtemp_mean_F'], axis=1, inplace=True)\n",
    "    snow_df.drop(['precip_start_in'], axis=1, inplace=True)\n",
    "    snow_df.drop(['precip_incr_in'], axis=1, inplace=True)\n",
    "    \n",
    "    # datetime operations\n",
    "    snow_df['dt'] = pd.to_datetime(snow_df['dt_string'])\n",
    "    snow_df['year'] = snow_df['dt'].dt.year\n",
    "    snow_df['month'] = snow_df['dt'].dt.month\n",
    "    \n",
    "    # drop datetime string column\n",
    "    snow_df.drop(['dt_string'], axis=1, inplace=True)\n",
    "\n",
    "    # remove rows with swe=0\n",
    "    snow_df.drop(snow_df[snow_df.swe_start_m == 0].index, inplace=True)\n",
    "\n",
    "    #set snow df index to dt\n",
    "    snow_df.set_index(snow_df.dt, inplace=True)\n",
    "    \n",
    "    # clean airtemp outliers\n",
    "    snow_df = remove_outliers(snow_df)\n",
    "    \n",
    "    # annual peak swe\n",
    "    annual_peak_swe = snow_df.groupby(snow_df.year)['swe_start_m'].max()\n",
    "    \n",
    "    # annual cumulative swe\n",
    "    cumsum_swe = snow_df.groupby(snow_df['year'])['swe_start_m'].cumsum()\n",
    "    \n",
    "    # monthly cumulative swe\n",
    "    swe_monthly = snow_df.groupby([snow_df['year'], snow_df['month']])['swe_start_m'].cumsum()\n",
    "    \n",
    "    return(snow_df, annual_peak_swe, cumsum_swe, swe_monthly)\n",
    "\n",
    "def remove_outliers(df):\n",
    "    ''' \n",
    "    input: dataframe of snotel data with columns re-named for degrees C\n",
    "    output: dataframe\n",
    "    '''\n",
    "    # clear min airtemp outliers\n",
    "    df.drop(df[df.airtemp_min_C > 18].index, inplace=True)\n",
    "    df.drop(df[df.airtemp_min_C < -40].index, inplace=True)\n",
    "    # clear max airtemp outliers\n",
    "    df.drop(df[df.airtemp_max_C > 50].index, inplace=True)\n",
    "    df.drop(df[df.airtemp_max_C < -45].index, inplace=True)\n",
    "    return(df)"
   ]
  },
  {
   "cell_type": "code",
   "execution_count": 3,
   "metadata": {},
   "outputs": [],
   "source": [
    "# load q data\n",
    "q_df = pd.read_csv('q-data/gunnison_delta.csv',sep='\\t',header=32) # read csv to dataframe\n",
    "q_df.columns = ['USGS', 'id', 'dt_string', 'tz', 'cfs', 'junk'] # rename columns\n",
    "\n",
    "daily_q_df, annual_peak_q = clean_q_data_annual(q_df)\n",
    "\n",
    "# annual sum q\n",
    "#annual_cumsum_q = daily_q_df.groupby(daily_q_df.index.year)['cfs'].cumsum()\n",
    "#annual_sum_q = annual_cumsum_q.groupby(annual_cumsum_q.index.year).max()"
   ]
  },
  {
   "cell_type": "code",
   "execution_count": 4,
   "metadata": {},
   "outputs": [
    {
     "name": "stdout",
     "output_type": "stream",
     "text": [
      "11\n"
     ]
    }
   ],
   "source": [
    "# load snotel data\n",
    "stationnames = ['680_park_cone','762_slumgullion','701_porphyry_creek','737_schofield_pass',\n",
    "                '682_park_reservoir','669_north_lost_trail','1059_cochetopa_pass','618_mcclure_pass',\n",
    "                '409_columbine_pass','675_overland_reservoir','622_mesa_lakes']\n",
    "\n",
    "# make data column names\n",
    "cols_data = []\n",
    "for station in stationnames:\n",
    "    sum_list = '{}_sumswe'.format(station[:3])\n",
    "    cols_data.append(sum_list)\n",
    "    peak_list = '{}_peakswe'.format(station[:3])\n",
    "    cols_data.append(peak_list)\n",
    "cols_data.append('peak_q')\n",
    "cols_data.append('sum_q')\n",
    "\n",
    "# merge snotel data with q data\n",
    "data_lst = []\n",
    "count = 0\n",
    "#peakswe_lst = []\n",
    "#sumswe_lst = []\n",
    "#monthly_lst = []\n",
    "for stationname in stationnames:\n",
    "    snow_df = pd.read_csv('snotel-data/snotel_{}.csv'.format(stationname),header=58) \n",
    "    snow_df.columns = ['dt_string', 'swe_start_in',\n",
    "       'precip_start_in',\n",
    "       'airtemp_max_F', 'airtemp_min_F',\n",
    "       'airtemp_mean_F', 'precip_incr_in']\n",
    "    \n",
    "    snow_df['stn'] = stationname\n",
    "    \n",
    "    # import cleaned snow data\n",
    "    snow_df, annual_peak_swe, cumsum_swe, swe_monthly = clean_snow_data_annual(snow_df)\n",
    "\n",
    "    # merge datasets\n",
    "    merged_df = pd.merge(snow_df, daily_q_df, how='left', left_index=True, right_index=True)\n",
    "\n",
    "    data_lst.append(merged_df)\n",
    "    #peakswe_lst.append(annual_peak_swe)\n",
    "    #sumswe_lst.append(cumsum_swe)\n",
    "    #monthly_lst.append(swe_monthly)\n",
    "    count += 1\n",
    "print(count)\n",
    "\n",
    "# contatenate data\n",
    "data_df = pd.concat(data_lst, axis=0, ignore_index = True)\n",
    "\n",
    "# set index as datetime\n",
    "data_df.set_index('dt', inplace=True);\n",
    "\n"
   ]
  },
  {
   "cell_type": "code",
   "execution_count": 5,
   "metadata": {},
   "outputs": [],
   "source": [
    "# get dummies for station names \n",
    "data_all = pd.get_dummies(data_df)\n",
    "# cumulative monthly cfs\n",
    "cfs_cumsum = data_all.groupby(['year','month'])['cfs'].cumsum()\n",
    "data_all['cfs_cumsum'] = cfs_cumsum"
   ]
  },
  {
   "cell_type": "markdown",
   "metadata": {},
   "source": [
    "## prep data for modeling"
   ]
  },
  {
   "cell_type": "code",
   "execution_count": 6,
   "metadata": {},
   "outputs": [],
   "source": [
    "# quick clean\n",
    "data_clean = data_all.dropna()\n",
    "\n",
    "# define dataframe and columns\n",
    "model_df = data_clean\n",
    "cols = model_df.columns\n",
    "\n",
    "# split train and test data\n",
    "split_year = 2017\n",
    "\n",
    "train_df = model_df[model_df.index.year < split_year]\n",
    "test_df = model_df[model_df.index.year >= split_year]\n",
    "\n",
    "target_col = 'cfs_cumsum'\n",
    "X_train = train_df.drop(target_col, axis=1)\n",
    "y_train = train_df[target_col]\n",
    "\n",
    "X_test = test_df.drop(target_col, axis=1)\n",
    "y_test = test_df[target_col]"
   ]
  },
  {
   "cell_type": "code",
   "execution_count": 7,
   "metadata": {},
   "outputs": [
    {
     "name": "stdout",
     "output_type": "stream",
     "text": [
      "R2 = 0.548\n",
      "[ 1.92322509e+05 -7.04346456e+02 -2.53176304e+03  1.36773468e+03\n",
      "  1.45432956e+04  8.82819543e+03  6.90608018e+02  3.06090305e+03\n",
      "  9.07110321e+01  7.85669027e+04  1.19480968e+05  8.99158980e+04\n",
      "  1.88425706e+05  3.06996516e+04  1.67725238e+05 -1.80816256e+05\n",
      " -7.39689550e+04 -1.15959743e+05 -1.44761125e+05 -1.59308284e+05]\n"
     ]
    }
   ],
   "source": [
    "# make and fit model\n",
    "alpha= 50\n",
    "model = Ridge(alpha)\n",
    "model.fit(X_train, y_train);\n",
    "y_hat_train = model.predict(X_train)\n",
    "y_hat_test = model.predict(X_test)\n",
    "# R2 score\n",
    "score = model.score(X_test,y_test)\n",
    "print('R2 = {0:.3f}'.format(score))\n",
    "\n",
    "coefs = model.coef_\n",
    "print(coefs)\n"
   ]
  },
  {
   "cell_type": "code",
   "execution_count": 9,
   "metadata": {},
   "outputs": [
    {
     "data": {
      "image/png": "[encoded data removed]",
      "text/plain": [
       "<matplotlib.figure.Figure at 0x1a0b494518>"
      ]
     },
     "metadata": {},
     "output_type": "display_data"
    }
   ],
   "source": [
    "# plot predictions\n",
    "\n",
    "df = model_df # dataframe to plot from\n",
    "figname = 'gunnison_river_predict_sum_q_all_months'\n",
    "\n",
    "# plot\n",
    "fig, ax = plt.subplots(2,1,figsize=(16,8));\n",
    "ax[0].plot(y_train.index,y_train,'bo')\n",
    "ax[0].set_ylabel('sum(cfs)', fontsize=14);\n",
    "#ax[0].set_xlabel('year', fontsize=14)\n",
    "ax[0].plot(y_train.index,y_hat_train,'ko',alpha=0.9)\n",
    "ax[0].legend(['actual','predicted'])\n",
    "ax[0].set_title('train data')\n",
    "\n",
    "ax[1].plot(y_test.index,y_test,'bo')\n",
    "ax[1].set_ylabel('sum(cfs)', fontsize=14);\n",
    "#ax[1].set_xlabel('year', fontsize=14)\n",
    "ax[1].plot(y_test.index,y_hat_test,'ko',alpha=0.9)\n",
    "ax[1].legend(['actual','predicted'])\n",
    "ax[1].set_title('test data')\n",
    "plt.suptitle('{}, R2 = {}'.format(figname,str(round(score,3))),fontsize=14)\n",
    "\n",
    "# save fig\n",
    "fig.set_size_inches(16, 10)\n",
    "plt.savefig('{}.png'.format(figname),format='png', dpi=300)"
   ]
  },
  {
   "cell_type": "code",
   "execution_count": 53,
   "metadata": {},
   "outputs": [],
   "source": [
    "def cross_val(X, y, model, n_folds, errortype='RMSE', random_seed=154):\n",
    "    \"\"\"Estimate the in- and out-of-sample error of a model using cross\n",
    "    validation.\n",
    "    \n",
    "    Requirements\n",
    "    ----------\n",
    "    class XyScaler\n",
    "    function rmsle\n",
    " \n",
    "    Parameters\n",
    "    ----------\n",
    " \n",
    "    X: np.array\n",
    "      Matrix of predictors, standardized\n",
    " \n",
    "    y: np.array\n",
    "      Target array, standardized\n",
    " \n",
    "    model: sklearn model object.\n",
    "      The estimator to fit.  Must have fit and predict methods.\n",
    " \n",
    "    n_folds: int\n",
    "      The number of folds in the cross validation.\n",
    "    \n",
    "    errortype: string\n",
    "      either 'RMSE' or 'RMSLE'\n",
    " \n",
    "    random_seed: int\n",
    "      A seed for the random number generator, for repeatability.\n",
    " \n",
    "    Returns\n",
    "    -------\n",
    " \n",
    "    errors, cfs_best: tuple of arrays\n",
    "      errors = (train errors, test errors) for each fold of cross-validation\n",
    "      cfs-best = coefficients selected from minimum test error\n",
    "    \"\"\"\n",
    "    kf = TimeSeriesSplit(n_splits=n_folds)\n",
    "    errorlist = []\n",
    "    cfs = []\n",
    "    for k, (train_index,test_index) in enumerate(kf.split(X)):\n",
    "        # define variables\n",
    "        X_train = X[train_index]\n",
    "        y_train = y[train_index]\n",
    "        X_test = X[test_index]\n",
    "        y_test = y[test_index]\n",
    "        # fit model\n",
    "        model.fit(X_train,y_train)\n",
    "        y_hat_train = model.predict(X_train)\n",
    "        y_hat_test = model.predict(X_test) \n",
    "        # evaluate model\n",
    "        if errortype == 'RMSE':\n",
    "            rmse_train = np.sqrt(mean_squared_error(y_hat_train,y_train))\n",
    "            rmse_test = np.sqrt(mean_squared_error(y_hat_test,y_test))\n",
    "            errorlist.append((rmse_train, rmse_test)) # tuple output\n",
    "        elif errortype == 'RMSLE':\n",
    "            rmsle_train = rmsle(y_train, y_hat_train)\n",
    "            rmsle_test = rmsle(y_test, y_hat_test)\n",
    "            errorlist.append((rmsle_train, rmsle_test)) # tuple output\n",
    "        # store coefficients\n",
    "        cfs.append (model.coef_)\n",
    "    # select best coefficients \n",
    "    errors = np.asarray(errorlist)\n",
    "    idx_min_test_error = errors[:,1].argmin()   \n",
    "    cfs_best = cfs[idx_min_test_error]\n",
    "    \n",
    "    return(errors, cfs_best)"
   ]
  },
  {
   "cell_type": "code",
   "execution_count": 54,
   "metadata": {},
   "outputs": [],
   "source": [
    "def train_at_various_alphas(X, y, model, alphas, n_folds=10, errortype='RMSE', **kwargs):\n",
    "    \"\"\"Train a regularized regression model using cross validation at various\n",
    "    values of alpha.\n",
    "    \n",
    "    requirements\n",
    "    ----------\n",
    "    class XyScaler\n",
    "    function rmsle\n",
    "    function cross_val\n",
    "\n",
    "    Parameters\n",
    "    ----------\n",
    " \n",
    "    X: np.array\n",
    "      Matrix of predictors, standardized\n",
    " \n",
    "    y: np.array\n",
    "      Target array, standardized\n",
    " \n",
    "    model: name of sklearn model class\n",
    "      A class in sklearn that can be used to create a regularized regression\n",
    "      object.  Options are `Ridge` and `Lasso`.\n",
    " \n",
    "    alphas: numpy array\n",
    "      An array of regularization parameters.\n",
    " \n",
    "    n_folds: int\n",
    "      Number of cross validation folds.\n",
    "    \n",
    "    errortype: string\n",
    "      either 'RMSE' or 'RMSLE'\n",
    " \n",
    "    Returns\n",
    "    -------\n",
    " \n",
    "    cv_errors_train, cv_errors_test: tuple of DataFrame\n",
    "      DataFrames containing the training and testing errors for each value of\n",
    "      alpha and each cross validation fold.  Each row represents a CV fold, and\n",
    "      each column a value of alpha.\n",
    "      \n",
    "      Dataframe containing coefficients for each parameter for each alpha\n",
    "    \"\"\"\n",
    "    cv_errors_train = pd.DataFrame(np.empty(shape=(n_folds, len(alphas))),\n",
    "                                     columns=alphas)\n",
    "    cv_errors_test = pd.DataFrame(np.empty(shape=(n_folds, len(alphas))),\n",
    "                                        columns=alphas)\n",
    "    coefs_df = pd.DataFrame(np.empty(shape=(n_folds, len(alphas))),\n",
    "                                        columns=alphas)\n",
    "    for idx, alpha in enumerate(alphas):\n",
    "        errors, coefs = cross_val(X, y, model(alpha), n_folds, errortype='RMSE', random_seed=154)\n",
    "        cv_errors_train.iloc[:,idx] = errors[:,0]\n",
    "        cv_errors_test.iloc[:,idx] = errors[:,1]\n",
    "        #coefs_df.iloc[:,idx] = coefs\n",
    "    return(cv_errors_train, cv_errors_test)#, coefs_df"
   ]
  },
  {
   "cell_type": "code",
   "execution_count": 55,
   "metadata": {},
   "outputs": [],
   "source": [
    "# run a cross validation\n",
    "X = np.array(X_train)\n",
    "y = np.array(y_train)\n",
    "\n",
    "#\n",
    "alpha= 50\n",
    "model = Ridge(alpha)\n",
    "n_folds = 5\n",
    "errors, cfs_best = cross_val(X, y, model, n_folds, errortype='RMSE', random_seed=154)"
   ]
  },
  {
   "cell_type": "code",
   "execution_count": 58,
   "metadata": {},
   "outputs": [],
   "source": [
    "# run an alpha test\n",
    "X = np.array(X_train)\n",
    "y = np.array(y_train)\n",
    "\n",
    "# subsample\n",
    "X_sub = X[:15000]\n",
    "y_sub = y[:15000]\n",
    "\n",
    "\n",
    "model = Lasso # must be 'Ridge' or 'Lasso'\n",
    "# define alphas\n",
    "alphas = np.logspace(-4,6,30)\n",
    "n_folds=10\n",
    "errortype='RMSE'\n",
    "cv_errors_train, cv_errors_test = train_at_various_alphas(X_sub, y_sub, model, alphas, n_folds, errortype)"
   ]
  },
  {
   "cell_type": "code",
   "execution_count": 59,
   "metadata": {},
   "outputs": [
    {
     "name": "stdout",
     "output_type": "stream",
     "text": [
      "min error = 16240.33906066\n",
      "alpha at min error = 18873.918221350996\n"
     ]
    },
    {
     "data": {
      "image/png": "[encoded data removed]",
      "text/plain": [
       "<matplotlib.figure.Figure at 0x1a125ab208>"
      ]
     },
     "metadata": {},
     "output_type": "display_data"
    }
   ],
   "source": [
    "# outputs from alpha testing\n",
    "train_means = cv_errors_train.mean(axis=0)\n",
    "test_means = cv_errors_test.mean(axis=0)\n",
    "# calc min alpha\n",
    "min_idx = test_means.values.argmin()\n",
    "min_alpha = alphas[min_idx]\n",
    "print('min error = {}'.format(np.min(test_means)))\n",
    "print('alpha at min error = {}'.format(min_alpha))\n",
    "\n",
    "fig, axs = plt.subplots(1,1,figsize=(5,5));\n",
    "h1 = axs.plot(alphas,train_means,'b-')\n",
    "h2 = axs.plot(alphas,test_means,'k-')\n",
    "axs.set_xscale('log')\n",
    "axs.invert_xaxis()\n",
    "axs.set_xlabel('alpha')\n",
    "axs.set_ylabel('error')\n",
    "plt.axvline(min_alpha, linestyle='dashed')\n",
    "plt.legend(('train','test'));\n",
    "#axs.set_yscale('log');\n",
    "\n"
   ]
  },
  {
   "cell_type": "code",
   "execution_count": 60,
   "metadata": {},
   "outputs": [
    {
     "data": {
      "text/plain": [
       "(58904, 20)"
      ]
     },
     "execution_count": 60,
     "metadata": {},
     "output_type": "execute_result"
    }
   ],
   "source": [
    "np.shape(X)"
   ]
  },
  {
   "cell_type": "code",
   "execution_count": null,
   "metadata": {},
   "outputs": [],
   "source": []
  },
  {
   "cell_type": "code",
   "execution_count": null,
   "metadata": {},
   "outputs": [],
   "source": []
  },
  {
   "cell_type": "code",
   "execution_count": null,
   "metadata": {},
   "outputs": [],
   "source": []
  },
  {
   "cell_type": "code",
   "execution_count": null,
   "metadata": {},
   "outputs": [],
   "source": []
  },
  {
   "cell_type": "code",
   "execution_count": null,
   "metadata": {},
   "outputs": [],
   "source": [
    "\n"
   ]
  },
  {
   "cell_type": "code",
   "execution_count": null,
   "metadata": {},
   "outputs": [],
   "source": []
  },
  {
   "cell_type": "code",
   "execution_count": null,
   "metadata": {},
   "outputs": [],
   "source": []
  },
  {
   "cell_type": "code",
   "execution_count": null,
   "metadata": {},
   "outputs": [],
   "source": []
  },
  {
   "cell_type": "code",
   "execution_count": null,
   "metadata": {},
   "outputs": [],
   "source": [
    "\n"
   ]
  },
  {
   "cell_type": "code",
   "execution_count": null,
   "metadata": {},
   "outputs": [],
   "source": []
  },
  {
   "cell_type": "code",
   "execution_count": null,
   "metadata": {},
   "outputs": [],
   "source": []
  },
  {
   "cell_type": "code",
   "execution_count": null,
   "metadata": {},
   "outputs": [],
   "source": []
  },
  {
   "cell_type": "code",
   "execution_count": null,
   "metadata": {},
   "outputs": [],
   "source": []
  },
  {
   "cell_type": "code",
   "execution_count": null,
   "metadata": {},
   "outputs": [],
   "source": []
  },
  {
   "cell_type": "code",
   "execution_count": null,
   "metadata": {},
   "outputs": [],
   "source": []
  },
  {
   "cell_type": "code",
   "execution_count": null,
   "metadata": {},
   "outputs": [],
   "source": []
  },
  {
   "cell_type": "code",
   "execution_count": null,
   "metadata": {},
   "outputs": [],
   "source": []
  },
  {
   "cell_type": "code",
   "execution_count": null,
   "metadata": {},
   "outputs": [],
   "source": [
    "\n"
   ]
  },
  {
   "cell_type": "code",
   "execution_count": null,
   "metadata": {},
   "outputs": [],
   "source": []
  },
  {
   "cell_type": "code",
   "execution_count": null,
   "metadata": {},
   "outputs": [],
   "source": []
  },
  {
   "cell_type": "code",
   "execution_count": null,
   "metadata": {},
   "outputs": [],
   "source": []
  },
  {
   "cell_type": "code",
   "execution_count": null,
   "metadata": {},
   "outputs": [],
   "source": []
  },
  {
   "cell_type": "code",
   "execution_count": null,
   "metadata": {},
   "outputs": [],
   "source": []
  },
  {
   "cell_type": "code",
   "execution_count": null,
   "metadata": {},
   "outputs": [],
   "source": []
  },
  {
   "cell_type": "code",
   "execution_count": null,
   "metadata": {},
   "outputs": [],
   "source": []
  },
  {
   "cell_type": "code",
   "execution_count": null,
   "metadata": {},
   "outputs": [],
   "source": []
  },
  {
   "cell_type": "code",
   "execution_count": null,
   "metadata": {},
   "outputs": [],
   "source": []
  },
  {
   "cell_type": "code",
   "execution_count": null,
   "metadata": {},
   "outputs": [],
   "source": []
  },
  {
   "cell_type": "code",
   "execution_count": null,
   "metadata": {},
   "outputs": [],
   "source": []
  }
 ],
 "metadata": {
  "kernelspec": {
   "display_name": "Python 3",
   "language": "python",
   "name": "python3"
  },
  "language_info": {
   "codemirror_mode": {
    "name": "ipython",
    "version": 3
   },
   "file_extension": ".py",
   "mimetype": "text/x-python",
   "name": "python",
   "nbconvert_exporter": "python",
   "pygments_lexer": "ipython3",
   "version": "3.6.4"
  }
 },
 "nbformat": 4,
 "nbformat_minor": 2
}
